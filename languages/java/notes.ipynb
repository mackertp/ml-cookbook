{
 "cells": [
  {
   "cell_type": "markdown",
   "id": "9c61f569-1776-47bc-a5a5-27fe75c9edad",
   "metadata": {},
   "source": [
    "# Java Books\n",
    "\n",
    "Thanks to [Spencer Park](https://github.com/SpencerPark/IJava), a Java kernel can be add to our environemnt. This Notebook is a demonstration of the Kernel. Read the notes provided on Spencer's repo to ensure your install works."
   ]
  },
  {
   "cell_type": "code",
   "execution_count": 1,
   "id": "0ba911e8-2d3b-4365-aee4-99fbd7f2bd02",
   "metadata": {
    "vscode": {
     "languageId": "java"
    }
   },
   "outputs": [
    {
     "name": "stdout",
     "output_type": "stream",
     "text": [
      "Hello, World\n"
     ]
    }
   ],
   "source": [
    "System.out.println(\"Hello, World\");"
   ]
  },
  {
   "cell_type": "code",
   "execution_count": 2,
   "id": "a77e89d1-f865-4bb0-9683-defb642b8af8",
   "metadata": {
    "vscode": {
     "languageId": "java"
    }
   },
   "outputs": [],
   "source": [
    "import java.util.Scanner;"
   ]
  },
  {
   "cell_type": "code",
   "execution_count": 3,
   "id": "250e1f46-ee7b-4213-9e1e-a29600f37551",
   "metadata": {
    "vscode": {
     "languageId": "java"
    }
   },
   "outputs": [],
   "source": [
    "public class Factorial {  \n",
    "    static int factorial(int n){      \n",
    "          if (n == 1)      \n",
    "            return 1;      \n",
    "          else      \n",
    "            return(n * factorial(n-1));      \n",
    "    }      \n",
    "  \n",
    "    public void findFactorial() {\n",
    "        /* \n",
    "         * read a number from the user and display it's factorial\n",
    "         */\n",
    "        Scanner scan = new Scanner(System.in);\n",
    "        System.out.print(\"Enter a number: \");\n",
    "        int num = scan.nextInt();\n",
    "        scan.close();\n",
    "        \n",
    "        // find the factorial\n",
    "        String return_string = String.format(\"The factorial of %d is: \", num); \n",
    "        System.out.println(return_string + factorial(num));  \n",
    "    }  \n",
    "}"
   ]
  },
  {
   "cell_type": "code",
   "execution_count": 4,
   "id": "fba162c9-25b5-4368-870f-17d388c33113",
   "metadata": {
    "vscode": {
     "languageId": "java"
    }
   },
   "outputs": [
    {
     "name": "stdout",
     "output_type": "stream",
     "text": [
      "Enter a number: "
     ]
    },
    {
     "name": "stdout",
     "output_type": "stream",
     "text": [
      " 6\n"
     ]
    },
    {
     "name": "stdout",
     "output_type": "stream",
     "text": [
      "The factorial of 6 is: 720\n"
     ]
    }
   ],
   "source": [
    "Factorial myfac = new Factorial();\n",
    "myfac.findFactorial();"
   ]
  },
  {
   "cell_type": "markdown",
   "id": "f7ce68be-c2c2-412c-bbfe-2be390467bd7",
   "metadata": {},
   "source": [
    "## Frameworks\n",
    "\n",
    "Java is widely regarded as an \"enterprise\" language that is used for large, scalable applications. When you need to build a robust application with embedded business logic, [JavaFx](https://openjfx.io/) is an excellent framework that can help develoeprs build their application."
   ]
  }
 ],
 "metadata": {
  "kernelspec": {
   "display_name": "Java",
   "language": "java",
   "name": "java"
  },
  "language_info": {
   "codemirror_mode": "java",
   "file_extension": ".jshell",
   "mimetype": "text/x-java-source",
   "name": "Java",
   "pygments_lexer": "java",
   "version": "18.0.1.1+2-6"
  }
 },
 "nbformat": 4,
 "nbformat_minor": 5
}
