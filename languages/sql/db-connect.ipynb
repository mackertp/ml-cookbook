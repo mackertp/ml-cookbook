{
 "cells": [
  {
   "cell_type": "markdown",
   "id": "81e743d1-7fe0-4c42-886c-f088bf98b4c8",
   "metadata": {
    "tags": []
   },
   "source": [
    "# SQL & Database Connections\n",
    "A lot of data that is collected and used for analytics is processed with *Structured Query Language*, or more simply SQL. Thanks to Jupyter being based on python kernels, it is easy to connect a database and start writing SQL queries from within a notebook environemnt.\n",
    "\n",
    "First, you'll need a database to connect to. The standard way to interface with relational databases is defined in [PEP 249 Python Database API Specification v2.0](https://legacy.python.org/dev/peps/pep-0249/)."
   ]
  },
  {
   "cell_type": "markdown",
   "id": "9644635b-011d-4d09-bfb0-b3831b67d986",
   "metadata": {},
   "source": [
    "## Establishing a Connection\n",
    "\n",
    "Below is a simple example of how to connect into a [PostgreSQL database](https://www.postgresql.org/). I am using this database for an example [Django project](https://github.com/mackertp/decoupled_dj). Databases are used as downstream mechanisms for storing data. Applications are built off of them to provide back insights and value. The collection of data can become unwieldy and [constrataints](https://vertabelo.com/blog/database-constraints-types/#:~:text=Database%20constraints%20are%20a%20key,or%20deleted) must always be taken into consideration. \n",
    "\n",
    "I will use [SQLAlchemy](https://docs.sqlalchemy.org/en/14/intro.html) to demonstrate how we can quickly connect into this database with python to analyze data. Always write well-documented processes for what it is you plan to do with data that is extracted out of a database. "
   ]
  },
  {
   "cell_type": "code",
   "execution_count": 1,
   "id": "f600deac-4a20-4179-bfa5-cb317c7c5ca7",
   "metadata": {},
   "outputs": [],
   "source": [
    "import os\n",
    "import sqlalchemy\n",
    "import pandas as pd"
   ]
  },
  {
   "cell_type": "code",
   "execution_count": 2,
   "id": "bfe4b10f-9120-4051-9b30-bd4193079f44",
   "metadata": {},
   "outputs": [
    {
     "data": {
      "text/plain": [
       "'1.4.52'"
      ]
     },
     "execution_count": 2,
     "metadata": {},
     "output_type": "execute_result"
    }
   ],
   "source": [
    "sqlalchemy.__version__"
   ]
  },
  {
   "cell_type": "markdown",
   "id": "66d8d6f0-ff32-416c-9b05-901d43c1be00",
   "metadata": {},
   "source": [
    "Always use environment variables when looking to access a database or system API. This adds a needed layer of security to your processes."
   ]
  },
  {
   "cell_type": "code",
   "execution_count": 3,
   "id": "abb164f5-93e9-4302-9f2d-4fc05ff0b64f",
   "metadata": {},
   "outputs": [],
   "source": [
    "user=os.environ['DB_USER']\n",
    "password=os.environ['DB_PASSWORD']\n",
    "host=os.environ['DB_HOST']\n",
    "dbname=os.environ['DB_NAME']\n",
    "port=os.environ['DB_PORT']"
   ]
  },
  {
   "cell_type": "markdown",
   "id": "6fb7b3a2-d17e-4eab-854e-de64dc4eae62",
   "metadata": {},
   "source": [
    "SQLAlchemy is based on the concept of an \"engine\" take a look at the documentation linked above, and the diagram below.\n",
    "\n",
    "![](https://docs.sqlalchemy.org/en/14/_images/sqla_arch_small.png)"
   ]
  },
  {
   "cell_type": "code",
   "execution_count": 4,
   "id": "d16bfc74-2ea1-4552-9baa-18d37560760e",
   "metadata": {},
   "outputs": [],
   "source": [
    "engine = sqlalchemy.create_engine(\n",
    "    'postgresql+psycopg2://{}:{}@{}/{}'.format(user, password, host, dbname)\n",
    ")"
   ]
  },
  {
   "cell_type": "markdown",
   "id": "e5565137-be5e-47f5-b913-34d9ab5933ee",
   "metadata": {},
   "source": [
    "## Querying Data\n",
    "\n",
    "Once you are connected to a databse, you're typically going to try and query/format data that needs to be analyzed. To do this, we can write SQL queries and then use pandas to load the result into a dataframe. I encourage you at this stage to beef up your python skills by referencing my notebooks in the *Python* folder."
   ]
  },
  {
   "cell_type": "code",
   "execution_count": 5,
   "id": "f24c94cf-0ac9-4c4e-b249-eb4dcc96f5c6",
   "metadata": {},
   "outputs": [],
   "source": [
    "sql = \"\"\"\n",
    "SELECT id, object_id, user_id, action_time\n",
    "FROM django_admin_log;\n",
    "\"\"\""
   ]
  },
  {
   "cell_type": "markdown",
   "id": "db49d19b-fd2c-4432-b54f-d3c21741822d",
   "metadata": {},
   "source": [
    "This is a simple query for demonstration purposes. You'll see the users that have been created through my Django project."
   ]
  },
  {
   "cell_type": "code",
   "execution_count": 6,
   "id": "623ecb7f-08c3-4fa7-9b86-0cf1cc6db0d5",
   "metadata": {},
   "outputs": [
    {
     "data": {
      "text/html": [
       "<div>\n",
       "<style scoped>\n",
       "    .dataframe tbody tr th:only-of-type {\n",
       "        vertical-align: middle;\n",
       "    }\n",
       "\n",
       "    .dataframe tbody tr th {\n",
       "        vertical-align: top;\n",
       "    }\n",
       "\n",
       "    .dataframe thead th {\n",
       "        text-align: right;\n",
       "    }\n",
       "</style>\n",
       "<table border=\"1\" class=\"dataframe\">\n",
       "  <thead>\n",
       "    <tr style=\"text-align: right;\">\n",
       "      <th></th>\n",
       "      <th>id</th>\n",
       "      <th>object_id</th>\n",
       "      <th>user_id</th>\n",
       "      <th>action_time</th>\n",
       "    </tr>\n",
       "  </thead>\n",
       "  <tbody>\n",
       "    <tr>\n",
       "      <th>0</th>\n",
       "      <td>1</td>\n",
       "      <td>1</td>\n",
       "      <td>1</td>\n",
       "      <td>2024-02-03 03:29:48.615858-05:00</td>\n",
       "    </tr>\n",
       "    <tr>\n",
       "      <th>1</th>\n",
       "      <td>2</td>\n",
       "      <td>1</td>\n",
       "      <td>1</td>\n",
       "      <td>2024-02-03 03:32:14.628012-05:00</td>\n",
       "    </tr>\n",
       "    <tr>\n",
       "      <th>2</th>\n",
       "      <td>3</td>\n",
       "      <td>2</td>\n",
       "      <td>1</td>\n",
       "      <td>2024-02-03 03:34:39.767846-05:00</td>\n",
       "    </tr>\n",
       "    <tr>\n",
       "      <th>3</th>\n",
       "      <td>4</td>\n",
       "      <td>2</td>\n",
       "      <td>1</td>\n",
       "      <td>2024-02-03 03:35:12.900028-05:00</td>\n",
       "    </tr>\n",
       "    <tr>\n",
       "      <th>4</th>\n",
       "      <td>5</td>\n",
       "      <td>1</td>\n",
       "      <td>1</td>\n",
       "      <td>2024-02-03 03:35:34.619230-05:00</td>\n",
       "    </tr>\n",
       "  </tbody>\n",
       "</table>\n",
       "</div>"
      ],
      "text/plain": [
       "   id object_id  user_id                       action_time\n",
       "0   1         1        1  2024-02-03 03:29:48.615858-05:00\n",
       "1   2         1        1  2024-02-03 03:32:14.628012-05:00\n",
       "2   3         2        1  2024-02-03 03:34:39.767846-05:00\n",
       "3   4         2        1  2024-02-03 03:35:12.900028-05:00\n",
       "4   5         1        1  2024-02-03 03:35:34.619230-05:00"
      ]
     },
     "execution_count": 6,
     "metadata": {},
     "output_type": "execute_result"
    }
   ],
   "source": [
    "users = pd.read_sql_query(sql, engine)\n",
    "users.head()"
   ]
  },
  {
   "cell_type": "markdown",
   "id": "71ae8575-f65a-4aff-8de1-07fd53011a51",
   "metadata": {},
   "source": [
    "<p style=\"color:green; font-size:24px; font-style: italic;\">“The cost of a thing is the amount of what I will call life which is required to be exchanged for it, immediately or in the long run.”</p>\n",
    "\n",
    "<p style=\"font-weight: bold;\">― Henry David Thoreau, Walden</p>"
   ]
  }
 ],
 "metadata": {
  "kernelspec": {
   "display_name": "Python 3 (ipykernel)",
   "language": "python",
   "name": "python3"
  },
  "language_info": {
   "codemirror_mode": {
    "name": "ipython",
    "version": 3
   },
   "file_extension": ".py",
   "mimetype": "text/x-python",
   "name": "python",
   "nbconvert_exporter": "python",
   "pygments_lexer": "ipython3",
   "version": "3.12.3"
  },
  "vscode": {
   "interpreter": {
    "hash": "aee8b7b246df8f9039afb4144a1f6fd8d2ca17a180786b69acc140d282b71a49"
   }
  }
 },
 "nbformat": 4,
 "nbformat_minor": 5
}
