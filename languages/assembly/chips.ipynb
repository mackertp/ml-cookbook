{
 "cells": [
  {
   "cell_type": "code",
   "execution_count": 1,
   "id": "30052771-5de2-48aa-abf8-8f7f4ee0339a",
   "metadata": {
    "jupyter": {
     "source_hidden": true
    },
    "tags": []
   },
   "outputs": [
    {
     "data": {
      "text/html": [
       "<style>\n",
       "    table {\n",
       "        margin-left: 0 !important;\n",
       "        margin-right: auto !important;\n",
       "        text-align: left;\n",
       "    }\n",
       "    th, td {\n",
       "        text-align: left !important;\n",
       "    }\n",
       "</style>\n"
      ],
      "text/plain": [
       "<IPython.core.display.HTML object>"
      ]
     },
     "metadata": {},
     "output_type": "display_data"
    }
   ],
   "source": [
    "%%html\n",
    "<style>\n",
    "    table {\n",
    "        margin-left: 0 !important;\n",
    "        margin-right: auto !important;\n",
    "        text-align: left;\n",
    "    }\n",
    "    th, td {\n",
    "        text-align: left !important;\n",
    "    }\n",
    "</style>"
   ]
  },
  {
   "cell_type": "markdown",
   "id": "c71e2ce5-13cd-412d-a2a4-40de1e46996e",
   "metadata": {
    "tags": []
   },
   "source": [
    "# Computer Chips\n",
    "\n",
    "Advancements in \"Assembly\" languages are best understood by researching [the largest semiconductor manufacturers](https://www.investopedia.com/articles/markets/012216/worlds-top-10-semiconductor-companies-tsmintc.asp) and their products, often referred to as \"computer chips\". [#GodBlessTaiwain](https://youtu.be/bf1W-_x6Rvo?si=JKGV83M4mWspTWEu).\n",
    "\n",
    "Semiconductors are the foundation of all modern electronics, they are materials that can conduct electricity under certain conditions - not as freely as a conductor like copper, but not as poorly as an insulator like rubber. Computer hardware components all have a \"control unit\" that is built using semiconductors. This control unit interprets machine code ([binary](https://en.wikipedia.org/wiki/Binary_code) - 1 or 0), which triggers the appropriate circuits and logic gates to achieve some goal or task created by you, some other human programmer, or the machine itself.\n",
    "\n",
    "People interact with computers through \"software\". I use software with quotes because it's vast - everything you do on a computer is done with the help of software. All software is created by \"code\" written in a computer language that translates human readable instructions into machine code. Computer hardware usually ships with a base software installed by the chip manufacturer. Most people will access that software as an end user of the product. \n",
    "\n",
    "## Rise of Graphics Cards\n",
    "\n",
    "A GPU (Graphics Processing Unit) is a piece of hardware that works in tandem with a CPU (Central Processing Unit) to accelerate computation (*see assembly notebook*). Tasks like graphics rendering, scientific computing, and machine learning benefit from the parallelism provided by GPUs. This kind of horsepower has also benefited the field of [robotics](https://youtu.be/Y8VyMQ22YxI?si=q4cup-6at2g3rN-h).\n",
    "\n",
    "# Energy Requirements & New Hardware\n",
    "\n",
    "All computers start with electricity that flows through [logic gates](https://en.wikipedia.org/wiki/Logic_gate). The simplest gate you can think of is a light switch - it turns an electrical current on and off from a stored supply of electrical power (a battery or grid).\n",
    "\n",
    "Electricity has a bit of a journey before it finds itself in a stored supply. It typically originates from a large-scale generation process that converts some form of energy into electrical energy, which is then delivered to your outlet from a power grid - where it is stored. \n",
    "\n",
    "That energy source comes from one of the following:\n",
    "\n",
    "\n",
    "| Source                           | How It Works                                         |\n",
    "| -------------------------------- | ---------------------------------------------------- |\n",
    "| 🔥 Fossil Fuels (coal, gas, oil) | Burned to boil water → steam turns turbines          |\n",
    "| 🌊 Hydroelectric                 | Flowing water spins turbines                         |\n",
    "| 🌞 Solar                         | Photovoltaic panels convert light into electricity   |\n",
    "| 💨 Wind                          | Wind turns blades connected to a turbine             |\n",
    "| ☢️ Nuclear                       | Nuclear fission heats water → steam turns turbines   |\n",
    "| 🌍 Geothermal                    | Underground heat turns water into steam for turbines |\n",
    "\n",
    "In 2025, the world continues to push advancements into clean energy solutions. For the first time in history, solutions exist that can give you [a fully sustainable, environmentally friendly power solution](https://www.youtube.com/watch?v=LazSsMubfwE). Advanced product development is helping make this look aesthetically pleasing too!\n",
    "\n",
    "<img\n",
    "     src='https://s3.amazonaws.com/solarassets/wp-content/uploads/2019/06/pkms_tesla-solar-roof_blog-1.jpg' \n",
    "     width='320px'\n",
    "/>\n",
    "\n",
    "All these methods ultimately spin a turbine that is connected to a generator using [electromagnetic induction](https://en.wikipedia.org/wiki/Electromagnetic_induction) (the generator moves a magnet around a coil of wire) to generate electricity. \n",
    "\n",
    "The energy is then transmitted over high-voltage power lines into storage devices, which include:\n",
    "\n",
    "| Storage Type                    | Stored As                                                     |\n",
    "| ------------------------------- | ------------------------------------------------------------- |\n",
    "| 🔋 Batteries (laptop, UPS)        | Chemical energy                                               |\n",
    "| ⚡ Electrical Grids               | Potential energy (via infrastructure, sometimes pumped hydro) |\n",
    "| 🔆 Solar Panel Systems + Batteries | Solar → chemical (battery)                                    |\n",
    "| 🧊 Fuel in Generators            | Chemical (diesel, gasoline)                                   |\n",
    "\n",
    "The voltage is controlled through \"transformers\", which are included throughout the transmission process:\n",
    "\n",
    "| Stage              | Voltage                | Transformer Use                            |\n",
    "| ------------------ | ---------------------- | ------------------------------------------ |\n",
    "| Power Plant        | \\~25,000 V             | Step-up to \\~500,000 V for transmission    |\n",
    "| Transmission Lines | \\~500,000 V            | Long-distance travel with low energy loss  |\n",
    "| Substation         | \\~500,000 V → 12,000 V | Step-down for distribution                 |\n",
    "| Pole/Meter Box     | \\~12,000 V → 120/240 V | Final step-down to home voltage            |\n",
    "| Charger/Adapter    | 120V → 5V              | Tiny transformer inside your phone charger |\n",
    "\n",
    "Once stored, the electrical current can flow to your computer’s power supply where it determines if the current should be turned off or sent to your [motherboard](https://en.wikipedia.org/wiki/Motherboard) for further instructions. \n",
    "\n",
    "# Quantum Computing\n",
    "\n",
    "So, we've got electricity from a power supply (sometimes clean, sometimes not). Now what?\n",
    "\n",
    "Today we feed that current into our computer through it's power supply, which turns on the [BIOS](https://en.wikipedia.org/wiki/BIOS) - a special software written by the manufacturer of your motherboard to instruct all the other components in your computer what to do. You can understand how it got the name.\n",
    "\n",
    "The BIOS instructs your computer's hardware to launch your operating system. That operating system enables you to do any and everything that you've ever accomplished on your computer (unless you wrote one of the BIOS programs I guess) - pretty neat - however... your computer still adheres to the basic economic principle of supply and demand:\n",
    "\n",
    "<img\n",
    "     src='https://upload.wikimedia.org/wikipedia/commons/8/8c/Supply-demand-equilibrium.svg' \n",
    "     width='200px'\n",
    "/>\n",
    "\n",
    "Naturally, we're curious beings who keep [demanding more of our computers](https://youtube.com/shorts/BQ-29lEpalc?si=nMrdCynhXruQ69Fm) and continue to defy things previously thought to be impossible. To handle our hunger for more power, a new field has emerged in computation called Quantam Computing. These new computers are still heavily dependent on semi-conductors to operate.\n",
    "\n",
    "Everything discussed above you can refer to as \"Classical Computing\". A good, [conceptual understanding is provided here](https://youtu.be/qQviI1d_hFA?si=AqI7AvutcNuastRn). Tying this back to our classical economic theory of supply and demand, below compares quantum to \"cloud computing\":\n",
    "\n",
    "| Aspect                  | **Quantum Computing**                        | **Cloud Computing (early 2000s–2020s)**                  |\n",
    "| ----------------------- | -------------------------------------------- | -------------------------------------------------------- |\n",
    "| **Initial Supply**      | Extremely limited (few labs & firms)         | Few providers (AWS started 2006, followed by Azure, GCP) |\n",
    "| **Initial Demand**      | Niche (government, R\\&D)                     | Niche (startups, devs, web apps)                         |\n",
    "| **Initial Price**       | Very high per machine/hour (millions+)       | High at first, pay-as-you-go model emerged               |\n",
    "| **Supply Curve**        | Very steep — slow increase due to complexity | Steep early, flattened as data centers scaled            |\n",
    "| **Demand Curve**        | Flat today, expected to steepen later        | Grew steadily with SaaS, mobile, and enterprise adoption |\n",
    "| **Current Equilibrium** | Low quantity, high price                     | High quantity, moderate price                            |\n",
    "\n",
    "\n",
    "The leaders in this space include IBM, Google, and Microsoft. Their quantum computers are incredibly powerful. In classical computing, [bits](https://en.wikipedia.org/wiki/Bit) are the lowest level of \"data\". Quantum computers have [qubits](https://en.wikipedia.org/wiki/Qubit). For a better understanding, [take a quick tour inside Google's lab](https://youtu.be/9x0Yx0x0ugk?si=6qE7fujpLDw33lVZ).\n",
    "\n",
    "Nice design aesthetic on the qubits.\n",
    "\n",
    "<img\n",
    "     src='https://i0.wp.com/jimmystable.com/wp-content/uploads/2022/10/jesus-winking-thumbs-up.jpg?resize=1566%2C600&ssl=1' \n",
    "     width='250px'\n",
    "/>\n",
    "\n",
    "[IBM's Quantum Roadmap](https://youtu.be/_y43boNNoVo?si=c0j-N8vMXcMM5xuy) gives a great overview of what is ahead in the field. Below, we'll take a quick look at the [Qiskit SDK](https://quantum.cloud.ibm.com/docs/en/guides). IBM is so gracious that they have blessed everyone with 10 whole minutes per month of runtime to [run experiments for free!](https://youtu.be/VxZ_EIZMiqs?si=rrrmxEaXzEZiOkrl)\n",
    "\n",
    "## Start Somewhere\n",
    "\n",
    "There are four steps to writing a quantum program using Qiskit patterns:\n",
    "\n",
    "1. Map the problem to a quantum-native format.\n",
    "2. Optimize the circuits and operators.\n",
    "3. Execute using a quantum primitive function.\n",
    "4. Analyze the results."
   ]
  },
  {
   "cell_type": "code",
   "execution_count": 2,
   "id": "1ab8e0c3-cebd-4a78-b0e5-f6a5fcb30436",
   "metadata": {
    "tags": []
   },
   "outputs": [
    {
     "name": "stdout",
     "output_type": "stream",
     "text": [
      "0.40.1\n"
     ]
    }
   ],
   "source": [
    "import os\n",
    "import qiskit as qs\n",
    "import qiskit_ibm_runtime as ibm\n",
    "from matplotlib import pyplot as plt\n",
    "from dotenv import load_dotenv\n",
    "print(ibm.__version__)"
   ]
  },
  {
   "cell_type": "code",
   "execution_count": 3,
   "id": "552547e6-fafb-40b5-893e-84d95a7a4251",
   "metadata": {
    "tags": []
   },
   "outputs": [
    {
     "data": {
      "text/plain": [
       "True"
      ]
     },
     "execution_count": 3,
     "metadata": {},
     "output_type": "execute_result"
    }
   ],
   "source": [
    "load_dotenv()"
   ]
  },
  {
   "cell_type": "markdown",
   "id": "bef34447-faa8-46ea-a4a9-cd52e1746bbe",
   "metadata": {},
   "source": [
    "### Step 1. Map the problem to a quantum-native format\n",
    "\n",
    "On quantum computers, problems need to be represented in a format that a qubit can understand (superposition). Programmers can create quantum circuits, which are like recipes instructing a quantum computer on what to do.\n",
    "\n",
    "For a quantam program, we first create a circuit that produces a [Bell state](https://en.wikipedia.org/wiki/Bell_state) - where two quibits are fully entangled with each other."
   ]
  },
  {
   "cell_type": "code",
   "execution_count": 4,
   "id": "42bc825c-5c62-4c45-8f4f-c9d107292aef",
   "metadata": {
    "tags": []
   },
   "outputs": [],
   "source": [
    "# create a new circuit with two qubits\n",
    "qc = qs.QuantumCircuit(2)"
   ]
  },
  {
   "cell_type": "markdown",
   "id": "7c5e6a5d-5e20-4f1d-8a1b-d9d8e5324fa0",
   "metadata": {},
   "source": [
    "Quantum circuits are the native format to represent instructions for a program. Operators represent the observables to be measured. When desigining a circuit, you usually create a new QuantumCircuit object, then add instructions to that object.\n",
    "\n",
    "The code below intructs the quantum computer to add a Hadamard [logic gate](https://en.wikipedia.org/wiki/Quantum_logic_gate) to the first qubit, then insructs the second qubit to add a Controlled-X gate so that it can react to the first qubit. These two qubits are now entagled, meaning you cannot describe one without the other going forward. If the first qubit is 1, then the second will also be 1. If it is 0, then the second will also be 0."
   ]
  },
  {
   "cell_type": "code",
   "execution_count": 5,
   "id": "39553edb-76d2-4bbf-b9f0-5a49069ec38b",
   "metadata": {
    "tags": []
   },
   "outputs": [
    {
     "data": {
      "image/png": "[encoded data removed]",
      "text/plain": [
       "<Figure size 287.294x200.667 with 1 Axes>"
      ]
     },
     "execution_count": 5,
     "metadata": {},
     "output_type": "execute_result"
    }
   ],
   "source": [
    "qc.h(0)\n",
    "# perform a controlled-x gate on qubit 1, controlled by qubit 0\n",
    "qc.cx(0, 1)\n",
    "qc.draw('mpl')"
   ]
  },
  {
   "cell_type": "markdown",
   "id": "a3670cb8-3ec9-496b-baba-39404fe3ac6e",
   "metadata": {},
   "source": [
    "When designing a quantum circuit, the data that you expect to be returned after execution needs to be defined. There are two ways to do this with Qiskit: \n",
    "\n",
    "1. Obtain a probability distribution for a set of qubits you choose to measure\n",
    "2. Obtain the expectation value of an observable. \n",
    "\n",
    "The example below measures expectation values by using the qiskit.quantum_info submodule, which is specified by using operators (mathematical objects used to represent an action or process that changes a quantum state). \n",
    "\n",
    "The following code cell creates six two-qubit Pauli operators: IZ, IX, ZI, XI, ZZ, and XX."
   ]
  },
  {
   "cell_type": "code",
   "execution_count": 6,
   "id": "1a941ac6-cc48-41d7-a343-a950adfb37d3",
   "metadata": {
    "tags": []
   },
   "outputs": [],
   "source": [
    "# set up six different observables\n",
    "observables_labels = ['IZ', 'IX', 'ZI', 'XI', 'ZZ', 'XX']\n",
    "observables = [qs.quantum_info.SparsePauliOp(label) for label in observables_labels]"
   ]
  },
  {
   "cell_type": "markdown",
   "id": "3a382cc3-b5e5-4743-8fa0-517e22c1cc58",
   "metadata": {},
   "source": [
    "Each label like 'IZ' or 'XX' is a Pauli string — a combination of operators for each qubit.\n",
    "\n",
    "| Label | Qubit 0 | Qubit 1 | Meaning                                           |\n",
    "| ----- | ------- | ------- | ------------------------------------------------- |\n",
    "| IZ    | I       | Z       | Ignore qubit 0, measure Z (up/down) on qubit 1    |\n",
    "| IX    | I       | X       | Ignore qubit 0, measure X (left/right) on qubit 1 |\n",
    "| ZI    | Z       | I       | Measure Z on qubit 0, ignore qubit 1              |\n",
    "| XI    | X       | I       | Measure X on qubit 0, ignore qubit 1              |\n",
    "| ZZ    | Z       | Z       | Measure Z on **both**, see if they align          |\n",
    "| XX    | X       | X       | Measure X on **both**, see if they align          |\n",
    "\n",
    "Imagine that your quantum computer is observing two coins (the qubits), instead of just checking for heads or tails, we rotate the camera to look from the side:\n",
    "\n",
    "- Z: Above (Heads or Tails)\n",
    "- X: Side Angle (Quantum Left/Right)\n",
    "- I: Don't look at the other one\n",
    "\n",
    "The observables allow us \"peek\" at the coins from all directions to figure out how they behave together. We're preparing to analyze the quantum system’s behavior from multiple viewpoints to determine if it's behaving the way we designed it."
   ]
  },
  {
   "cell_type": "markdown",
   "id": "833112e0-9a03-4874-940f-ddb65a0a6091",
   "metadata": {},
   "source": [
    "### Step 2. Optimize the circuits and operators\n",
    "\n",
    "When executing circuits on a device, it is important to optimize the set of instructions that the circuit contains and minimize the overall depth (roughly the number of instructions) of the circuit. This ensures that you obtain the best results possible by reducing the effects of error and noise. Additionally, the circuit's instructions must conform to a backend device's Instruction Set Architecture (ISA) and must consider the device's basis gates and qubit connectivity.\n",
    "\n",
    "The following code instantiates a real device to submit a job to and transforms the circuit and observables to match that backend's ISA. It requires that you have already set up an API key and instance on [IBM Quantum Platform](https://quantum.cloud.ibm.com/)."
   ]
  },
  {
   "cell_type": "code",
   "execution_count": 7,
   "id": "8e0507f5-a9a9-4874-a901-1522d6405d6d",
   "metadata": {
    "tags": []
   },
   "outputs": [],
   "source": [
    "service = ibm.QiskitRuntimeService(\n",
    "    channel='ibm_cloud', \n",
    "    token=os.environ.get('IBM_QUANTUM_KEY'),\n",
    "    instance=os.environ.get('IBM_QUANTUM_CRN')\n",
    ")"
   ]
  },
  {
   "cell_type": "code",
   "execution_count": 8,
   "id": "df1ac60b-506d-4089-a7f9-53d35259f478",
   "metadata": {
    "tags": []
   },
   "outputs": [],
   "source": [
    "backend = service.least_busy(simulator=False, operational=True)"
   ]
  },
  {
   "cell_type": "code",
   "execution_count": 9,
   "id": "8e419394-7069-4fd4-9291-1d7ae04f0acc",
   "metadata": {
    "tags": []
   },
   "outputs": [],
   "source": [
    "# convert to an ISA circuit and layout-mapped observables.\n",
    "pm = qs.transpiler.generate_preset_pass_manager(backend=backend, optimization_level=1)\n",
    "isa_circuit = pm.run(qc)"
   ]
  },
  {
   "cell_type": "markdown",
   "id": "bd6abf9f-cc1f-4fe6-99b0-c7964fe4b270",
   "metadata": {},
   "source": [
    "What just happened?\n",
    "\n",
    "We took the clean, ideal quantum circuit (qc) and translated it into something a real machine can understand and process — including all the quirks and limitations of that specific machine. This process is called transpilation.\n",
    "\n",
    "The \"backend\" variable is the actual quantum computer (or simulator) being used. Different backends have different rules:\n",
    "- Some can’t directly connect certain qubits.\n",
    "- Some can’t run specific gate combinations.\n",
    "- Some gates are more “expensive” or error-prone.\n",
    "\n",
    "Our clean textbook circuit might be beautiful, but the real device can't handle it directly and wants to rephrase it. We create a \"pass manager\" (pm) to ask the computer for a pre-built set of steps that prepares the quantum circuit to run well on this selected backend.\n",
    "\n",
    "Transpilation is needed because quantum computers are:\n",
    "- Noisy\n",
    "- Limited in connectivity (not every qubit can talk to every other)\n",
    "- Constrained in supported gates\n",
    "\n",
    "The \"isa_circuit\" is the machine-level version of the original circuit (qc), now ready to run on the specific backend configured from IBM's hardware."
   ]
  },
  {
   "cell_type": "code",
   "execution_count": 10,
   "id": "2c81bc90-35ed-4854-9b56-cfc3b96f2d21",
   "metadata": {},
   "outputs": [
    {
     "data": {
      "image/png": "[encoded data removed]",
      "text/plain": [
       "<Figure size 757.83x200.667 with 1 Axes>"
      ]
     },
     "execution_count": 10,
     "metadata": {},
     "output_type": "execute_result"
    }
   ],
   "source": [
    "isa_circuit.draw('mpl', idle_wires=False)"
   ]
  },
  {
   "cell_type": "markdown",
   "id": "06485641-4064-43fa-9613-c082295ac903",
   "metadata": {},
   "source": [
    "### Step 3. Execute using the quantum primitives\n",
    "\n",
    "Since quantum computers can produce random results, their use cases are predominately for problems of *estimation* or *classification*, which you can learn about with classical machine-learning techniques.\n",
    "\n",
    "For this reason, we want to collect a sample of the outputs from the computer by running our circuit many times. We can estimate the value of the observable by using IBM's Quiskit estimator class. "
   ]
  },
  {
   "cell_type": "code",
   "execution_count": 11,
   "id": "4da96959-d140-4fb8-83ff-2aeb9847446d",
   "metadata": {
    "tags": []
   },
   "outputs": [],
   "source": [
    "# construct the estimator instance.\n",
    "estimator = ibm.EstimatorV2(mode=backend)\n",
    "estimator.options.resilience_level = 1\n",
    "estimator.options.default_shots = 5000"
   ]
  },
  {
   "cell_type": "markdown",
   "id": "50568066-3a70-45da-8d73-8ded4c84fc84",
   "metadata": {},
   "source": [
    "Estimator is one of two primitives; the other is Sampler, which can be used to get data from a quantum computer. These objects possess a run() method that executes the selection of circuits, observables, and parameters (if applicable), using a primitive unified bloc (PUB).\n",
    "\n",
    "Below, we'll keep moving forward with the estimator. Take the cleanly defined observables ('ZZ', 'XX', etc.) and map them to match the layout of the transpiled (hardware-ready) isa_circuit:"
   ]
  },
  {
   "cell_type": "code",
   "execution_count": 12,
   "id": "915ed4fd-722c-4171-90b9-cc7619373d17",
   "metadata": {},
   "outputs": [],
   "source": [
    "mapped_observables = [\n",
    "    observable.apply_layout(isa_circuit.layout) for observable in observables\n",
    "]"
   ]
  },
  {
   "cell_type": "markdown",
   "id": "0c516b7a-12ed-4b23-bb69-429ea923c96f",
   "metadata": {},
   "source": [
    "If you skip this step, your results might be nonsense. You’d be looking at the wrong physical qubits, it'd be like checking the wrong thermometer in a science experiment.\n",
    "\n",
    "Once we have the machine-ready circuit and our observables are mapped we can run our simulation on the quantum machine. We set our estimator to run the circuit 5,000 times (default shots):"
   ]
  },
  {
   "cell_type": "code",
   "execution_count": 13,
   "id": "2b3bbf2b-120e-44ea-935c-5dcb30652964",
   "metadata": {
    "tags": []
   },
   "outputs": [],
   "source": [
    "# one pub, with one circuit to run against five different observables.\n",
    "job = estimator.run([(isa_circuit, mapped_observables)])"
   ]
  },
  {
   "cell_type": "markdown",
   "id": "b9030c45-0f5b-447b-98ca-a00ce0d342c1",
   "metadata": {},
   "source": [
    "After a job is submitted, you can wait until either the job is completed within your current python instance, or use the job_id to retrieve the data at a later time. (See the section on retrieving jobs for details.)"
   ]
  },
  {
   "cell_type": "code",
   "execution_count": 14,
   "id": "c621f277-304b-4570-8caa-2cb3d4df613c",
   "metadata": {
    "tags": []
   },
   "outputs": [
    {
     "name": "stdout",
     "output_type": "stream",
     "text": [
      ">>> Job ID: d23q4e3j3jks73f5qvpg\n"
     ]
    }
   ],
   "source": [
    "print(f'>>> Job ID: {job.job_id()}')"
   ]
  },
  {
   "cell_type": "markdown",
   "id": "cd6dd3a3-640c-4c3c-8e48-7355c501868c",
   "metadata": {},
   "source": [
    "After the job completes, examine its output through the job's result() attribute."
   ]
  },
  {
   "cell_type": "code",
   "execution_count": 15,
   "id": "76a523f3-cb7e-4d36-a4c0-7d7038ec67ab",
   "metadata": {
    "tags": []
   },
   "outputs": [],
   "source": [
    "job_result = job.result() # result of the entire submission\n",
    "pub_result = job.result()[0] # result from our single pub, which had six observables"
   ]
  },
  {
   "cell_type": "markdown",
   "id": "7d9f16a1-b931-48f7-87da-6d40e82455ce",
   "metadata": {},
   "source": [
    "pub_result is IBM’s internal container when returning from primitive runs (in this case, from the estimator). It returnd:\n",
    "- The data (the expectation values or measurement counts)\n",
    "- The metadata (backend settings, error mitigation, number of shots, etc.)"
   ]
  },
  {
   "cell_type": "markdown",
   "id": "b4dd6e3e-ce99-44fc-b83e-fc6ef4900dda",
   "metadata": {},
   "source": [
    "### Step 4. Analyze the results\n",
    "\n",
    "The analyze step is typically where you might postprocess your results using, for example, measurement error mitigation or zero noise extrapolation (ZNE). You might feed these results into another workflow for further analysis or prepare a plot of the key values and data. In general, this step is specific to your problem. For this example, plot each of the expectation values that were measured for our circuit.\n",
    "\n",
    "The expectation values and standard deviations for the observables you specified to Estimator are accessed through the job result's PubResult.data.evs and PubResult.data.stds attributes. To obtain the results from Sampler, use the PubResult.data.meas.get_counts() function, which will return a dict of measurements in the form of bitstrings as keys and counts as their corresponding values. For more information, see Get started with Sampler."
   ]
  },
  {
   "cell_type": "code",
   "execution_count": 16,
   "id": "3a4ac20d-69c8-4845-a2e2-aed57430452c",
   "metadata": {
    "tags": []
   },
   "outputs": [],
   "source": [
    "values = pub_result.data.evs\n",
    "errors = pub_result.data.stds"
   ]
  },
  {
   "cell_type": "code",
   "execution_count": 17,
   "id": "78ff56ab-4eb6-4d91-91bf-7f71b80c6e9d",
   "metadata": {
    "tags": []
   },
   "outputs": [
    {
     "data": {
      "image/png": "[encoded data removed]",
      "text/plain": [
       "<Figure size 640x480 with 1 Axes>"
      ]
     },
     "metadata": {},
     "output_type": "display_data"
    }
   ],
   "source": [
    "# plotting graph\n",
    "plt.errorbar(observables_labels, values, yerr=errors, fmt='-o', capsize=5)\n",
    "plt.xlabel('Observables')\n",
    "plt.ylabel('Expectation Values')\n",
    "plt.title('Quantum Estimator Results')\n",
    "\n",
    "# annotate each point with its error\n",
    "for i, (x, y, e) in enumerate(zip(observables_labels, values, errors)):\n",
    "    plt.text(i, y + 0.05, f\"±{e:.2f}\", ha='center', va='bottom', fontsize=8)\n",
    "\n",
    "plt.ylim(-1.3, 1.3)\n",
    "plt.xticks(rotation=45)\n",
    "plt.tight_layout()\n",
    "plt.show()"
   ]
  },
  {
   "cell_type": "markdown",
   "id": "d038d755-b544-4400-b4e6-56f55be1ab1f",
   "metadata": {},
   "source": [
    "The expectation value tells us the average measurement result after observing 5,000 simulations on the output of our defined isa_circuit (our unique quantum circuit). \n",
    "\n",
    "The error bars on this plot reflect how reliable the average is, given the number of shots or noise in the quantum device or simulator (how certain the computer is on it's response). Notice that when I is defined in the observable, both of the qubits are ~0. When XX and ZZ are used, both of the qubits are ~1. This is a hallmark of quantum entanglement. Qubits could also have a relationship that shows a -1 relationship, but that is for another circuit at another time."
   ]
  },
  {
   "cell_type": "code",
   "execution_count": 18,
   "id": "563a75f5-af30-494d-8921-51dc7fc1f8a5",
   "metadata": {
    "tags": []
   },
   "outputs": [
    {
     "name": "stdout",
     "output_type": "stream",
     "text": [
      "IZ: -0.002 ± 0.014\n",
      "IX: 0.001 ± 0.013\n",
      "ZI: -0.002 ± 0.020\n",
      "XI: 0.001 ± 0.015\n",
      "ZZ: 0.988 ± 0.015\n",
      "XX: 0.993 ± 0.014\n"
     ]
    }
   ],
   "source": [
    "for label, value, error in zip(observables_labels, values, errors):\n",
    "    print(f'{label}: {value:.3f} ± {error:.3f}')"
   ]
  },
  {
   "cell_type": "markdown",
   "id": "5a04b5e4-f5ec-4657-876c-cfa7a1434b0e",
   "metadata": {},
   "source": [
    "## Scale to large numbers of qubits\n",
    "In quantum computing, utility-scale work is crucial for making progress in the field. Such work requires computations to be done on a much larger scale; working with circuits that might use over 100 qubits and over 1000 gates. This example demonstrates how you can accomplish utility-scale work on IBM® QPUs by creating and analyzing a 100-qubit GHZ state. It uses the Qiskit patterns workflow and ends by measuring the expectation value $⟨Z_0, Z_i⟩$ for each qubit.\n",
    "\n",
    "\n",
    "### Step 1. Map the problem\n",
    "Write a function that returns a QuantumCircuit that prepares an \n",
    "n\n",
    "n-qubit GHZ state (essentially an extended Bell state), then use that function to prepare a 100-qubit GHZ state and collect the observables to be measured."
   ]
  },
  {
   "cell_type": "code",
   "execution_count": 19,
   "id": "984f9791-2111-4049-98f2-f78eccf8db84",
   "metadata": {
    "tags": []
   },
   "outputs": [],
   "source": [
    "def get_qc_for_n_qubit_GHZ_state(n: int) -> qs.QuantumCircuit:\n",
    "    \"\"\"\n",
    "    This function creates a qiskit.QuantumCircuit (qc) for an n-qubit GHZ state.\n",
    "    \n",
    "    @params:\n",
    "        - n (int): Number of qubits in the n-qubit GHZ state\n",
    " \n",
    "    @returns:\n",
    "        - QuantumCircuit: Quantum circuit that generate the n-qubit GHZ state, assuming all qubits start in the 0 state\n",
    "    \"\"\"\n",
    "    if isinstance(n, int) and n >= 2:\n",
    "        qc = qs.QuantumCircuit(n)\n",
    "        qc.h(0)\n",
    "        for i in range(n - 1):\n",
    "            qc.cx(i, i + 1)\n",
    "    else:\n",
    "        raise Exception(\"n is not a valid input\")\n",
    "    return qc"
   ]
  },
  {
   "cell_type": "code",
   "execution_count": 20,
   "id": "d31728b1-1d77-4ec0-af03-d8012b2d28d2",
   "metadata": {
    "tags": []
   },
   "outputs": [],
   "source": [
    "n = 100\n",
    "qc = get_qc_for_n_qubit_GHZ_state(n)"
   ]
  },
  {
   "cell_type": "code",
   "execution_count": 21,
   "id": "b322f36e-7e18-457a-ac7e-0a76fab1b645",
   "metadata": {
    "tags": []
   },
   "outputs": [],
   "source": [
    "# ZZII...II, ZIZI...II, ... , ZIII...IZ\n",
    "operator_strings = [\n",
    "    'Z' + 'I' * i + 'Z' + 'I' * (n - 2 - i) for i in range(n - 1)\n",
    "]"
   ]
  },
  {
   "cell_type": "code",
   "execution_count": 22,
   "id": "3bc899b9-f5d3-41c8-b2d2-2f932f0a4633",
   "metadata": {
    "tags": []
   },
   "outputs": [
    {
     "name": "stdout",
     "output_type": "stream",
     "text": [
      "99\n"
     ]
    }
   ],
   "source": [
    "print(len(operator_strings))"
   ]
  },
  {
   "cell_type": "code",
   "execution_count": 23,
   "id": "bc837992-3fd9-45fc-b00d-45efd49933ca",
   "metadata": {
    "tags": []
   },
   "outputs": [],
   "source": [
    "operators = [qs.quantum_info.SparsePauliOp(operator) for operator in operator_strings]"
   ]
  },
  {
   "cell_type": "markdown",
   "id": "82dcb389-cef6-4d5d-9b68-3765387cd9e8",
   "metadata": {},
   "source": [
    "### Step 2. Optimize the problem for execution on quantum hardware"
   ]
  },
  {
   "cell_type": "code",
   "execution_count": 24,
   "id": "3fac540b-8727-4864-91cb-6f0da5bcc363",
   "metadata": {
    "tags": []
   },
   "outputs": [],
   "source": [
    "pm = qs.transpiler.generate_preset_pass_manager(optimization_level=1, backend=backend)\n",
    "isa_circuit = pm.run(qc)\n",
    "isa_operators_list = [op.apply_layout(isa_circuit.layout) for op in operators]"
   ]
  },
  {
   "cell_type": "markdown",
   "id": "5fb9cdb8-30d7-4371-8914-7a47b51d8951",
   "metadata": {},
   "source": [
    "### Step 3. Execute on hardware"
   ]
  },
  {
   "cell_type": "code",
   "execution_count": 25,
   "id": "181a0dd5-c67c-4015-919b-f4762a7365f6",
   "metadata": {
    "tags": []
   },
   "outputs": [],
   "source": [
    "options = ibm.EstimatorOptions()\n",
    "options.resilience_level = 1\n",
    "options.dynamical_decoupling.enable = True\n",
    "options.dynamical_decoupling.sequence_type = 'XY4'"
   ]
  },
  {
   "cell_type": "code",
   "execution_count": 26,
   "id": "c3a2df1d-d5f7-4175-95f4-212b27406b1f",
   "metadata": {
    "tags": []
   },
   "outputs": [],
   "source": [
    "# create an estimator\n",
    "estimator = ibm.EstimatorV2(backend, options=options)"
   ]
  },
  {
   "cell_type": "code",
   "execution_count": 27,
   "id": "3cb61a6b-e84b-4048-b4b7-e4bb4eeff01a",
   "metadata": {
    "tags": []
   },
   "outputs": [
    {
     "data": {
      "text/plain": [
       "'d23q4pnckpvc73doufug'"
      ]
     },
     "execution_count": 27,
     "metadata": {},
     "output_type": "execute_result"
    }
   ],
   "source": [
    "# submit the circuit to estimator\n",
    "job = estimator.run([(isa_circuit, isa_operators_list)])\n",
    "job.job_id()"
   ]
  },
  {
   "cell_type": "markdown",
   "id": "c962fef0-025b-46ed-927a-e402124a504a",
   "metadata": {},
   "source": [
    "### Step 4. Post-process results"
   ]
  },
  {
   "cell_type": "code",
   "execution_count": 28,
   "id": "1172c7d2-db8c-426f-a3dc-4cdace8873b6",
   "metadata": {
    "tags": []
   },
   "outputs": [],
   "source": [
    "data = list(range(1, len(operators) + 1))  # Distance between the Z operators\n",
    "result = job.result()[0]\n",
    "values = result.data.evs  # Expectation value at each Z operator.\n",
    "values = [\n",
    "    v / values[0] for v in values # Normalize the expectation values to evaluate how they decay with distance.\n",
    "]"
   ]
  },
  {
   "cell_type": "code",
   "execution_count": 29,
   "id": "bd670e23-afe3-4d2b-b7ff-1ee3307e822e",
   "metadata": {
    "tags": []
   },
   "outputs": [
    {
     "data": {
      "image/png": "[encoded data removed]",
      "text/plain": [
       "<Figure size 640x480 with 1 Axes>"
      ]
     },
     "metadata": {},
     "output_type": "display_data"
    }
   ],
   "source": [
    "plt.plot(data, values, marker='o', label='100-qubit GHZ state')\n",
    "plt.xlabel('Distance between qubits $i$')\n",
    "plt.ylabel(r'$\\langle Z_i Z_0 \\rangle / \\langle Z_1 Z_0 \\rangle $')\n",
    "plt.legend()\n",
    "plt.show()"
   ]
  },
  {
   "cell_type": "markdown",
   "id": "f300eb9e-6552-465c-bb29-8550d46e5b0a",
   "metadata": {},
   "source": [
    "# Parting Thoughts\n",
    "\n",
    "Theory is great, practice is the only way to realize value. Quantum computers might still be a ways off from handling meaningful workloads (at least [the Zuck thinks this](https://youtu.be/4StdRPtTW78?si=iCOPZBE0Nf6zenwQ)), but each year gets closer. The leader in classical computing power is now [the most valuable business globally](https://www.reuters.com/world/china/nvidia-becomes-first-company-clinch-4-trillion-market-value-2025-07-09/), who would have guessed that in 2010?\n",
    "\n",
    "<img\n",
    "     src='nvidia_mkcap' \n",
    "     width='500px'\n",
    "/>\n",
    "\n",
    "It feels like there is a long way to go when you see the [engineering feats required just to get these machines in an environment where they can operate](https://youtu.be/pt18B7dAjOA?si=t4stj_MT3W2BASiF). Stabalizing the machine is such a complex process that feeding it algorithms feels like an easy responsibility. \n",
    "\n",
    "For the fear-mongerers out there, both of these tasks will 100% be reliant on humans. Pray we all use it to benefit each other. To drive any kind of meaningful progress, **people** will continue being the ones setting [realistic and achievable goals](https://youtu.be/ksjTWzUbaQY?si=r75ETnxEwTiqhwRo). "
   ]
  }
 ],
 "metadata": {
  "kernelspec": {
   "display_name": "ml-cookbook",
   "language": "python",
   "name": "ml-cookbook"
  },
  "language_info": {
   "codemirror_mode": {
    "name": "ipython",
    "version": 3
   },
   "file_extension": ".py",
   "mimetype": "text/x-python",
   "name": "python",
   "nbconvert_exporter": "python",
   "pygments_lexer": "ipython3",
   "version": "3.12.3"
  }
 },
 "nbformat": 4,
 "nbformat_minor": 5
}
