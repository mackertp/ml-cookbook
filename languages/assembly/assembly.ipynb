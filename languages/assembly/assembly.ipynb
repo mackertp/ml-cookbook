{
 "cells": [
  {
   "cell_type": "markdown",
   "id": "f0f8dbb7-239e-4360-81d3-229d6a0053c6",
   "metadata": {},
   "source": [
    "# Overview and Understanding\n",
    "\n",
    "Computers require many different components to produce a useful product. I like to first start by explaining the *Power Supply* (PSU), which converts alternating current (AC) from your wall outlet to a direct current (DC) interpreted by the computer's internal components...\n",
    "\n",
    "It's pretty cool that you can go from a hot wire in your wall to the [latest version of Madden](https://youtu.be/VzVPyz6niIc?si=WeSL0XCLXPpmpMbP) on your XBox, but how does that really work? \n",
    "\n",
    "Directon.\n",
    "\n",
    "Assume that any device capable of running a software application can be referred to as a \"computer\". At a high level, computers have the following components that make it useful:\n",
    "\n",
    "<img src='https://lh6.googleusercontent.com/proxy/e182Q9mNYHcKF5Lfi0JPxDewbNtLKF0ud__dt-0u0sz8KVESQ76QtEypUt5QH3zwj7D_hFYPbJtaWCmCRftW59Ow23nQHG8SeLhA4T_tAMMhbKE7CR5GSCGlWaJ8N8Vcpi_4VkwiQgltN7NQpLA' width='400'/>\n",
    "\n",
    "\"Assembly\" languages provide instructions to the hardware shown above, driven by the *Central Processing Unit* (CPU). \n",
    "\n",
    "CPUs are built with specific architectures that require code written in an assembly language specific to its CPU (ARM and x86 are two popular examples). Assembly languages are human readable instructions to the machine that provide virtually no abstraction. These instruction sets control memory through the CPU's [registers](https://www.learncomputerscienceonline.com/what-are-cpu-registers/).\n",
    "\n",
    "## The Central Processing Unit\n",
    "\n",
    "Ah, central processing:\n",
    "\n",
    "<img src='https://www.tutorialspoint.com/computer_fundamentals/images/computer_architecture.jpg' width='400'/>\n",
    "\n",
    "[ARM](https://en.wikipedia.org/wiki/ARM_architecture_family)\n",
    "\n",
    "[x86](https://en.wikipedia.org/wiki/X86)"
   ]
  },
  {
   "cell_type": "code",
   "execution_count": null,
   "id": "13574714-0c9c-462e-bcdb-6857c76a9041",
   "metadata": {},
   "outputs": [],
   "source": [
    "\"\"\" \n",
    "Read hello.s\n",
    "The .s file is written for Apple Silicon\n",
    "\"\"\""
   ]
  }
 ],
 "metadata": {
  "kernelspec": {
   "display_name": "ml-cookbook",
   "language": "python",
   "name": "ml-cookbook"
  },
  "language_info": {
   "codemirror_mode": {
    "name": "ipython",
    "version": 3
   },
   "file_extension": ".py",
   "mimetype": "text/x-python",
   "name": "python",
   "nbconvert_exporter": "python",
   "pygments_lexer": "ipython3",
   "version": "3.12.3"
  }
 },
 "nbformat": 4,
 "nbformat_minor": 5
}
