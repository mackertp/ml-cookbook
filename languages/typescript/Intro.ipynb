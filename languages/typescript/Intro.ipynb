{
 "cells": [
  {
   "cell_type": "code",
   "execution_count": 1,
   "id": "957b0111-f21c-41a3-8280-f0173a5a3274",
   "metadata": {
    "tags": []
   },
   "outputs": [
    {
     "data": {
      "text/html": [
       "<style>\n",
       "table {float:left}\n",
       "</style>\n"
      ],
      "text/plain": [
       "<IPython.core.display.HTML object>"
      ]
     },
     "metadata": {},
     "output_type": "display_data"
    }
   ],
   "source": [
    "%%html\n",
    "<style>\n",
    "table {float:left}\n",
    "</style>"
   ]
  },
  {
   "cell_type": "markdown",
   "id": "fd2140df-3ba8-409f-a1b1-27dec6f475de",
   "metadata": {},
   "source": [
    "# TypeScript\n",
    "\n",
    "TypeScript was invented by Microsoft in 2012 as a way to \"future proof\" JavaScript. I'll walk through a bit of the language through my favorite notebook setup! Just like Python, we can install a notebook kernel for TypeScirpt and share our outputs. For example, lets print a simple message:"
   ]
  },
  {
   "cell_type": "code",
   "execution_count": 1,
   "id": "c2dd2a82-af53-49be-ba69-3c33b5031bf3",
   "metadata": {},
   "outputs": [
    {
     "name": "stdout",
     "output_type": "stream",
     "text": [
      "TypeScript is pretty neat!\n"
     ]
    }
   ],
   "source": [
    "let message: string = 'TypeScript is pretty neat!';\n",
    "console.log(message);"
   ]
  },
  {
   "cell_type": "markdown",
   "id": "fb7a154b-2e53-45f2-808e-1b977be7e2cb",
   "metadata": {},
   "source": [
    "This is great, but not really the \"best\" way to implement TypeScript. Our simple notebooks will be good for teaching and getting to know the basics of the lanugage, but ultimately we're interested in TypeScript's use for web applications. Let's take a quick look at how we can implement those. \n",
    "\n",
    "Consider how TypeScript is intended to work.\n",
    "\n",
    "![](https://www.typescripttutorial.net/wp-content/uploads/2020/05/what-is-typescript-compiler.png)\n",
    "\n",
    "There is a file called 'app.ts' saved in this folder. Let's compile it by opening up a terminal, ensuring we have [node.js](https://nodejs.org/en/download/), a typescript compiler, and ts-node (a TypeScript execution engine and REPL for Node.js) installed.\n",
    "\n",
    "```console\n",
    "uname@os:~$ node -v\n",
    "uname@os:~$ npm install -g typescript\n",
    "uname@os:~$ npm install -g ts-node\n",
    "```\n",
    "\n",
    "Now we can compile our app:\n",
    "\n",
    "```console\n",
    "uname@os:~$ tsc app.ts\n",
    "```\n",
    "\n",
    "You should see that alongside app.ts, we also now have app.js! Sweet, but how do you use it?\n",
    "\n",
    "There is an index.html file in this folder. We'll use that to show off our new TypeScript application. In the body section of the HTML, you'll see <script src=\"app.js\"></script>. This is how we make use of our compiled TypeScript file. We can see the appliation in action with a tool called [live-server](https://www.npmjs.com/package/live-server). From the terminal, just add live-server to your gloabal npm and then run it. index.html will open in your browser!\n",
    "\n",
    "```console\n",
    "uname@os:~$ npm install -g live-server\n",
    "uname@os:~$ live-server\n",
    "```\n",
    "\n",
    "Note that you should always make your changes to the TypeScript files, not the compiled JavaScript. Whenever we run 'tsc app.ts', that will overwrite the JavaScript output."
   ]
  },
  {
   "cell_type": "markdown",
   "id": "387fe850-2b3c-465f-8dc6-30f1ba970adf",
   "metadata": {},
   "source": [
    "## Why TypeScript?\n",
    "\n",
    "There are two main reasons to use TypeScript:\n",
    "\n",
    "- TypeScript adds a type system to help you avoid many problems with dynamic types in JavaScript.\n",
    "- TypeScript implements the future features of JavaScript a.k.a ES Next so that you can use them today.\n",
    "\n",
    "### Understanding Dynamic Type\n",
    "\n",
    "Unlike statically-typed languages such as Java or C#, values have types in JavaScript instead of variables. For example, here is a string, followed by a number. No variables, just values:"
   ]
  },
  {
   "cell_type": "code",
   "execution_count": 2,
   "id": "34b32c36-27a5-4b51-b615-3b7edc11ae49",
   "metadata": {},
   "outputs": [
    {
     "name": "stdout",
     "output_type": "stream",
     "text": [
      "Who ate my tortellini?\n"
     ]
    }
   ],
   "source": [
    "\"Who ate my tortellini?\""
   ]
  },
  {
   "cell_type": "code",
   "execution_count": 3,
   "id": "f258ec57-0bbe-49d2-9460-e035155f4f08",
   "metadata": {},
   "outputs": [
    {
     "name": "stdout",
     "output_type": "stream",
     "text": [
      "\u001b[33m2023\u001b[39m\n"
     ]
    }
   ],
   "source": [
    "2023"
   ]
  },
  {
   "cell_type": "markdown",
   "id": "8e5e7e38-9ae5-4b77-a648-6eaaa11337f8",
   "metadata": {},
   "source": [
    "If we want to assign these values to a variable, we can do it \"dynamically\". We can also overwrite an existing variable with a new type and the variable will take on that type. For example:"
   ]
  },
  {
   "cell_type": "code",
   "execution_count": 4,
   "id": "2093ffe8-3e54-43c7-abcf-c4fe63dae9cc",
   "metadata": {},
   "outputs": [
    {
     "name": "stdout",
     "output_type": "stream",
     "text": [
      "\u001b[33m100\u001b[39m\n"
     ]
    }
   ],
   "source": [
    "let box;\n",
    "box = \"box\";\n",
    "box = 100;"
   ]
  },
  {
   "cell_type": "markdown",
   "id": "74734b8c-3e07-4159-871c-c50288254b7c",
   "metadata": {},
   "source": [
    "The last assigned value of the variable will determine the type for the variable. Let's look at a couple of examples below for how we would display the type of a given variable. "
   ]
  },
  {
   "cell_type": "code",
   "execution_count": 5,
   "id": "9a253cce-fb8f-465a-b641-c07924ac11d4",
   "metadata": {},
   "outputs": [
    {
     "name": "stdout",
     "output_type": "stream",
     "text": [
      "undefined\n"
     ]
    }
   ],
   "source": [
    "// undefined variable\n",
    "let box;\n",
    "console.log(typeof(box));"
   ]
  },
  {
   "cell_type": "code",
   "execution_count": 6,
   "id": "7aec8cfb-b91c-43b7-af9d-0b0adc6911b6",
   "metadata": {},
   "outputs": [
    {
     "name": "stdout",
     "output_type": "stream",
     "text": [
      "string\n"
     ]
    }
   ],
   "source": [
    "// assigned as a string\n",
    "box = \"Hello\";\n",
    "console.log(typeof(box));"
   ]
  },
  {
   "cell_type": "code",
   "execution_count": 7,
   "id": "415a189f-9d08-45a5-a86a-8e6a2298c09e",
   "metadata": {},
   "outputs": [
    {
     "name": "stdout",
     "output_type": "stream",
     "text": [
      "number\n"
     ]
    }
   ],
   "source": [
    "// assigned as a number\n",
    "box = 100;\n",
    "console.log(typeof(box));"
   ]
  },
  {
   "cell_type": "markdown",
   "id": "1dd3fb11-0e1f-4579-8895-99d810667786",
   "metadata": {},
   "source": [
    "You don’t need to explicitly tell JavaScript what type the variable is. Hence, \"dynamic\". JavaScript automatically infers this information from the value."
   ]
  },
  {
   "cell_type": "markdown",
   "id": "ef1518e9-4f7e-4546-82ce-e2d8630a8bf7",
   "metadata": {},
   "source": [
    "### Dynamic Type Issues\n",
    "\n",
    "Let's demonstrate with an example. Take a look at this function:"
   ]
  },
  {
   "cell_type": "code",
   "execution_count": 8,
   "id": "68c44cf4-aa55-4252-abf0-567d196e5d78",
   "metadata": {},
   "outputs": [],
   "source": [
    "function getWidget(id){\n",
    "  return {\n",
    "    id: id,\n",
    "    name: `Some Widget ${id}`,\n",
    "    price: 50.0\n",
    "  }\n",
    "}"
   ]
  },
  {
   "cell_type": "markdown",
   "id": "ed436954-1a42-479b-a64e-7944b33a7416",
   "metadata": {},
   "source": [
    "If we were using JavaScript, this would compile and say 'undefined' for the Name. TypeScript catches the error for us and let's us know that we did not define a property called Name... we called it 'name'."
   ]
  },
  {
   "cell_type": "code",
   "execution_count": 9,
   "id": "c52bbc2e-2e99-488e-bd6a-577e35e6bbfc",
   "metadata": {},
   "outputs": [
    {
     "name": "stderr",
     "output_type": "stream",
     "text": [
      "2:34 - Property 'Name' does not exist on type '{ id: any; name: string; price: number; }'. Did you mean 'name'?\n"
     ]
    }
   ],
   "source": [
    "const widget = getWidget(1);\n",
    "console.log(`The widget ${widget.Name} costs $${widget.price}`);"
   ]
  },
  {
   "cell_type": "markdown",
   "id": "4c479049-003d-463a-8520-08930507f0fc",
   "metadata": {},
   "source": [
    "Let's build on this example with another function:"
   ]
  },
  {
   "cell_type": "code",
   "execution_count": 10,
   "id": "b80bb765-c29c-4960-9cb9-ee85bdc90158",
   "metadata": {},
   "outputs": [],
   "source": [
    "const showWidget = (name, price)  => {\n",
    "  console.log(`The widget ${name} costs ${price}.`);\n",
    "};"
   ]
  },
  {
   "cell_type": "code",
   "execution_count": 11,
   "id": "547a8085-93dc-4d53-abd1-add364770d71",
   "metadata": {},
   "outputs": [
    {
     "name": "stdout",
     "output_type": "stream",
     "text": [
      "The widget 50 costs Some Widget 1.\n"
     ]
    }
   ],
   "source": [
    "const widget = getWidget(1);\n",
    "showWidget(widget.price, widget.name);"
   ]
  },
  {
   "cell_type": "markdown",
   "id": "0e63e020-3168-445a-88e5-078c43aa3709",
   "metadata": {},
   "source": [
    "Uhhh... this doesn't seem right. We passed the arguments to the function in the wrong order. This is a common JavaScript issue, that looks like it can still slide through in TypeScript. But let's examine what we can do."
   ]
  },
  {
   "cell_type": "markdown",
   "id": "1490db49-8847-4a41-803a-23bf17f38fbc",
   "metadata": {},
   "source": [
    "To fix is problem of referencing a property that doesn’t exist on an object, we first can define the “shape” of the object using an interface."
   ]
  },
  {
   "cell_type": "code",
   "execution_count": 12,
   "id": "b667f5ee-1fdc-4b0c-94c7-60f279acc739",
   "metadata": {},
   "outputs": [],
   "source": [
    "interface Widget{\n",
    "    id: number,\n",
    "    name: string,\n",
    "    price: number\n",
    "};"
   ]
  },
  {
   "cell_type": "markdown",
   "id": "9d9d349a-b4e5-4aa7-ba51-68c1f0d24295",
   "metadata": {},
   "source": [
    "Now, when we write the function, we also want to define the return type as our object - a widget:"
   ]
  },
  {
   "cell_type": "code",
   "execution_count": 13,
   "id": "d6006aed-8d0b-4854-9ecd-b9b3780b7d28",
   "metadata": {},
   "outputs": [],
   "source": [
    "function getWidget(id) : Widget{\n",
    "  return {\n",
    "    id: id,\n",
    "    name: `Some Widget ${id}`,\n",
    "    price: 50.5\n",
    "  }\n",
    "}"
   ]
  },
  {
   "cell_type": "markdown",
   "id": "64b01cf5-1368-4781-bbfd-e4f373a31834",
   "metadata": {},
   "source": [
    "See what happens now:"
   ]
  },
  {
   "cell_type": "code",
   "execution_count": 14,
   "id": "ee305720-1736-496c-b2a1-62dcff7c06ed",
   "metadata": {},
   "outputs": [
    {
     "name": "stderr",
     "output_type": "stream",
     "text": [
      "2:34 - Property 'Name' does not exist on type 'Widget'. Did you mean 'name'?\n"
     ]
    }
   ],
   "source": [
    "const widget = getWidget(1);\n",
    "console.log(`The widget ${widget.Name} costs $${widget.price}`);"
   ]
  },
  {
   "cell_type": "markdown",
   "id": "8f7d6e7e-cef4-4da0-bb62-e0ad2185aa50",
   "metadata": {},
   "source": [
    "Our first error, which TypeScript caught above already, is easier to read thanks to the interface. Let's write our second function with a type defined for each variable now."
   ]
  },
  {
   "cell_type": "code",
   "execution_count": 15,
   "id": "2ad9139f-e801-4895-9deb-dd6a19460ae3",
   "metadata": {},
   "outputs": [],
   "source": [
    "const showWidget = (name:string, price:number)  => {\n",
    "  console.log(`The widget ${name} costs ${price}.`);\n",
    "};"
   ]
  },
  {
   "cell_type": "code",
   "execution_count": 16,
   "id": "dc7a2886-051b-4a0b-b5b9-135cdd38da11",
   "metadata": {},
   "outputs": [
    {
     "name": "stderr",
     "output_type": "stream",
     "text": [
      "2:12 - Argument of type 'number' is not assignable to parameter of type 'string'.\n"
     ]
    }
   ],
   "source": [
    "const widget = getWidget(1);\n",
    "showWidget(widget.price, widget.name);"
   ]
  },
  {
   "cell_type": "markdown",
   "id": "e4c4dfaf-9002-412d-bbcb-5f3e21049e18",
   "metadata": {},
   "source": [
    "The second error is caught this type because TypeScript recognizes that we are trying to pass a string where we require an integer. Nice!"
   ]
  },
  {
   "cell_type": "markdown",
   "id": "4c477208-3b75-405d-965e-16c5f6c5be3b",
   "metadata": {},
   "source": [
    "# TypeScript Types\n",
    "\n",
    "A type is a convenient way to refer to the different properties and functions that a value holds. Anything that you can assign to a variable is a value. For example: a number, string, array, object, or a function. TypeScript inherits the built-in types from JavaScript. TypeScript types are categorized into either **Primitive** or **Object** types. Primative types have built in properties and methods that can be applied to them. A string, for example:"
   ]
  },
  {
   "cell_type": "code",
   "execution_count": 17,
   "id": "c423e92c-132e-4279-b75e-c16e158c83d4",
   "metadata": {},
   "outputs": [
    {
     "name": "stdout",
     "output_type": "stream",
     "text": [
      "\u001b[33m17\u001b[39m\n"
     ]
    }
   ],
   "source": [
    " console.log('Super Cool String'.length);"
   ]
  },
  {
   "cell_type": "code",
   "execution_count": 18,
   "id": "88b951e7-6ff6-41bf-a404-df63f34b9b46",
   "metadata": {},
   "outputs": [
    {
     "name": "stdout",
     "output_type": "stream",
     "text": [
      "SUPER COOL STRING\n"
     ]
    }
   ],
   "source": [
    "console.log('Super Cool String'.toLocaleUpperCase());"
   ]
  },
  {
   "cell_type": "markdown",
   "id": "75e321c4-213e-4314-be31-0628b0884824",
   "metadata": {},
   "source": [
    "strings are able to be searched using the match feature - it will show what index the match starts at:"
   ]
  },
  {
   "cell_type": "code",
   "execution_count": 19,
   "id": "9d1b8635-2038-4a3f-8058-cd249347fef9",
   "metadata": {},
   "outputs": [
    {
     "name": "stdout",
     "output_type": "stream",
     "text": [
      "[ \u001b[32m'rapper'\u001b[39m, index: \u001b[33m10\u001b[39m, input: \u001b[32m\"I'm not a rapper\"\u001b[39m, groups: \u001b[90mundefined\u001b[39m ]\n"
     ]
    }
   ],
   "source": [
    "let text = \"I'm not a rapper\";\n",
    "text.match(\"rapper\");"
   ]
  },
  {
   "cell_type": "markdown",
   "id": "5513617c-053e-4977-aa1d-23e55172e076",
   "metadata": {},
   "source": [
    "## Primitive types\n",
    "\n",
    "The following table illustrates the primitive types in TypeScript, these come \"out of box\" with the language.\n",
    "\n",
    " Name      | Description                |\n",
    "| --------- | -------------------------- |\n",
    "| string    | represents text values     |\n",
    "| number    | represents numberic values |\n",
    "| boolean   | has true and false values  |\n",
    "| null      | has only one value: null   |\n",
    "| undefined | uninitialized variable     |\n",
    "| symbol    | a unique constant value.   |"
   ]
  },
  {
   "cell_type": "markdown",
   "id": "82589c69-f47b-4942-8bd1-9164cc5664cf",
   "metadata": {},
   "source": [
    "## Object types\n",
    "\n",
    "Functions, arrays, classes, and pretty much anything that is custom is considered an object type. \n",
    "\n",
    "There are two main purposes of types in TypeScript:\n",
    "\n",
    "- Allows the TypeScript compiler to analyze your code for errors\n",
    "- Allows you to understand what values are associated with variables."
   ]
  },
  {
   "cell_type": "markdown",
   "id": "55b65cee-a452-45f5-abf5-4c05af5cc293",
   "metadata": {},
   "source": [
    "# Type Annotations\n",
    "\n",
    "To explicity identify variables, functions, objects, etc., TypeScript uses type annotations. The syntax is to use a colon after an identifier - signifying the type annotation. Once a type is assigned, then only that type can be used for the value of that variable, function, object, etc., otherwise a compiler error is shown."
   ]
  },
  {
   "cell_type": "markdown",
   "id": "6d71fb6b-ec31-41e8-8b0c-dd920a6694cc",
   "metadata": {},
   "source": [
    "**Primitive Types**\n",
    "\n",
    "Let's look at this syntax with a couple of primitive types - for example, a number:"
   ]
  },
  {
   "cell_type": "code",
   "execution_count": 20,
   "id": "4175d119-6f26-4460-aa52-86d7a6b324b6",
   "metadata": {},
   "outputs": [],
   "source": [
    "let counter: number;"
   ]
  },
  {
   "cell_type": "code",
   "execution_count": 21,
   "id": "ed6f409d-5386-4472-931f-791316851f71",
   "metadata": {},
   "outputs": [
    {
     "name": "stdout",
     "output_type": "stream",
     "text": [
      "\u001b[33m1\u001b[39m\n"
     ]
    }
   ],
   "source": [
    "counter = 1;"
   ]
  },
  {
   "cell_type": "markdown",
   "id": "df860dec-3405-4e7b-936f-f77344cbceee",
   "metadata": {},
   "source": [
    "If we try to assign a string value to our counter, TypeScript will show us an error:"
   ]
  },
  {
   "cell_type": "code",
   "execution_count": 22,
   "id": "8cfb649c-b0da-4ed9-bbd3-809726993857",
   "metadata": {},
   "outputs": [
    {
     "name": "stderr",
     "output_type": "stream",
     "text": [
      "1:1 - Type 'string' is not assignable to type 'number'.\n"
     ]
    }
   ],
   "source": [
    "counter = 'Hello';"
   ]
  },
  {
   "cell_type": "markdown",
   "id": "b39f623e-5149-4cc3-b466-08de531e2bbf",
   "metadata": {},
   "source": [
    "We can still initialize our variable in the same line as the type annotation:"
   ]
  },
  {
   "cell_type": "code",
   "execution_count": 23,
   "id": "d800bea9-461f-4e87-aae5-61f1b2c925b8",
   "metadata": {},
   "outputs": [],
   "source": [
    "let counter: number = 1;"
   ]
  },
  {
   "cell_type": "markdown",
   "id": "4a29679b-5f60-4b26-89df-c5dbdbf391e6",
   "metadata": {},
   "source": [
    "As you would expect, this works for any of the primitive types:"
   ]
  },
  {
   "cell_type": "code",
   "execution_count": 24,
   "id": "dd4db0cf-2330-48b2-b7b2-efe6fad4b44d",
   "metadata": {},
   "outputs": [],
   "source": [
    "let name: string = 'Preston';\n",
    "let age: number = 26;\n",
    "let likesDogs: boolean = true;"
   ]
  },
  {
   "cell_type": "markdown",
   "id": "81447a49-24f2-4939-9170-2b1382c6b8ec",
   "metadata": {},
   "source": [
    "**Arrays**\n",
    "\n",
    "When annotating arrays, we have to use a specific type followed by a square bracket. For example, here is an array of strings:"
   ]
  },
  {
   "cell_type": "code",
   "execution_count": 25,
   "id": "977d7080-f73f-4fc8-9729-6f608c791fad",
   "metadata": {},
   "outputs": [],
   "source": [
    "let names: string[] = ['Preston', 'Jasmine', 'Dylan', 'Hannah', 'Pedro'];"
   ]
  },
  {
   "cell_type": "markdown",
   "id": "d264900d-ed1b-4c86-b683-b1008a4ac31c",
   "metadata": {},
   "source": [
    "**Objects**\n",
    "\n",
    "When specifying objects, we declare all the variables with types. Then the rules are held when creating an instance of that object:"
   ]
  },
  {
   "cell_type": "code",
   "execution_count": 26,
   "id": "724775bf-8bbd-4e22-a50b-c52d7659c67f",
   "metadata": {},
   "outputs": [
    {
     "name": "stdout",
     "output_type": "stream",
     "text": [
      "{ name: \u001b[32m'Preston'\u001b[39m, age: \u001b[33m26\u001b[39m, likesDogs: \u001b[33mtrue\u001b[39m }\n"
     ]
    }
   ],
   "source": [
    "let person: {\n",
    "    name: string;\n",
    "    age: number;\n",
    "    likesDogs: boolean;\n",
    "};\n",
    "\n",
    "person = {\n",
    "    name: 'Preston',\n",
    "    age: 26,\n",
    "    likesDogs: true\n",
    "};"
   ]
  },
  {
   "cell_type": "markdown",
   "id": "bb9e2b86-4c66-498d-8532-3a37cf16d1fb",
   "metadata": {},
   "source": [
    "**Functions**\n",
    "\n",
    "The following shows how to create a function with annotations for the parameter and return:"
   ]
  },
  {
   "cell_type": "code",
   "execution_count": 27,
   "id": "d9128f9e-947c-459c-9145-a26a17078279",
   "metadata": {},
   "outputs": [],
   "source": [
    "let greeting : (name: string) => string;"
   ]
  },
  {
   "cell_type": "markdown",
   "id": "83b469b9-a7a6-4a55-9b37-e0e1b471fcfa",
   "metadata": {},
   "source": [
    "In this example, you can assign any function that accepts a string and returns a string to the \"greeting\" variable. For example:"
   ]
  },
  {
   "cell_type": "code",
   "execution_count": 28,
   "id": "f97186f4-aed0-47ab-8406-359d34264acc",
   "metadata": {},
   "outputs": [
    {
     "name": "stdout",
     "output_type": "stream",
     "text": [
      "\u001b[36m[Function (anonymous)]\u001b[39m\n"
     ]
    }
   ],
   "source": [
    "greeting = function (name: string) {\n",
    "    return `Hi ${name}`;\n",
    "};"
   ]
  },
  {
   "cell_type": "code",
   "execution_count": 29,
   "id": "494bf53c-dffe-461f-8824-2b05fc42c284",
   "metadata": {},
   "outputs": [
    {
     "name": "stdout",
     "output_type": "stream",
     "text": [
      "Hi Preston\n"
     ]
    }
   ],
   "source": [
    "greeting('Preston')"
   ]
  },
  {
   "cell_type": "markdown",
   "id": "5514b951-bdba-4c81-8879-3195d935965f",
   "metadata": {},
   "source": [
    "Now watch what happens if we assign the function without matching the expected parameter and return type:"
   ]
  },
  {
   "cell_type": "code",
   "execution_count": 30,
   "id": "d108cf25-5612-4d4e-9974-9f187342bc54",
   "metadata": {},
   "outputs": [
    {
     "name": "stderr",
     "output_type": "stream",
     "text": [
      "1:1 - Type '() => void' is not assignable to type '(name: string) => string'.\n",
      "1:1 - Type 'void' is not assignable to type 'string'.\n"
     ]
    }
   ],
   "source": [
    "greeting = function () {\n",
    "    console.log('Hello');\n",
    "};"
   ]
  },
  {
   "cell_type": "markdown",
   "id": "8f3adecb-2b60-474d-b142-56e9e243f545",
   "metadata": {},
   "source": [
    "# Type Inference\n",
    "\n",
    "Type inference describes where and how TypeScript infers types when you don’t explicitly annotate them. \n",
    "\n",
    "### Basic type inference\n",
    "\n",
    "When you declare a variable, you can use a type annotation to explicitly specify a type for it. For example:"
   ]
  },
  {
   "cell_type": "code",
   "execution_count": 31,
   "id": "47ec405d-cb56-4aa1-a5b4-8b33b90c5050",
   "metadata": {},
   "outputs": [],
   "source": [
    "let counter: number;"
   ]
  },
  {
   "cell_type": "markdown",
   "id": "229cffbc-f80c-4f4a-87be-87ea0bc18436",
   "metadata": {},
   "source": [
    "However, if you initialize the counter variable to a number, TypeScript will infer the type the counter to be number. For example:"
   ]
  },
  {
   "cell_type": "code",
   "execution_count": 32,
   "id": "71e46235-8a1b-41c6-a23c-647325e92263",
   "metadata": {},
   "outputs": [],
   "source": [
    "let counter = 0;"
   ]
  },
  {
   "cell_type": "markdown",
   "id": "78912bbf-c67e-41b8-bf06-4d5b923d088b",
   "metadata": {},
   "source": [
    "It is equivalent to the following statement:"
   ]
  },
  {
   "cell_type": "code",
   "execution_count": 33,
   "id": "22104d83-077e-4fb2-a523-0ed3b0112689",
   "metadata": {},
   "outputs": [],
   "source": [
    "let counter: number = 0;"
   ]
  },
  {
   "cell_type": "markdown",
   "id": "e48f5ffb-1112-4914-b2be-79bbf366e0f7",
   "metadata": {},
   "source": [
    "Likewise, when you assign a function parameter a value, TypeScript infers the type of the parameter to the type of the default value. For example:"
   ]
  },
  {
   "cell_type": "code",
   "execution_count": 34,
   "id": "a99ec8b9-891f-4dc8-9220-34f1bf496c8f",
   "metadata": {},
   "outputs": [],
   "source": [
    "function setCounter(max=100) {\n",
    "    // ...\n",
    "}"
   ]
  },
  {
   "cell_type": "markdown",
   "id": "d73fffe7-c2be-407e-bb77-9bc0b019f4c5",
   "metadata": {},
   "source": [
    "In this example, TypeScript infers type of the max parameter to be number. Similarly, TypeScript infers the following return type of the increment() function as number:"
   ]
  },
  {
   "cell_type": "code",
   "execution_count": 35,
   "id": "59d89c42-d83f-48c1-88a7-2c1a89dcc09f",
   "metadata": {},
   "outputs": [],
   "source": [
    "function increment(counter: number) {\n",
    "    return counter++;\n",
    "}"
   ]
  },
  {
   "cell_type": "markdown",
   "id": "33343505-37bd-4cea-8828-c20322f1439b",
   "metadata": {},
   "source": [
    "It is the same as:"
   ]
  },
  {
   "cell_type": "code",
   "execution_count": 36,
   "id": "3c7d2861-cd06-4c62-b800-45b6c3ea0b31",
   "metadata": {},
   "outputs": [],
   "source": [
    "function increment(counter: number) : number {\n",
    "    return counter++;\n",
    "}"
   ]
  },
  {
   "cell_type": "markdown",
   "id": "ca344897-2583-4f7b-95c9-cec8d8281712",
   "metadata": {},
   "source": [
    "### The best common type algorithm\n",
    "\n",
    "Consider the following assignment:"
   ]
  },
  {
   "cell_type": "code",
   "execution_count": 37,
   "id": "22bda583-1f02-43c8-9047-7bf1a37f7a54",
   "metadata": {},
   "outputs": [],
   "source": [
    "let items = [1, 2, 3, null];"
   ]
  },
  {
   "cell_type": "markdown",
   "id": "97d2820d-64da-4198-ac60-bd9fe63783cb",
   "metadata": {},
   "source": [
    "To infer the type of items variable, TypeScript needs to consider the type of each element in the array.\n",
    "\n",
    "It uses the best common type algorithm to analyze each candidate type and select the type that is compatible with all other candidates.\n",
    "\n",
    "In this case, TypeScript selects the number array type (number[]) as the best common type.\n",
    "\n",
    "If you add a string to the items array, TypeScript will infer the type for the items as an array of numbers and strings: (number | string)[]"
   ]
  },
  {
   "cell_type": "code",
   "execution_count": 38,
   "id": "075ca98a-0035-40cc-9326-c565ff948d9c",
   "metadata": {},
   "outputs": [],
   "source": [
    "let items = [0, 1, null, 'Hi'];"
   ]
  },
  {
   "cell_type": "markdown",
   "id": "7ce67833-b61b-45d6-a805-c2bc22723b73",
   "metadata": {},
   "source": [
    "When TypeScript cannot find the best common type, it returns the union array type. For example:"
   ]
  },
  {
   "cell_type": "code",
   "execution_count": 39,
   "id": "83109088-b562-4acb-a642-47104ec1a8f5",
   "metadata": {},
   "outputs": [],
   "source": [
    "let arr = [new Date(), new RegExp('\\d+')];"
   ]
  },
  {
   "cell_type": "markdown",
   "id": "7f19127a-b180-4c2b-93a8-dd5ade3b1f19",
   "metadata": {},
   "source": [
    "In this example, TypeScript infers the type for arr to be (RegExp | Date)[]."
   ]
  },
  {
   "cell_type": "markdown",
   "id": "52f767ac-a713-40c2-b6d2-0966634b8e38",
   "metadata": {},
   "source": [
    "### Contextual typing\n",
    "\n",
    "Contextual typing refers to using the location of variables to infer types. As an example:"
   ]
  },
  {
   "cell_type": "markdown",
   "id": "d9c896bf-153e-44e3-a77b-94b2f3b53ca5",
   "metadata": {},
   "source": [
    "## Type inference vs. Type annotations\n",
    "\n",
    "There is a fundamental difference between type inference and annotation. Type inference is when TypeScript guesses the type. Type annotations are when you explicitly tell TypeScript what the type is.\n",
    "\n",
    "Always use type inference when you can. Its recommended that you use type annotation only in the folowing cases:\n",
    "\n",
    "- Declaring a variable and assigning it a value later.\n",
    "- The desired variable can’t be inferred.\n",
    "- If the function returns the 'any' type and it needs clarification of the value."
   ]
  }
 ],
 "metadata": {
  "kernelspec": {
   "display_name": "TypeScript",
   "language": "typescript",
   "name": "tslab"
  },
  "language_info": {
   "codemirror_mode": {
    "mode": "typescript",
    "name": "javascript",
    "typescript": true
   },
   "file_extension": ".ts",
   "mimetype": "text/typescript",
   "name": "typescript",
   "version": "3.7.2"
  }
 },
 "nbformat": 4,
 "nbformat_minor": 5
}
