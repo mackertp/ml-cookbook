{
 "cells": [
  {
   "cell_type": "markdown",
   "metadata": {},
   "source": [
    "# Environment Configuration\n",
    "\n",
    "Getting started with Rust in a Jupyter environment is pretty straightforward. \n",
    "\n",
    "First, ensure Rust is installed. If you need to install Rust, [use the cURL command from your terminal](https://www.rust-lang.org/tools/install). Select the standard installation when prompted.\n",
    "\n",
    "```console\n",
    "uname@os:~$ curl --proto '=https' --tlsv1.2 -sSf https://sh.rustup.rs | sh\n",
    "```\n",
    "\n",
    "Configure shell by sourcing the **env** file under $HOME/.cargo, then install the Rust source code and kernel for jupyter.\n",
    "\n",
    "```console\n",
    "uname@os:~$ . \"$HOME/.cargo/env\"\n",
    "uname@os:~$ rustup component add rust-src\n",
    "uname@os:~$ cargo install --locked evcxr_jupyter\n",
    "```\n",
    "\n",
    "Use the binary of installed kernel:\n",
    "\n",
    "```console\n",
    "uname@os:~$ evcxr_jupyter --install\n",
    "```\n",
    "\n",
    "**Note**: I've noticed restarting this kernel can make it get stuck.\n",
    "\n",
    "This setup is borrowed from an easy to follow [blog](https://racum.blog/articles/rust-jupyter/)."
   ]
  },
  {
   "cell_type": "markdown",
   "metadata": {},
   "source": [
    "# Rust Programming\n",
    "\n",
    "Rust's official documentation is neatly packaged as a [free online book that you can read](https://doc.rust-lang.org/book/). I'll follow along to demo a few things."
   ]
  },
  {
   "cell_type": "code",
   "execution_count": 2,
   "metadata": {
    "vscode": {
     "languageId": "rust"
    }
   },
   "outputs": [
    {
     "name": "stdout",
     "output_type": "stream",
     "text": [
      "get on the command line!\n"
     ]
    }
   ],
   "source": [
    "println!(\"get on the command line!\");"
   ]
  },
  {
   "cell_type": "markdown",
   "metadata": {},
   "source": [
    "Rust is designed to compile before it is run.\n",
    "\n",
    "For this reason, I've noticed some errors when using the Jupyter kernel. If the kernel is stuck, stop jupyterlab, re-run evcxr_jupyter --install and then your notebook should work.\n",
    "\n",
    "I suggest following along the book for more information on Rust projects. You'll learn about Tom’s Obvious, Minimal Language ([TOML](https://en.wikipedia.org/wiki/TOML)) in the process, which you'll notice is used by the Poetry package manager at the parent level directory of this project."
   ]
  },
  {
   "cell_type": "code",
   "execution_count": 3,
   "metadata": {
    "vscode": {
     "languageId": "rust"
    }
   },
   "outputs": [
    {
     "name": "stdout",
     "output_type": "stream",
     "text": [
      "x + y = 2\n"
     ]
    }
   ],
   "source": [
    "let x = 1;\n",
    "let y = 1;\n",
    "\n",
    "println!(\"x + y = {}\", x + y);"
   ]
  }
 ],
 "metadata": {
  "kernelspec": {
   "display_name": "Rust",
   "language": "rust",
   "name": "rust"
  },
  "language_info": {
   "codemirror_mode": "rust",
   "file_extension": ".rs",
   "mimetype": "text/rust",
   "name": "Rust",
   "pygment_lexer": "rust",
   "version": ""
  }
 },
 "nbformat": 4,
 "nbformat_minor": 4
}
