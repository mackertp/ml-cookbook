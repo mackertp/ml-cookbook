{
 "cells": [
  {
   "cell_type": "markdown",
   "id": "9a94249d-a142-4858-acc4-78613973e1bd",
   "metadata": {},
   "source": [
    "# C++\n",
    "\n",
    "Xeus-Cling Kernel is currently not working :/"
   ]
  },
  {
   "cell_type": "code",
   "execution_count": null,
   "id": "a0fa621d-7b0d-4a43-bab5-7ce7a763626a",
   "metadata": {
    "vscode": {
     "languageId": "c++"
    }
   },
   "outputs": [],
   "source": [
    "#include <iostream>"
   ]
  },
  {
   "cell_type": "code",
   "execution_count": null,
   "id": "2bbc35dc-89dd-4063-be49-ee8613038029",
   "metadata": {
    "vscode": {
     "languageId": "c++"
    }
   },
   "outputs": [],
   "source": [
    "int first_number, second_number, sum;\n",
    "std::cout << \"Enter two integers: \";"
   ]
  },
  {
   "cell_type": "code",
   "execution_count": null,
   "id": "a3fb97dc-76d1-4b29-8b0d-1d0575e67e88",
   "metadata": {
    "vscode": {
     "languageId": "c++"
    }
   },
   "outputs": [],
   "source": [
    "std::cin >> first_number >> second_number;"
   ]
  },
  {
   "cell_type": "code",
   "execution_count": null,
   "id": "32a43639-b280-423a-8062-a2014383cc20",
   "metadata": {
    "vscode": {
     "languageId": "c++"
    }
   },
   "outputs": [],
   "source": [
    "sum = first_number + second_number;\n",
    "std::cout << first_number << \" + \" <<  second_number << \" = \" << sum;"
   ]
  }
 ],
 "metadata": {
  "kernelspec": {
   "display_name": "C++14",
   "language": "C++14",
   "name": "xcpp14"
  },
  "language_info": {
   "name": ""
  }
 },
 "nbformat": 4,
 "nbformat_minor": 5
}
