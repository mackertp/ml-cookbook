{
 "cells": [
  {
   "cell_type": "markdown",
   "id": "698bdd93-34c4-48e2-b509-e3b64c0e0d07",
   "metadata": {},
   "source": [
    "# Scikit-Learn\n",
    "\n",
    "[Scikit-learn](https://scikit-learn.org/stable/) provides open-source tools for predictive data analysis. The library is built on NumPy, SciPy, and the matplotlib python libraries."
   ]
  }
 ],
 "metadata": {
  "kernelspec": {
   "display_name": "Python 3 (ipykernel)",
   "language": "python",
   "name": "python3"
  },
  "language_info": {
   "codemirror_mode": {
    "name": "ipython",
    "version": 3
   },
   "file_extension": ".py",
   "mimetype": "text/x-python",
   "name": "python",
   "nbconvert_exporter": "python",
   "pygments_lexer": "ipython3",
   "version": "3.8.15"
  }
 },
 "nbformat": 4,
 "nbformat_minor": 5
}
