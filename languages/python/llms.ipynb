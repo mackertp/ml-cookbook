{
 "cells": [
  {
   "cell_type": "code",
   "execution_count": 1,
   "id": "ac3e5dc5-2eb7-42eb-a54a-1f783adbf763",
   "metadata": {
    "jupyter": {
     "source_hidden": true
    },
    "tags": []
   },
   "outputs": [
    {
     "data": {
      "text/html": [
       "<style>\n",
       "    table {\n",
       "        margin-left: 0 !important;\n",
       "        margin-right: auto !important;\n",
       "        text-align: left;\n",
       "    }\n",
       "    th, td {\n",
       "        text-align: left !important;\n",
       "    }\n",
       "</style>\n"
      ],
      "text/plain": [
       "<IPython.core.display.HTML object>"
      ]
     },
     "metadata": {},
     "output_type": "display_data"
    }
   ],
   "source": [
    "%%html\n",
    "<style>\n",
    "    table {\n",
    "        margin-left: 0 !important;\n",
    "        margin-right: auto !important;\n",
    "        text-align: left;\n",
    "    }\n",
    "    th, td {\n",
    "        text-align: left !important;\n",
    "    }\n",
    "</style>"
   ]
  },
  {
   "cell_type": "markdown",
   "id": "69a13825-22e5-45e8-ada5-ae3a23688fd9",
   "metadata": {},
   "source": [
    "# Large Language Models - LLMs\n",
    "\n",
    "Since the ChatGPT revolution of 2022 LLMs have become somewhat synonymous with the term \"AI\". A lot of the concepts and code that power these tools have been developed over the past few decades, expanding on the many innovations in computer science that followed the launch of the internet. \n",
    "\n",
    "It's important to remember that \"AI\" is **developed by people**. I believe that better public understanding and more meaningful intention on the utilization of these tools is essential for future generations and businesses. There are many benefits that can be realized today, but steps **must** be taken to intentionaly govern systems, improve education, and curtail [the lack of training to stop harmful responses](https://www.theatlantic.com/technology/archive/2025/07/chatgpt-ai-self-mutilation-satanism/683649/). A bit of healthy skepticism should always be applied. This notebook is intended to be conceptual and thought-provoking - hence open source.\n",
    "\n",
    "The term \"Large Language Model\" started appearing after the \"Transformer\" architectures presented by [Google Research in 2017](https://research.google/blog/transformer-a-novel-neural-network-architecture-for-language-understanding/). LLMs are compromised of various components that require different [machine-learning](https://mitsloan.mit.edu/ideas-made-to-matter/machine-learning-explained) \"roles\", starting with a transformer:\n",
    "\n",
    "| Component                | Role in Machine Learning                        |\n",
    "| ------------------------ | ----------------------------------------------- |\n",
    "| Transformer Architecture | Encodes and processes text efficiently          |\n",
    "| Self-Attention           | Captures word relationships across sequences    |\n",
    "| Pretraining Objective    | Predict next/missing tokens (self-supervised)   |\n",
    "| Optimization             | Learns by minimizing loss via gradient descent  |\n",
    "| Data                     | Provides diverse examples for language learning |\n",
    "| Parameters               | Store learned patterns and associations         |\n",
    "| Inference                | Applies learned patterns to generate text       |\n",
    "| Fine-tuning / RLHF       | Aligns model to tasks or human values           |\n",
    "\n",
    "A great book suggestion below:\n",
    "\n",
    "<img\n",
    "     src='https://m.media-amazon.com/images/I/71eljkULtwL._SY522_.jpg' \n",
    "     width='250px'\n",
    "/>\n",
    "\n",
    "[Build a Large Language Model from Scratch](https://www.amazon.com/dp/1633437167/?bestFormat=true&k=build%20a%20large%20language%20model%20from%20scratch&ref_=nb_sb_ss_w_scx-ent-pd-bk-d_de_k0_1_11&crid=3HQAYQFDKZ74&sprefix=build%20a%20lar)"
   ]
  },
  {
   "cell_type": "markdown",
   "id": "ed4cc83e-f9ba-49ad-8bcc-cae0b01e7b25",
   "metadata": {},
   "source": [
    "## Options and Key Products\n",
    "\n",
    "~3 years removed from ChatGPT's initial launch, the LLM landscape has ballooned with many players in the software space trying to either improve or replace their existing products, platforms, and services. The game is always evolving. \n",
    "\n",
    "Below are a few of [the top options](https://youtu.be/5CYxxgbd3RU?si=spSCLHgU_jLZXeZE) available:\n",
    "\n",
    "- [ChatGPT](https://chatgpt.com/) continues to flourish as a consumer friendly product with use cases that require nothing more than text input. The company does offer \"GPT models\" that seamlessly integrate with your own ecosystem via APIs.\n",
    "\n",
    "- [Grok](https://grok.com/chat) exists because Elon Musk got into a spat with Sam Altman and never let it go. Now [he's on a mission](https://youtu.be/dbgL00a7_xs?si=wlLvmrMEQBsXBK6D) to just be better.\n",
    "\n",
    "- [Google Gemini](https://gemini.google.com/) is getting better every day, trying to shed that image of the [Bard launch](https://www.britannica.com/technology/Google-Gemini) in 2023. Google's strength lies in it's research, software engineering capabilities, and scale of compute.\n",
    "\n",
    "- [Microsoft Copilot](https://copilot.microsoft.com/chats/dsZvbsxNJDM8QDZ92hQcc) leaves you realizing that the price tag to fully integrate a LLM with your PowerPoints was [~$10B USD](https://www.forbes.com/sites/qai/2023/01/27/microsoft-confirms-its-10-billion-investment-into-chatgpt-changing-how-microsoft-competes-with-google-apple-and-other-tech-giants/), thanks Microsoft.\n",
    "\n",
    "- [IBM Granite](https://www.ibm.com/granite/playground/) is the culmination of the firm's extensive AI research, which spans decades. Also, they have a lot of patents. \n",
    "\n",
    "- [Amazon Bedrock](https://aws.amazon.com/ai/generative-ai/?trk=3055a749-e499-40eb-bce1-ed616a5af552&sc_channel=ps&ef_id=Cj0KCQjwpf7CBhCfARIsANIETVoRrUrIZoal9k3K3-UrgdEZjvvLjFqBjNEmcuzhM0s8woLl2w2ZhMEaAlohEALw_wcB:G:s&s_kwcid=AL!4422!3!686079219756!p!!g!!amazon%20generative%20ai!20901655886!158309130618&gad_campaignid=20901655886&gbraid=0AAAAADjHtp_PwAxF-Z7hdAX25A85W2AE4&gclid=Cj0KCQjwpf7CBhCfARIsANIETVoRrUrIZoal9k3K3-UrgdEZjvvLjFqBjNEmcuzhM0s8woLl2w2ZhMEaAlohEALw_wcB) is where you come to check out a LLM and leave with 10 different storage solutions, 5 virtual servers that are labeled as \"serverless\", 2 new applications, and a bunch of $100 gift cards to try and incentivize your sales teams. They have strong partners in the LLM space, including [Anthropic's Claude](https://www.anthropic.com/), [which relies on Amazon's \"bedrock\" service](https://www.aboutamazon.com/news/aws/amazon-invests-additional-4-billion-anthropic-ai). \n",
    "\n",
    "Many other products exist that leverage these services through \"Application Programming Interfaces\" (APIs) and are made available as [SaaS](https://en.wikipedia.org/wiki/Software_as_a_service) products. To start, I'll use what I already have... my Apple© operating system and Python."
   ]
  },
  {
   "cell_type": "code",
   "execution_count": 2,
   "id": "7bb87358-f54b-4969-b6c2-f83b98c465b9",
   "metadata": {
    "tags": []
   },
   "outputs": [],
   "source": [
    "import os\n",
    "import subprocess\n",
    "from dotenv import load_dotenv"
   ]
  },
  {
   "cell_type": "code",
   "execution_count": 3,
   "id": "31ab2db2-0e58-4e2c-a16d-c18bab00a02f",
   "metadata": {},
   "outputs": [
    {
     "data": {
      "text/plain": [
       "True"
      ]
     },
     "execution_count": 3,
     "metadata": {},
     "output_type": "execute_result"
    }
   ],
   "source": [
    "load_dotenv()"
   ]
  },
  {
   "cell_type": "markdown",
   "id": "0acd5e5d-ea96-469f-9ddf-fa1afec5bd65",
   "metadata": {},
   "source": [
    "The subprocess library will help with a demo later in the notebook and [dotenv](https://pypi.org/project/python-dotenv/) keeps my environment variables hidden 🤫."
   ]
  },
  {
   "cell_type": "markdown",
   "id": "e9504cf2-00e1-401c-8e62-cbe90e3cad0b",
   "metadata": {},
   "source": [
    "# Chat GPT\n",
    "\n",
    "OpenAI was co-founded in late 2015 by Elon Musk and Sam Altman as a non-profit research company with the goal of developing [artificial general intelligence](https://en.wikipedia.org/wiki/Artificial_general_intelligence) (AGI) in a way that benefits humanity. Since then, [things have gone exactly as they both envisioned](https://youtu.be/3nFdL082maU?si=iPZw_c5JMXFV09hG)."
   ]
  },
  {
   "cell_type": "code",
   "execution_count": 4,
   "id": "0f5297df-d80c-4e1c-b5cd-70e63476bffb",
   "metadata": {
    "tags": []
   },
   "outputs": [
    {
     "name": "stdout",
     "output_type": "stream",
     "text": [
      "Open AI library: 1.97.0\n"
     ]
    }
   ],
   "source": [
    "import openai\n",
    "print(f'Open AI library: {openai.__version__}')"
   ]
  },
  {
   "cell_type": "code",
   "execution_count": 5,
   "id": "4635da91-d729-47a5-91d8-9fe8a96467ec",
   "metadata": {
    "tags": []
   },
   "outputs": [],
   "source": [
    "client = openai.OpenAI(api_key=os.environ.get('OPENAI_API_KEY'))"
   ]
  },
  {
   "cell_type": "code",
   "execution_count": 6,
   "id": "04ec250d-01a3-4bfb-bff3-0dd2e603e20b",
   "metadata": {},
   "outputs": [],
   "source": [
    "response = client.responses.create(\n",
    "    model='gpt-3.5-turbo',\n",
    "    input='What company holds the most patents related to computers?'\n",
    ")"
   ]
  },
  {
   "cell_type": "code",
   "execution_count": 7,
   "id": "61451011-a362-4b84-86d1-5a61243ce339",
   "metadata": {
    "tags": []
   },
   "outputs": [
    {
     "name": "stdout",
     "output_type": "stream",
     "text": [
      "As of 2021, the company that holds the most patents related to computers is IBM (International Business Machines Corporation). IBM has a long history of innovation and has been granted numerous patents related to computer technologies, software, and hardware. IBM is known for its extensive research and development efforts, which have resulted in a large portfolio of intellectual property in the field of computing.\n"
     ]
    }
   ],
   "source": [
    "print(response.output_text)"
   ]
  },
  {
   "cell_type": "markdown",
   "id": "d39fd0ba-045b-4fa3-b428-2b0021a2684d",
   "metadata": {},
   "source": [
    "# Grok 🤖\n",
    "\n",
    "Grok's latest model benchmarks better than any other LLM, which is why you gotta pay for the keys to the car. TL;DR - This API does what the ChatGPT one did above and what the Google one will do below, the difference is in their training, weights, and documentation.\n",
    "\n",
    "[API Docs](https://docs.x.ai/docs/tutorial)\n",
    "\n",
    "<img\n",
    "     src='data/tokens/grok.png' \n",
    "     width='300px'\n",
    "/>\n",
    "\n",
    "The original Grok model (less powerful) is fully open sourced and made available via [GitHub](https://github.com/xai-org/grok-1/tree/main). "
   ]
  },
  {
   "cell_type": "markdown",
   "id": "2287bfbf-cece-4d2a-ae04-655717cbc593",
   "metadata": {},
   "source": [
    "# Google 🧠\n",
    "\n",
    "Google has an incredible history of engineering. Today, Google seems to be focused on creating futuristic products that push boundaries. Since launching their [search engine in the late 1990s](https://en.wikipedia.org/wiki/History_of_Google), [home](https://home.google.com/explore-devices/) and [consumer technology](https://about.google/products/) have become the dominant product strategies at Google.\n",
    "\n",
    "Google is definitely a leader in computation, [albeit a little odd at times](https://youtu.be/wKNGMlE3MrY?si=EVxrMC74888LqeMe).\n",
    "\n",
    "\n",
    "<img\n",
    "     src='data/serg.png' \n",
    "     width='600px'\n",
    "/>\n",
    "\n",
    "## Generative AI\n",
    "\n",
    "Google offers an [API](https://ai.google.dev/gemini-api/docs/quickstart?lang=python) to their LLM called genai, short for [Generative AI](https://en.wikipedia.org/wiki/Generative_artificial_intelligence)."
   ]
  },
  {
   "cell_type": "code",
   "execution_count": 8,
   "id": "4c3419a2-e4f4-410e-acf3-3aa8db826b29",
   "metadata": {},
   "outputs": [
    {
     "name": "stdout",
     "output_type": "stream",
     "text": [
      "Google library: 1.26.0\n"
     ]
    }
   ],
   "source": [
    "from google import genai\n",
    "print(f'Google library: {genai.__version__}')"
   ]
  },
  {
   "cell_type": "code",
   "execution_count": 9,
   "id": "cdc73e56-9839-4c37-bbb9-f613fb05fa99",
   "metadata": {
    "tags": []
   },
   "outputs": [],
   "source": [
    "client = genai.Client(api_key=os.environ.get('GOOGLE_API_KEY'))"
   ]
  },
  {
   "cell_type": "code",
   "execution_count": 10,
   "id": "9ac316d6-98aa-4cd4-ae56-b5b2c2f01203",
   "metadata": {},
   "outputs": [],
   "source": [
    "response = client.models.generate_content(\n",
    "    model='gemini-2.5-flash', \n",
    "    contents='Explain the difference between a duck and a mallard'\n",
    ")"
   ]
  },
  {
   "cell_type": "code",
   "execution_count": 11,
   "id": "3910d4e0-4820-425c-a4d6-59d6bb51bc53",
   "metadata": {},
   "outputs": [
    {
     "name": "stdout",
     "output_type": "stream",
     "text": [
      "The key difference between a \"duck\" and a \"mallard\" is that a **mallard is a specific species of duck**, while \"duck\" is a general term referring to a whole group of waterfowl.\n",
      "\n",
      "Think of it like this:\n",
      "\n",
      "*   **Fruit** is a general category, and an **apple** is a specific type of fruit.\n",
      "*   **Dog** is a general category, and a **Golden Retriever** is a specific breed of dog.\n",
      "\n",
      "Similarly:\n",
      "\n",
      "*   **Duck** is the general category.\n",
      "*   **Mallard** is a specific type of duck within that category.\n",
      "\n",
      "Here's a breakdown:\n",
      "\n",
      "### What is a Duck?\n",
      "\n",
      "*   **General Term:** \"Duck\" is a common name for a large number of species in the waterfowl family **Anatidae** (which also includes geese and swans).\n",
      "*   **Characteristics:** Ducks are typically smaller than geese and swans, have relatively short necks, webbed feet, and flattened bills. They are aquatic birds, found in both fresh and saltwater environments around the world.\n",
      "*   **Diversity:** There are many, many different species of ducks, each with unique features, behaviors, and habitats. Examples include wood ducks, mandarin ducks, canvasbacks, pintails, teal, scoters, and many more.\n",
      "\n",
      "### What is a Mallard?\n",
      "\n",
      "*   **Specific Species:** A **mallard** (*Anas platyrhynchos*) is one particular species of duck.\n",
      "*   **Commonality:** It is arguably the most common and widely recognized duck species in the Northern Hemisphere, known for its adaptability to various environments, including urban parks.\n",
      "*   **Distinguishing Features:**\n",
      "    *   **Male (Drake):** Easily identifiable by its iridescent green head, a white neck ring, a chestnut breast, and grey flanks.\n",
      "    *   **Female (Hen):** Mottled brown with an orange and brown bill, providing excellent camouflage.\n",
      "    *   **Bill:** Their bills are typically yellowish-orange.\n",
      "*   **Behavior:** Mallards are \"dabbling ducks,\" meaning they feed by tipping their bodies upside down in shallow water to reach submerged vegetation and invertebrates, rather than diving completely underwater.\n",
      "*   **Ancestry:** Mallards are significant because they are the ancestors of most domestic duck breeds (like Pekin ducks, Rouen ducks, etc.).\n",
      "\n",
      "**In short: All mallards are ducks, but not all ducks are mallards.**\n"
     ]
    }
   ],
   "source": [
    "print(response.text)"
   ]
  },
  {
   "cell_type": "markdown",
   "id": "08ada84c-f2e9-4f0b-a1ab-319cd01f4ae4",
   "metadata": {},
   "source": [
    "## Search\n",
    "\n",
    "<img\n",
    "     src='https://t4.ftcdn.net/jpg/03/86/85/77/360_F_386857735_iEZ5y3LVde9nwDkBb3wnt5PuEE1ylWRJ.jpg' \n",
    "     width='400px'\n",
    "/>\n",
    "\n",
    "[--->](https://www.google.com/)"
   ]
  },
  {
   "cell_type": "markdown",
   "id": "91077abc-e0ac-4a93-8cb0-5af72d6438ff",
   "metadata": {},
   "source": [
    "# Microsoft (GitHub) Copilot  👨‍✈️\n",
    "\n",
    "Microsoft offers the most complete code editor in [Visual Studio Code](https://code.visualstudio.com/) along with staples like [Windows Operating System](https://www.microsoft.com/en-us/windows) and [Microsoft Office](https://www.microsoft.com/en-us/microsoft-365/microsoft-office) products. They also employ the [founder of the Python language](https://gvanrossum.github.io/) on top of being ChatGPT's primary investing partner. Also, they have their own LLM named [Copilot](https://developer.microsoft.com/en-us/copilot).\n",
    "\n",
    "Want to start your own language? Microsoft tools can help you do that.\n",
    "\n",
    "<img\n",
    "     src='https://assets.techrepublic.com/uploads/2017/09/microsoftword.jpg' \n",
    "     width='400px'\n",
    "/>"
   ]
  },
  {
   "cell_type": "markdown",
   "id": "d00702a8-639b-4b91-beeb-3314ffdbc6b8",
   "metadata": {},
   "source": [
    "## Azure Cloud Services\n",
    "\n",
    "Microsoft's suite of cloud solutions is named [Azure](https://azure.microsoft.com/en-us/), providing managed comptue needs through a business-friendly interface."
   ]
  },
  {
   "cell_type": "code",
   "execution_count": 12,
   "id": "a12dd687-53b2-42ab-a20c-9bffb24f0514",
   "metadata": {
    "tags": []
   },
   "outputs": [
    {
     "name": "stdout",
     "output_type": "stream",
     "text": [
      "Azure library: 1.23.1\n"
     ]
    }
   ],
   "source": [
    "import azure.identity\n",
    "import azure.mgmt.resource\n",
    "print(f'Azure library: {azure.identity.__version__}')"
   ]
  },
  {
   "cell_type": "code",
   "execution_count": 13,
   "id": "103c2e99-2efc-457a-a7b6-6b32a72674c8",
   "metadata": {
    "tags": []
   },
   "outputs": [],
   "source": [
    "credential = azure.identity.AzureCliCredential()\n",
    "subscription_id = os.environ.get('AZURE_SUB_ID')\n",
    "resource_client = azure.mgmt.resource.ResourceManagementClient(credential, subscription_id)"
   ]
  },
  {
   "cell_type": "code",
   "execution_count": 14,
   "id": "531a2926-62b8-4b60-9ad7-26d22a4f972a",
   "metadata": {
    "tags": []
   },
   "outputs": [
    {
     "data": {
      "text/plain": [
       "<azure.mgmt.resource.resources.v2025_04_01.models._models_py3.ResourceGroup at 0x11a196450>"
      ]
     },
     "execution_count": 14,
     "metadata": {},
     "output_type": "execute_result"
    }
   ],
   "source": [
    "resource_client.resource_groups.create_or_update(\n",
    "    'superSweetResources',\n",
    "    {'location': 'eastus'}\n",
    ")"
   ]
  },
  {
   "cell_type": "code",
   "execution_count": 15,
   "id": "f5bcc454-01db-4582-a745-3cb3c7acf0f4",
   "metadata": {
    "tags": []
   },
   "outputs": [
    {
     "name": "stdout",
     "output_type": "stream",
     "text": [
      "Name: superSweetResources, Location: eastus\n"
     ]
    }
   ],
   "source": [
    "# list resource groups\n",
    "for rg in resource_client.resource_groups.list():\n",
    "    print(f'Name: {rg.name}, Location: {rg.location}')"
   ]
  },
  {
   "cell_type": "markdown",
   "id": "3a8dde10-4612-4640-ae26-8d605339c5f4",
   "metadata": {},
   "source": [
    "## The Essentials: Excel & Pandas\n",
    "\n",
    "Microsoft is extremely capable. Excel and [Pandas](https://pandas.pydata.org/) alone will get you started on a lot of projects. An important library needed to work with pandas and excel: [openpyxl](https://openpyxl.readthedocs.io/en/stable/)."
   ]
  },
  {
   "cell_type": "code",
   "execution_count": 16,
   "id": "c1711de8-d1f8-4b2f-a075-8ea473c52bf6",
   "metadata": {
    "tags": []
   },
   "outputs": [
    {
     "name": "stdout",
     "output_type": "stream",
     "text": [
      "Pandas library: 1.5.3\n"
     ]
    }
   ],
   "source": [
    "import pandas as pd\n",
    "print(f'Pandas library: {pd.__version__}')"
   ]
  },
  {
   "cell_type": "code",
   "execution_count": 17,
   "id": "f700508b-397d-4a7f-85a8-adf84e87c6c4",
   "metadata": {
    "tags": []
   },
   "outputs": [
    {
     "data": {
      "text/html": [
       "<div>\n",
       "<style scoped>\n",
       "    .dataframe tbody tr th:only-of-type {\n",
       "        vertical-align: middle;\n",
       "    }\n",
       "\n",
       "    .dataframe tbody tr th {\n",
       "        vertical-align: top;\n",
       "    }\n",
       "\n",
       "    .dataframe thead th {\n",
       "        text-align: right;\n",
       "    }\n",
       "</style>\n",
       "<table border=\"1\" class=\"dataframe\">\n",
       "  <thead>\n",
       "    <tr style=\"text-align: right;\">\n",
       "      <th></th>\n",
       "      <th>Units Sold YTD</th>\n",
       "      <th>Target</th>\n",
       "      <th>Actual</th>\n",
       "    </tr>\n",
       "  </thead>\n",
       "  <tbody>\n",
       "    <tr>\n",
       "      <th>0</th>\n",
       "      <td>January</td>\n",
       "      <td>10</td>\n",
       "      <td>8</td>\n",
       "    </tr>\n",
       "    <tr>\n",
       "      <th>1</th>\n",
       "      <td>February</td>\n",
       "      <td>17</td>\n",
       "      <td>15</td>\n",
       "    </tr>\n",
       "    <tr>\n",
       "      <th>2</th>\n",
       "      <td>March</td>\n",
       "      <td>28</td>\n",
       "      <td>22</td>\n",
       "    </tr>\n",
       "    <tr>\n",
       "      <th>3</th>\n",
       "      <td>April</td>\n",
       "      <td>38</td>\n",
       "      <td>35</td>\n",
       "    </tr>\n",
       "    <tr>\n",
       "      <th>4</th>\n",
       "      <td>May</td>\n",
       "      <td>50</td>\n",
       "      <td>45</td>\n",
       "    </tr>\n",
       "  </tbody>\n",
       "</table>\n",
       "</div>"
      ],
      "text/plain": [
       "  Units Sold YTD  Target  Actual\n",
       "0        January      10       8\n",
       "1       February      17      15\n",
       "2          March      28      22\n",
       "3          April      38      35\n",
       "4            May      50      45"
      ]
     },
     "execution_count": 17,
     "metadata": {},
     "output_type": "execute_result"
    }
   ],
   "source": [
    "file_path = 'data/macros.xlsx'\n",
    "df = pd.read_excel(file_path)\n",
    "df.head()"
   ]
  },
  {
   "cell_type": "markdown",
   "id": "2fd8cd62-be4a-4f30-8b45-4461e019f1fb",
   "metadata": {},
   "source": [
    "<img\n",
    "     src='https://i.pinimg.com/736x/2e/46/33/2e4633fcb64eb3c7168459342eb697b0.jpg' \n",
    "     width='200px'\n",
    "/>"
   ]
  },
  {
   "cell_type": "markdown",
   "id": "6b160988-e584-4e8f-811a-21a07cc88a07",
   "metadata": {},
   "source": [
    "# IBM 🕵️‍♂️\n",
    "\n",
    "[Big Blue's \"AI\" was doing LLM tasks before that acronym was even created](https://youtu.be/P18EdAKuC1U?si=KRADWRNLKC8xCdII). Watson was ahead of it's time, as the company name suggests IBM focuses primarily on businesses and not on individual consumers.\n",
    "\n",
    "<img\n",
    "     src='https://i.programmerhumor.io/2024/09/programmerhumor-io-cloud-memes-programming-memes-334591feaa1190c.png' \n",
    "     width='400px'\n",
    "/>\n",
    "\n",
    "For the full suite of capabilities:\n",
    "\n",
    "1. [Create an account with IBM](https://myibm.ibm.com/) and log in to [IBM Cloud](https://cloud.ibm.com/). \n",
    "2. Add a [Watsonx.ai Studio](https://www.ibm.com/products/watsonx-ai) AI / Machine Learning service (there is a free tier that you can run).\n",
    "3. Ensure that your python environment contains the [ibm-watson](https://pypi.org/project/ibm-watson/) library.\n",
    "4. Explore the catalog of available services for your project.\n",
    "\n",
    "## API Example\n",
    "\n",
    "This sample will showcase the [Speech-to-Text](https://www.ibm.com/products/speech-to-text) service. We are going to translate [a perfect demonstration of what training an LLM feels like](https://youtu.be/AEXS8TBd6ug?si=S4WMst7ku48RFhh7). "
   ]
  },
  {
   "cell_type": "code",
   "execution_count": 18,
   "id": "8725f897-5103-444d-a336-1a2968a5a3a2",
   "metadata": {
    "tags": []
   },
   "outputs": [
    {
     "name": "stdout",
     "output_type": "stream",
     "text": [
      "IBM Watson library: 10.0.0\n"
     ]
    }
   ],
   "source": [
    "import ibm_watson\n",
    "from ibm_cloud_sdk_core.authenticators import IAMAuthenticator\n",
    "print(f'IBM Watson library: {ibm_watson.__version__}')"
   ]
  },
  {
   "cell_type": "markdown",
   "id": "7a47fc0e-0372-4b4a-b87b-679a9b2e213e",
   "metadata": {},
   "source": [
    "This block takes a mp4 (video) file and extracts the audio into a .wav file using [ffmpeg](https://ffmpeg.org/)."
   ]
  },
  {
   "cell_type": "code",
   "execution_count": 19,
   "id": "f08e1239-96bb-470a-b71b-f76fde75a31e",
   "metadata": {},
   "outputs": [
    {
     "name": "stderr",
     "output_type": "stream",
     "text": [
      "ffmpeg version 7.1.1 Copyright (c) 2000-2025 the FFmpeg developers\n",
      "  built with Apple clang version 17.0.0 (clang-1700.0.13.3)\n",
      "  configuration: --prefix=/opt/homebrew/Cellar/ffmpeg/7.1.1_3 --enable-shared --enable-pthreads --enable-version3 --cc=clang --host-cflags= --host-ldflags='-Wl,-ld_classic' --enable-ffplay --enable-gnutls --enable-gpl --enable-libaom --enable-libaribb24 --enable-libbluray --enable-libdav1d --enable-libharfbuzz --enable-libjxl --enable-libmp3lame --enable-libopus --enable-librav1e --enable-librist --enable-librubberband --enable-libsnappy --enable-libsrt --enable-libssh --enable-libsvtav1 --enable-libtesseract --enable-libtheora --enable-libvidstab --enable-libvmaf --enable-libvorbis --enable-libvpx --enable-libwebp --enable-libx264 --enable-libx265 --enable-libxml2 --enable-libxvid --enable-lzma --enable-libfontconfig --enable-libfreetype --enable-frei0r --enable-libass --enable-libopencore-amrnb --enable-libopencore-amrwb --enable-libopenjpeg --enable-libspeex --enable-libsoxr --enable-libzmq --enable-libzimg --disable-libjack --disable-indev=jack --enable-videotoolbox --enable-audiotoolbox --enable-neon\n",
      "  libavutil      59. 39.100 / 59. 39.100\n",
      "  libavcodec     61. 19.101 / 61. 19.101\n",
      "  libavformat    61.  7.100 / 61.  7.100\n",
      "  libavdevice    61.  3.100 / 61.  3.100\n",
      "  libavfilter    10.  4.100 / 10.  4.100\n",
      "  libswscale      8.  3.100 /  8.  3.100\n",
      "  libswresample   5.  3.100 /  5.  3.100\n",
      "  libpostproc    58.  3.100 / 58.  3.100\n",
      "Input #0, mov,mp4,m4a,3gp,3g2,mj2, from 'data/again.mp4':\n",
      "  Metadata:\n",
      "    major_brand     : isom\n",
      "    minor_version   : 512\n",
      "    compatible_brands: isomiso2avc1mp41\n",
      "    encoder         : Lavf59.27.100\n",
      "  Duration: 00:01:43.89, start: 0.000000, bitrate: 231 kb/s\n",
      "  Stream #0:0[0x1](und): Video: h264 (Main) (avc1 / 0x31637661), yuv420p(tv, smpte170m/smpte170m/bt709, progressive), 490x360 [SAR 1:1 DAR 49:36], 95 kb/s, 29.97 fps, 29.97 tbr, 30k tbn (default)\n",
      "      Metadata:\n",
      "        handler_name    : ISO Media file produced by Google Inc.\n",
      "        vendor_id       : [0][0][0][0]\n",
      "  Stream #0:1[0x2](eng): Audio: aac (LC) (mp4a / 0x6134706D), 44100 Hz, stereo, fltp, 128 kb/s (default)\n",
      "      Metadata:\n",
      "        handler_name    : ISO Media file produced by Google Inc.\n",
      "        vendor_id       : [0][0][0][0]\n",
      "File 'data/herb.wav' already exists. Overwrite? [y/N] Not overwriting - exiting\n",
      "Error opening output file data/herb.wav.\n"
     ]
    },
    {
     "data": {
      "text/plain": [
       "0"
      ]
     },
     "execution_count": 19,
     "metadata": {},
     "output_type": "execute_result"
    }
   ],
   "source": [
    "# call this cell below to convert the mp4 file to audio, storing it in the data folder\n",
    "command = 'ffmpeg -i data/again.mp4 -ab 160k -ar 44100 -vn data/herb.wav'\n",
    "subprocess.call(command, shell=True)"
   ]
  },
  {
   "cell_type": "markdown",
   "id": "da5bc1eb-4510-4c43-866e-554cc9637aa3",
   "metadata": {},
   "source": [
    "Connect to the IBM speech-to-text service using the API Key and URL managed from the Watson Studio console:"
   ]
  },
  {
   "cell_type": "code",
   "execution_count": 20,
   "id": "c9c90be6-152c-4a2c-8d18-aafab7fb6f4c",
   "metadata": {},
   "outputs": [],
   "source": [
    "authenticator = IAMAuthenticator(os.environ.get('IBM_STT_API_KEY'))\n",
    "stt = ibm_watson.SpeechToTextV1(authenticator=authenticator)\n",
    "stt.set_service_url(os.environ.get('IBM_STT_URL'))"
   ]
  },
  {
   "cell_type": "code",
   "execution_count": 21,
   "id": "41c2e870-0e19-4fe9-8113-93c9a85f4bf8",
   "metadata": {
    "tags": []
   },
   "outputs": [],
   "source": [
    "with open('data/herb.wav', 'rb') as f:\n",
    "    res = stt.recognize(audio=f, content_type='audio/wav', model='en-US_NarrowbandModel').get_result()"
   ]
  },
  {
   "cell_type": "code",
   "execution_count": 22,
   "id": "937b0adc-c952-453e-b12e-5530b2fe54f0",
   "metadata": {},
   "outputs": [
    {
     "data": {
      "text/plain": [
       "\"B. email %HESITATION and then.\\ncause common men going no work.\\nyou have to be on call.\\nyes.\\nthis is going on long enough everybody on that line somebody's going to get hurt.\\nbut I get on the line.\\nagain.\\nagain.\\nI would choose.\\nwhat do you.\\n\""
      ]
     },
     "execution_count": 22,
     "metadata": {},
     "output_type": "execute_result"
    }
   ],
   "source": [
    "''.join([result['alternatives'][0]['transcript'].rstrip() + '.\\n' for result in res['results']])"
   ]
  },
  {
   "cell_type": "markdown",
   "id": "d42ca98b-1f54-4e0b-9a5f-3e8c12efa72d",
   "metadata": {
    "jp-MarkdownHeadingCollapsed": true,
    "tags": []
   },
   "source": [
    "## Observations\n",
    "\n",
    "Computers still struggle with complicated translation tasks. All the pre-trained examples in this notebook are great at processing text when it is given to them in a clear, readable format (e.g. sending typed text directly to the model). \n",
    "\n",
    "Extracting text from a non text format? More difficult. I intentionally picked a video with the following characteristics to highlight just how difficult this task is for a computer: \n",
    "\n",
    "- Low resolution (from a movie > 20 years old)\n",
    "- Music playing in the background\n",
    "- Multiple speakers with different accents\n",
    "- Muffled and difficult to decipher moments - The response doesn't have any text for Mike Eruzione's epic *\"I play for the United States of America!\"* :(\n",
    "\n",
    "This process started with calling a C program (ffmpeg) to create the audio file from a video (first opportunity for data loss). Watson's Speech-to-Text service then creates the transcript from the audio file (second opportunity for data loss). It reveals a crucial role in the process - [model training](https://www.ibm.com/think/topics/training-data) and evaluation. \n",
    "\n",
    "These tasks require **human** time and energy (∴ money) to make useful.\n",
    "\n",
    "<img\n",
    "     src='https://ecotalker.wordpress.com/wp-content/uploads/2024/04/fl.jpg?w=602' \n",
    "     width='300px'\n",
    "/>"
   ]
  },
  {
   "cell_type": "markdown",
   "id": "9c1b561e-747f-4d0f-9a3e-ece00a4e39c7",
   "metadata": {},
   "source": [
    "# Amazon ☁️ \n",
    "\n",
    "Amazon is the [Costco of the internet](https://seekingalpha.com/article/4586264-how-amazon-expands-costcos-business-model), offering various web services (AWS). Straight forward and to the point - you can use AWS products that you have access to with [boto3](https://boto3.amazonaws.com/v1/documentation/api/latest/guide/quickstart.html). \n",
    "\n",
    "<img\n",
    "     src='https://bnrbeurs.nl/f/files/showimage/original/afbeeldingen/in-depth-article-pictures/amazon_article-702x336.jpg' \n",
    "     width='500px'\n",
    "/>\n"
   ]
  },
  {
   "cell_type": "code",
   "execution_count": 23,
   "id": "467da511-8a2b-4fee-88b5-e6d3efb69b33",
   "metadata": {},
   "outputs": [
    {
     "name": "stdout",
     "output_type": "stream",
     "text": [
      "AWS library: 1.39.8\n"
     ]
    }
   ],
   "source": [
    "import boto3\n",
    "print(f'AWS library: {boto3.__version__}')"
   ]
  },
  {
   "cell_type": "markdown",
   "id": "19a7bbe6-db52-407a-8383-c422514bd140",
   "metadata": {},
   "source": [
    "## Simple Storage\n",
    "\n",
    "AWS [S3 Buckets](https://aws.amazon.com/s3/), which stands for \"Simple Storage Service\", helps you efficiently store and share data across the internet."
   ]
  },
  {
   "cell_type": "code",
   "execution_count": 24,
   "id": "50848ab1-8680-4e00-8e7f-6569cdd237ba",
   "metadata": {},
   "outputs": [],
   "source": [
    "s3 = boto3.resource('s3')"
   ]
  },
  {
   "cell_type": "code",
   "execution_count": 25,
   "id": "4749a7bb-2719-4239-9ebb-7aed0674a66b",
   "metadata": {
    "tags": []
   },
   "outputs": [
    {
     "name": "stdout",
     "output_type": "stream",
     "text": [
      "llm-python\n"
     ]
    }
   ],
   "source": [
    "for bucket in s3.buckets.all():\n",
    "    print(bucket.name)"
   ]
  },
  {
   "cell_type": "code",
   "execution_count": 26,
   "id": "0a533ba6-14f2-4eff-9cc1-37b442cbf5a3",
   "metadata": {
    "tags": []
   },
   "outputs": [],
   "source": [
    "# upload the image file we have in this local folder to our bucket\n",
    "with open('data/herb.wav', 'rb') as data:\n",
    "    s3.Bucket('llm-python').put_object(Key='serg.png', Body=data)\n",
    "\n",
    "# upload out excel document to the same bucket\n",
    "with open('data/macros.xlsx', 'rb') as data:\n",
    "    s3.Bucket('llm-python').put_object(Key='macros.xlsx', Body=data)"
   ]
  },
  {
   "cell_type": "code",
   "execution_count": 27,
   "id": "ba4e0ade-1416-44ce-90e6-2dc055fce94d",
   "metadata": {
    "tags": []
   },
   "outputs": [
    {
     "name": "stdout",
     "output_type": "stream",
     "text": [
      "macros.xlsx\n",
      "serg.png\n"
     ]
    }
   ],
   "source": [
    "bucket = s3.Bucket('llm-python')\n",
    "for obj in bucket.objects.all():\n",
    "    print(obj.key)"
   ]
  },
  {
   "cell_type": "markdown",
   "id": "c91bc713-e191-4bc4-ba8a-87c55918de42",
   "metadata": {},
   "source": [
    "## Bedrock\n",
    "\n",
    "Amazon's ventures into LLMs are fueled through their existing cloud service strength coupled with partnerships. Their interface for engaging with LLMs programmatically is called [Bedrock](https://aws.amazon.com/bedrock/?trk=08282587-d3fb-400b-84e2-ca74b0851af5&sc_channel=ps&ef_id=Cj0KCQjwhO3DBhDkARIsANxrhTortCJ2yk3Iy5wZL1_kBV1-9c7loJNearVDWg5KNndNH78eVilYNrkaAjqaEALw_wcB:G:s&s_kwcid=AL!4422!3!692006004688!p!!g!!amazon%20bedrock!21048268554!159639952935&gad_campaignid=21048268554&gbraid=0AAAAADjHtp85HiwVjTuY8g4YFAM2dXCZz&gclid=Cj0KCQjwhO3DBhDkARIsANxrhTortCJ2yk3Iy5wZL1_kBV1-9c7loJNearVDWg5KNndNH78eVilYNrkaAjqaEALw_wcB), which allows programmers to access the power of Amazon's own models, [Anthropic's](https://www.anthropic.com/) models, [Deepseek's](https://www.deepseek.com/) models, and [Meta's](https://www.llama.com/) models."
   ]
  },
  {
   "cell_type": "code",
   "execution_count": 28,
   "id": "4457c711-0214-4c47-a8fa-9e4cddf2a1b6",
   "metadata": {
    "tags": []
   },
   "outputs": [],
   "source": [
    "bedrock = boto3.client(service_name='bedrock')"
   ]
  },
  {
   "cell_type": "code",
   "execution_count": 29,
   "id": "7e9af228-9fb7-4b75-9198-7aaa561a4eb0",
   "metadata": {
    "tags": []
   },
   "outputs": [
    {
     "name": "stdout",
     "output_type": "stream",
     "text": [
      "Model Name: Titan Text Embeddings V2\n",
      "Model ID: amazon.titan-embed-text-v2:0\n",
      "Provider Name: Amazon\n",
      "------------------------------\n",
      "Model Name: Nova Pro\n",
      "Model ID: amazon.nova-pro-v1:0\n",
      "Provider Name: Amazon\n",
      "------------------------------\n",
      "Model Name: Nova Premier\n",
      "Model ID: amazon.nova-premier-v1:0:8k\n",
      "Provider Name: Amazon\n",
      "------------------------------\n",
      "Model Name: Nova Premier\n",
      "Model ID: amazon.nova-premier-v1:0:20k\n",
      "Provider Name: Amazon\n",
      "------------------------------\n",
      "Model Name: Nova Premier\n",
      "Model ID: amazon.nova-premier-v1:0:1000k\n",
      "Provider Name: Amazon\n",
      "------------------------------\n",
      "Model Name: Nova Premier\n",
      "Model ID: amazon.nova-premier-v1:0:mm\n",
      "Provider Name: Amazon\n",
      "------------------------------\n",
      "Model Name: Nova Premier\n",
      "Model ID: amazon.nova-premier-v1:0\n",
      "Provider Name: Amazon\n",
      "------------------------------\n",
      "Model Name: Nova Lite\n",
      "Model ID: amazon.nova-lite-v1:0\n",
      "Provider Name: Amazon\n",
      "------------------------------\n",
      "Model Name: Nova Micro\n",
      "Model ID: amazon.nova-micro-v1:0\n",
      "Provider Name: Amazon\n",
      "------------------------------\n",
      "Model Name: Claude 3.5 Sonnet\n",
      "Model ID: anthropic.claude-3-5-sonnet-20240620-v1:0\n",
      "Provider Name: Anthropic\n",
      "------------------------------\n",
      "Model Name: Claude 3.7 Sonnet\n",
      "Model ID: anthropic.claude-3-7-sonnet-20250219-v1:0\n",
      "Provider Name: Anthropic\n",
      "------------------------------\n",
      "Model Name: Claude 3 Haiku\n",
      "Model ID: anthropic.claude-3-haiku-20240307-v1:0:200k\n",
      "Provider Name: Anthropic\n",
      "------------------------------\n",
      "Model Name: Claude 3 Haiku\n",
      "Model ID: anthropic.claude-3-haiku-20240307-v1:0\n",
      "Provider Name: Anthropic\n",
      "------------------------------\n",
      "Model Name: Claude 3.5 Sonnet v2\n",
      "Model ID: anthropic.claude-3-5-sonnet-20241022-v2:0\n",
      "Provider Name: Anthropic\n",
      "------------------------------\n",
      "Model Name: Claude 3.5 Haiku\n",
      "Model ID: anthropic.claude-3-5-haiku-20241022-v1:0\n",
      "Provider Name: Anthropic\n",
      "------------------------------\n",
      "Model Name: Claude Opus 4\n",
      "Model ID: anthropic.claude-opus-4-20250514-v1:0\n",
      "Provider Name: Anthropic\n",
      "------------------------------\n",
      "Model Name: Claude Sonnet 4\n",
      "Model ID: anthropic.claude-sonnet-4-20250514-v1:0\n",
      "Provider Name: Anthropic\n",
      "------------------------------\n",
      "Model Name: DeepSeek-R1\n",
      "Model ID: deepseek.r1-v1:0\n",
      "Provider Name: DeepSeek\n",
      "------------------------------\n",
      "Model Name: Pixtral Large (25.02)\n",
      "Model ID: mistral.pixtral-large-2502-v1:0\n",
      "Provider Name: Mistral AI\n",
      "------------------------------\n",
      "Model Name: Llama 3.1 8B Instruct\n",
      "Model ID: meta.llama3-1-8b-instruct-v1:0:128k\n",
      "Provider Name: Meta\n",
      "------------------------------\n",
      "Model Name: Llama 3.1 8B Instruct\n",
      "Model ID: meta.llama3-1-8b-instruct-v1:0\n",
      "Provider Name: Meta\n",
      "------------------------------\n",
      "Model Name: Llama 3.1 70B Instruct\n",
      "Model ID: meta.llama3-1-70b-instruct-v1:0:128k\n",
      "Provider Name: Meta\n",
      "------------------------------\n",
      "Model Name: Llama 3.1 70B Instruct\n",
      "Model ID: meta.llama3-1-70b-instruct-v1:0\n",
      "Provider Name: Meta\n",
      "------------------------------\n",
      "Model Name: Llama 3.1 405B Instruct\n",
      "Model ID: meta.llama3-1-405b-instruct-v1:0\n",
      "Provider Name: Meta\n",
      "------------------------------\n",
      "Model Name: Llama 3.2 11B Instruct\n",
      "Model ID: meta.llama3-2-11b-instruct-v1:0\n",
      "Provider Name: Meta\n",
      "------------------------------\n",
      "Model Name: Llama 3.2 90B Instruct\n",
      "Model ID: meta.llama3-2-90b-instruct-v1:0\n",
      "Provider Name: Meta\n",
      "------------------------------\n",
      "Model Name: Llama 3.2 1B Instruct\n",
      "Model ID: meta.llama3-2-1b-instruct-v1:0\n",
      "Provider Name: Meta\n",
      "------------------------------\n",
      "Model Name: Llama 3.2 3B Instruct\n",
      "Model ID: meta.llama3-2-3b-instruct-v1:0\n",
      "Provider Name: Meta\n",
      "------------------------------\n",
      "Model Name: Llama 3.3 70B Instruct\n",
      "Model ID: meta.llama3-3-70b-instruct-v1:0\n",
      "Provider Name: Meta\n",
      "------------------------------\n",
      "Model Name: Llama 4 Scout 17B Instruct\n",
      "Model ID: meta.llama4-scout-17b-instruct-v1:0\n",
      "Provider Name: Meta\n",
      "------------------------------\n",
      "Model Name: Llama 4 Maverick 17B Instruct\n",
      "Model ID: meta.llama4-maverick-17b-instruct-v1:0\n",
      "Provider Name: Meta\n",
      "------------------------------\n"
     ]
    }
   ],
   "source": [
    "#list foundation models\n",
    "response = bedrock.list_foundation_models()\n",
    "for model_summary in response['modelSummaries']:\n",
    "    print(f\"Model Name: {model_summary['modelName']}\")\n",
    "    print(f\"Model ID: {model_summary['modelId']}\")\n",
    "    print(f\"Provider Name: {model_summary['providerName']}\")\n",
    "    print('-' * 30)"
   ]
  },
  {
   "cell_type": "markdown",
   "id": "74b4b2cf-5368-4bbb-bc74-9a4c71ee4c86",
   "metadata": {},
   "source": [
    "For a better technicial understanding, see the graphic below. Amazon's [SageMaker](https://aws.amazon.com/sagemaker/?trk=50277b66-efbe-492b-96df-a90323968e99&sc_channel=ps&ef_id=Cj0KCQjwhO3DBhDkARIsANxrhTq6rYsO_NdG5ISwIf6KR4YnyjEG4zYa43TGH5waMcaEhsvhrlw6iBAaAuSIEALw_wcB:G:s&s_kwcid=AL!4422!3!532502995192!e!!g!!sagemaker!11206038603!113600690367&gad_campaignid=11206038603&gbraid=0AAAAADjHtp_WOvUjtHseZ65oNZP2AV402&gclid=Cj0KCQjwhO3DBhDkARIsANxrhTq6rYsO_NdG5ISwIf6KR4YnyjEG4zYa43TGH5waMcaEhsvhrlw6iBAaAuSIEALw_wcB) tool allows you to access all of your AWS resources from Jupyter Notebooks in a centralized cloud location. \n",
    "\n",
    "<img\n",
    "     src='https://docs.aws.amazon.com/images/decision-guides/latest/bedrock-or-sagemaker/images/gen-ai-stack-dec-2024.png' \n",
    "     width='500px'\n",
    "/>"
   ]
  },
  {
   "cell_type": "markdown",
   "id": "888cd457-eac0-462b-b4cf-d17f020c0bcb",
   "metadata": {},
   "source": [
    "# Technologies of the Future & SaaS\n",
    "\n",
    "All the solutions above are not free. You will incur costs when trying to build and maintain a useful application (say, for your business). These costs vary a lot depending on **what** it is you are looking to build and your compute utilization. Subscription based models are how these companies drive profitability from their own investments into training and creating these systems, which are significant:\n",
    "\n",
    "<img\n",
    "     src='https://epoch.ai/assets/images/posts/2024/how-much-does-it-cost-to-train-frontier-ai-models/how-much-does-it-cost-to-train-frontier-ai-models-banner.png' \n",
    "     width='500px'\n",
    "/>\n",
    "\n",
    "That graph doesn't even factor in the **people** required to make those hardware investments useful. These companies all engineer user interfaces for their systems, provide customer support, and of course try to sell their products! \n",
    "\n",
    "## Business Cases\n",
    "\n",
    "You can go a lot of different directions when jumping into a technology project / architecture design. It really depends on what you're trying to accomplish, which is why scope is so important before starting any project (and something that is a human, not machine-based task). I'll give you a quick example of how you might look at scopes. You'd need to put together a few use cases that can generate revenue from your website or analytics to justify the costs.\n",
    "\n",
    "### 💼 Small Business\n",
    "\n",
    "**Project Scope:** Design a new website and a collaborative platform to share data analysis for a small business.\n",
    "\n",
    "We'll start with the \"free\" aspects of the architecture (open source code that we will develop our solution from). I added a little extra compute into the architecture decisions ~ upfront complexity for long-term ease of scalability and adaptability:\n",
    "- **Website Architecture**: [Django](https://www.djangoproject.com/) is the most capable Python backend and allows for seamless integration with any JavaScript front-end. Selected for durability, code reliability, and scalability. A managed database will be used to take [full advantage of the ORM](https://medium.com/django-unleashed/understanding-django-orm-object-relational-mapping-16f3c29db7d7).\n",
    "\n",
    "- **Analytics Server Architecture**: A small [JupyterHub](https://tljh.jupyter.org/en/latest/) will do the trick. You just need a linux-based server to connect to. Since the database is set up on our website, we can pull information to analyze via API into the Jupyter server (for a large enough business, you might want to entertain hardware investments to create a private cloud for this application with dedicated storage and compute).\n",
    "\n",
    "For this project, I'll introduce [DigitalOcean](https://www.digitalocean.com/?utm_campaign=search_us_en_brand&utm_adgroup=brand_do&utm_keyword=digital%20ocean&utm_matchtype=p&utm_adposition=&utm_creative=743532792446&utm_placement=&utm_device=c&utm_location=&utm_location=9016785&utm_term=digital%20ocean&utm_source=google&utm_medium=cpc&gad_source=1&gad_campaignid=21702616935&gbraid=0AAAAADw9jcsdhtO4FTuwloPXmQ-mTkt6b&gclid=CjwKCAjw7fzDBhA7EiwAOqJkh_aL91bch18JDeebD5wJJgpc7PYJ2cUT7_aMF-vQSCibHdbk2xJQ8xoCJ7AQAvD_BwE) to provide a lower cost solution for small businesses that perfectly fits this use case.\n",
    "\n",
    "\n",
    "| Provider                         | Django App VM        | Jupyter Server VM          | Managed DB                 | Total Monthly Cost (Est.) |\n",
    "| -------------------------------- | -------------------- | -------------------------- | -------------------------- | ------------ |\n",
    "| **DigitalOcean**                 | \\$24 (Basic Droplet) | \\$48 (Performance Droplet) | \\$15 (Managed PGSQL)       | **\\$87**     |\n",
    "| **AWS (EC2 + RDS)**              | \\$29 (t3.medium)     | \\$60 (t3.large)            | \\$30 (db.t3.micro RDS)     | **\\$119**    |\n",
    "| **Azure (VM + Azure DB)**        | \\$32 (B2s)           | \\$70 (D2as\\_v5)            | \\$33 (Basic PostgreSQL)    | **\\$135**    |\n",
    "| **Google Cloud (Compute + SQL)** | \\$28 (e2-standard-2) | \\$64 (e2-standard-4)       | \\$28 (Cloud SQL, smallest) | **\\$120**    |\n",
    "\n",
    "### ⚙️ Enterprise\n",
    "\n",
    "Now, consider [the world's largest employers](https://en.wikipedia.org/wiki/List_of_largest_employers) and how their investments into technology may look. Walmart has plenty of teams that rely on software applications, including their [own engineering teams](https://careers.walmart.com/technology/software-development-and-engineering). \n",
    "\n",
    "**Project Scope:** Build an enterprise grade information management system for a company with > 20k employees.\n",
    "\n",
    "Let's compare the top providers mentioned in this notebook:\n",
    "\n",
    "| Feature / Capability                 | Microsoft Azure                       | Amazon Web Services (AWS)      | Google Cloud Platform (GCP)       | IBM Cloud                             |\n",
    "| ------------------------------------ | ------------------------------------- | ------------------------------ | --------------------------------- | ------------------------------------- |\n",
    "| **Django App Hosting**               | Azure App Service, AKS, VM Scale Sets | Elastic Beanstalk, ECS, EC2    | App Engine, Cloud Run, GKE        | Cloud Foundry, IBM Kubernetes Service |\n",
    "| **Jupyter Notebook Service**         | Azure ML Notebooks, VS Code SSH       | SageMaker Studio Notebooks     | Vertex AI Workbench (JupyterLab)  | Watson Studio Notebooks               |\n",
    "| **Managed Database**                 | Azure Database for PostgreSQL/MySQL   | Amazon RDS (PostgreSQL, MySQL) | Cloud SQL                         | Databases for PostgreSQL/MySQL        |\n",
    "| **Object Storage**                   | Azure Blob Storage                    | Amazon S3                      | Cloud Storage                     | IBM Cloud Object Storage              |\n",
    "| **CI/CD Integration**                | Azure DevOps, GitHub Actions          | CodePipeline, CodeBuild        | Cloud Build, GitHub Actions       | Tekton, IBM DevOps Toolchain          |\n",
    "| **Authentication & IAM**             | Azure AD B2C, Managed Identity        | Cognito, IAM Roles             | Identity Platform, IAM            | IBM App ID, IAM                       |\n",
    "| **Autoscaling / Serverless Options** | Azure Functions, App Service Plans    | AWS Lambda, Fargate            | Cloud Functions, Cloud Run        | IBM Code Engine                       |\n",
    "| **GPU Support for Jupyter**          | Azure ML Clusters (e.g., NC-series)   | SageMaker + g4dn.xlarge        | Vertex AI with T4 GPUs            | Watson Studio with K80/V100 GPUs      |\n",
    "| **Data Integration & Pipelines**     | Azure Data Factory, Synapse Pipelines | AWS Glue, Step Functions       | Cloud Dataflow, Dataproc          | DataStage, Watson Pipelines           |\n",
    "| **Monitoring & Logging**             | Azure Monitor, Application Insights   | CloudWatch, AWS X-Ray          | Cloud Logging, Cloud Monitoring   | Instana, IBM Log Analysis             |\n",
    "| **Support Plan Options**             | Premier Support / Microsoft Unified   | Enterprise Support Plan        | Premium Customer Care (tiers)     | IBM Premium Support                   |\n",
    "| **Notebook Collaboration**           | Azure ML Studio, GitHub Codespaces    | SageMaker Studio Sharing       | Vertex AI Workbench Collaboration | Watson Studio Projects                |\n",
    "\n",
    "**💰 Estimated Monthly Cost per 100 Users**\n",
    "\n",
    "| Provider                  | Estimated Monthly Cost |\n",
    "|---------------------------|-------------------------|\n",
    "| **Microsoft Azure**           | $~\\$850–\\$1,200$            |\n",
    "| **Amazon Web Services (AWS)** | $~\\$1,000–\\$1,400$          |\n",
    "| **Google Cloud Platform (GCP)** | $~\\$800–\\$1,100$           |\n",
    "| **IBM Cloud**                 | $~\\$900–\\$1,300$            |\n",
    "\n",
    "Subjective factors tend to play a larger role than technical ones for companies (given price is extremely competitive). In Walmart's case, we can understand why they partnered with Microsoft and Google. Walmart recognizes Amazon as a competitor and they have existing agreements to sell and distribute both Microsoft and Google products in their stores. Why not start there? [Sounds like they got the deals done](https://www.bloomberg.com/news/newsletters/2022-07-12/walmart-cloud-weans-itself-off-of-microsoft-azure-google-cloud). \n",
    "\n",
    "\n",
    "| Cloud Environment     | Role in Walmart’s Infrastructure                         |\n",
    "| --------------------- | -------------------------------------------------------- |\n",
    "| **Azure (Microsoft)** | Primary public cloud—core workloads, AI, search features |\n",
    "| **GCP**               | Secondary public cloud for multicloud flexibility        |\n",
    "| **Private Cloud**     | On-prem workloads, edge nodes, sensitive data            |"
   ]
  },
  {
   "cell_type": "markdown",
   "id": "fdac8054-cc8b-400c-8f9e-5b6f046a6cd3",
   "metadata": {},
   "source": [
    "## A Lot of Fish in the Sea 🐟🐟🐟\n",
    "\n",
    "I don't care much for fear mongering about tech takeovers - *The Terminator* aired over 40 years ago and *The Matrix* is over a quarter century old now, yet here we are. Still [doing AOK](https://areyoudoingaok.com/). \n",
    "\n",
    "People need to be concerned with real issues related to tech rather than science fiction doomsday concerns. I think the most likely \"net negative case-scenario\" for AI is [portrayed by Wall-E](https://youtu.be/h1BQPV-iCkU?si=4jKsE8CqxzOLWBlY). I have higher hopes for humanity, but I do believe AI can enable humans to focus on what they love to do rather than what they ***have*** to do to survive. \n",
    "\n",
    "[Future technology](https://youtu.be/1acWg-c5Buo?si=g089odREnLDQqCO1) will still be software. The SaaS market is exploding, projected to reach a value up to $428.78 billion in 2025 with a compound annual growth rate (CAGR) of 13.32% from 2025 to 2030. These tools may leverage the infrastructure demonstrated above to aid in the creation of software products for various, more specified use cases. Some of the biggest players here include Adobe and Salesforce CRM. As the market saturates with more competitive tools and players than any one person is able to keep up with, examples like [Builder AI](https://youtu.be/TuAsFCcvWPg?si=mWFzTlpT4HRJS4-4) remind the world that you have to watch out for shady actors. Never listen to a company that infers you're not capable of understanding software.\n",
    "\n",
    "[McKinsey](https://www.mckinsey.com/capabilities/mckinsey-digital/our-insights/the-saas-factor-six-ways-to-drive-growth-by-building-new-saas-businesses) writes how organizations can successfully integrate software into their core competencies to drive growth. My initial reaction to this is that [playing defense will become increasingly more important in technology](https://youtu.be/YBA_k1NSgnI?si=r3UHlsoHofyQXJj4). Making good decisions and maximizing your investments into tech will matter more than ever."
   ]
  }
 ],
 "metadata": {
  "kernelspec": {
   "display_name": "ml-cookbook",
   "language": "python",
   "name": "ml-cookbook"
  },
  "language_info": {
   "codemirror_mode": {
    "name": "ipython",
    "version": 3
   },
   "file_extension": ".py",
   "mimetype": "text/x-python",
   "name": "python",
   "nbconvert_exporter": "python",
   "pygments_lexer": "ipython3",
   "version": "3.12.3"
  },
  "toc-autonumbering": false,
  "toc-showcode": false,
  "toc-showmarkdowntxt": false,
  "toc-showtags": false
 },
 "nbformat": 4,
 "nbformat_minor": 5
}
