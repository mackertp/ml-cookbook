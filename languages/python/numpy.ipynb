{
 "cells": [
  {
   "cell_type": "markdown",
   "id": "66e53309-4f74-41d6-806a-c1bcf9892f15",
   "metadata": {},
   "source": [
    "# NumPy Scientific Library\n",
    "\n",
    "Credit to original content: [Real Python](https://realpython.com/numpy-array-programming/), [NumPy](https://numpy.org/)\n",
    "\n",
    "NumPy is a foundational package for scientific computation, three main concepts power NumPy's library:\n",
    "\n",
    "* Vectorization\n",
    "* Broadcasting\n",
    "* Indexing\n",
    "\n",
    "I'll walk through the basics of the package below and implement the concepts throughout different project tasks."
   ]
  },
  {
   "cell_type": "markdown",
   "id": "ce19eecf-bad3-44a6-b4b1-e906a0e32a47",
   "metadata": {
    "tags": []
   },
   "source": [
    "## ndarrays\n",
    "NumPy's framework is built off of the ndarray object (numpy.array). This data type is fundamental to conceptual mathematics and is implemented in various array-oriented programming languages such as Fortran 90, R, and MATLAB.\n",
    "\n",
    "Arrays can be thought of as containers for grids of information. The ndarray class in numpy is used for arrays of any dimension, it contains a built in *shape* method that describes the array. Different terminology is used to describe arrays based on their shape. Typically, an array with a single dimension is called a *vector*, while a *matrix* refers to a two dimensional array. Arrays that have 3 or more dimensions are referred to as *tensors*. Within a given array are stored *elements* that are indexed at specific memory locations.\n",
    "\n",
    "You can picture this vusually below:\n",
    "\n",
    "![](https://i.pinimg.com/736x/a4/58/9d/a4589d10dc802ea7bd11b51cbc921d1a.jpg)"
   ]
  },
  {
   "cell_type": "code",
   "execution_count": 1,
   "id": "41e11cc9-6f16-4e31-9b11-876ecddbb633",
   "metadata": {},
   "outputs": [
    {
     "name": "stdout",
     "output_type": "stream",
     "text": [
      "<class 'numpy.ndarray'> 1 (2,)\n",
      "<class 'numpy.ndarray'> 2 (2, 3)\n",
      "<class 'numpy.ndarray'> 3 (3, 4, 3)\n"
     ]
    }
   ],
   "source": [
    "import numpy as np\n",
    "\n",
    "vector = np.array([3, 2])\n",
    "matrix = np.array([[1, 0, 1], [3, 4, 1]])\n",
    "tensor = np.arange(36).reshape(3, 4, 3)\n",
    "\n",
    "print(type(vector), vector.ndim, vector.shape)\n",
    "print(type(matrix), matrix.ndim, matrix.shape)\n",
    "print(type(tensor), tensor.ndim, tensor.shape)"
   ]
  },
  {
   "cell_type": "code",
   "execution_count": 2,
   "id": "ab75f176-c864-4e28-8f91-92cd4978fdf1",
   "metadata": {},
   "outputs": [
    {
     "name": "stdout",
     "output_type": "stream",
     "text": [
      "3\n",
      "[1 0 1]\n",
      "[[ 0  1  2]\n",
      " [ 3  4  5]\n",
      " [ 6  7  8]\n",
      " [ 9 10 11]]\n"
     ]
    }
   ],
   "source": [
    "# access the first element in each ndarray\n",
    "print(vector[0])\n",
    "print(matrix[0])\n",
    "print(tensor[0])"
   ]
  },
  {
   "cell_type": "markdown",
   "id": "53c1e7ad-2770-49ab-96e0-101ccffcfb17",
   "metadata": {},
   "source": [
    "## Search and Sorting\n",
    "NumPy provides built in [sorting]() methods help with data cleaning and manipulation. You can specify the axis, kind, and order when you call the sort function.\n",
    "\n",
    "In addition to the basic sort function, NumPy offers:\n",
    "* [argsort]() - indirect sort along a specified axis\n",
    "* [lexsort]() - indirect stable sort on multiple keys\n",
    "* [searchsorted]() - find elements in a sorted array\n",
    "* [partition]() - partial sort"
   ]
  },
  {
   "cell_type": "code",
   "execution_count": 3,
   "id": "ff08e14b-795b-415e-9319-1155411c3a69",
   "metadata": {},
   "outputs": [
    {
     "data": {
      "text/plain": [
       "array([ 1,  2,  3,  5, 10, 15])"
      ]
     },
     "execution_count": 3,
     "metadata": {},
     "output_type": "execute_result"
    }
   ],
   "source": [
    "# consider the following array\n",
    "vector = np.array([10, 2, 5, 3, 1, 15])\n",
    "np.sort(vector)"
   ]
  },
  {
   "cell_type": "markdown",
   "id": "6cec044a-53ad-4eb1-9397-f8d8cae5a5e3",
   "metadata": {},
   "source": [
    "## Vectorization\n",
    "Vectorization is the practice for replacing explicit loops with array expressions. These operations are typically magnitudes faster than the pure python equivalent because NumPy is delegating the looping mechanics to optimized C and Fortran functions.\n",
    "\n",
    "Consider the following vector of boolean values, where the count is a relevant return value."
   ]
  },
  {
   "cell_type": "code",
   "execution_count": 4,
   "id": "05b57386-d36e-490e-9f26-8a609678f0f9",
   "metadata": {},
   "outputs": [
    {
     "name": "stdout",
     "output_type": "stream",
     "text": [
      "[ True False  True ...  True False  True]\n"
     ]
    }
   ],
   "source": [
    "np.random.seed(444)\n",
    "x = np.random.choice([False, True], size=100000)\n",
    "print(x)"
   ]
  },
  {
   "cell_type": "code",
   "execution_count": 5,
   "id": "820dd409-199b-45fa-ac6b-646af2711fcd",
   "metadata": {},
   "outputs": [
    {
     "data": {
      "text/plain": [
       "24984"
      ]
     },
     "execution_count": 5,
     "metadata": {},
     "output_type": "execute_result"
    }
   ],
   "source": [
    "# traditional python for loop\n",
    "def count_transitions(x) -> int:\n",
    "    count = 0\n",
    "    for i, j in zip(x[:-1], x[1:]):\n",
    "        if j and not i:\n",
    "            count += 1\n",
    "    return count\n",
    "\n",
    "count_transitions(x)"
   ]
  },
  {
   "cell_type": "code",
   "execution_count": 6,
   "id": "19907310-e96f-46a4-b482-dcc7d497b453",
   "metadata": {},
   "outputs": [
    {
     "data": {
      "text/plain": [
       "24984"
      ]
     },
     "execution_count": 6,
     "metadata": {},
     "output_type": "execute_result"
    }
   ],
   "source": [
    "# vectorized\n",
    "np.count_nonzero(x[:-1] < x[1:])"
   ]
  },
  {
   "cell_type": "code",
   "execution_count": 7,
   "id": "b03cdf34-0386-4217-8422-b4b5112a610d",
   "metadata": {},
   "outputs": [
    {
     "name": "stdout",
     "output_type": "stream",
     "text": [
      "Speed difference: 568.4x\n"
     ]
    }
   ],
   "source": [
    "# efficiency gain\n",
    "from timeit import timeit\n",
    "setup = 'from __main__ import count_transitions, x; import numpy as np'\n",
    "num = 1000\n",
    "t1 = timeit('count_transitions(x)', setup=setup, number=num)\n",
    "t2 = timeit('np.count_nonzero(x[:-1] < x[1:])', setup=setup, number=num)\n",
    "print('Speed difference: {:0.1f}x'.format(t1 / t2))"
   ]
  },
  {
   "cell_type": "markdown",
   "id": "e00dd0dd-24b3-44b9-8f09-f9de18dca99d",
   "metadata": {},
   "source": [
    "# Stock Tracking with Numpy\n",
    "Given a stock's price history as a sequence, and assuming that you are only allowed to make one purchase and one sale, what is the maximum profit that can be obtained? For example, given prices = (20, 18, 14, 17, 20, 21, 15), the max profit would be 7, from buying at 14 and selling at 21."
   ]
  },
  {
   "cell_type": "code",
   "execution_count": 8,
   "id": "0b0fbca8-0aa0-43fd-b9e1-0d8d0790d910",
   "metadata": {},
   "outputs": [
    {
     "data": {
      "text/plain": [
       "7"
      ]
     },
     "execution_count": 8,
     "metadata": {},
     "output_type": "execute_result"
    }
   ],
   "source": [
    "# traditional for loop (O(n^2) time complexity)\n",
    "def profit(prices):\n",
    "    max_px = 0\n",
    "    min_px = prices[0]\n",
    "    for px in prices[1:]:\n",
    "        min_px = min(min_px, px)\n",
    "        max_px = max(px - min_px, max_px)\n",
    "    return max_px\n",
    "\n",
    "prices = (20, 18, 14, 17, 20, 21, 15)\n",
    "profit(prices)"
   ]
  },
  {
   "cell_type": "code",
   "execution_count": 9,
   "id": "2d188c6b-b55f-4a15-af99-1d87ff299f6f",
   "metadata": {},
   "outputs": [],
   "source": [
    "# NumPy example\n",
    "# create mostly NaN array with a few 'turning points' (local min/max)\n",
    "prices = np.full(100, fill_value=np.nan)\n",
    "prices[[0, 25, 60, -1]] = [80., 30., 75., 50.]\n",
    "\n",
    "# linear interpolation\n",
    "x = np.arange(len(prices))\n",
    "is_valid = ~np.isnan(prices)\n",
    "prices = np.interp(x=x, xp=x[is_valid], fp=prices[is_valid])\n",
    "prices += np.random.randn(len(prices)) * 2"
   ]
  },
  {
   "cell_type": "code",
   "execution_count": 10,
   "id": "1a9b519e-7e12-4e2d-80c4-a3c6c030df59",
   "metadata": {},
   "outputs": [
    {
     "data": {
      "text/plain": [
       "[<matplotlib.lines.Line2D at 0x7f9fb6bb9040>]"
      ]
     },
     "execution_count": 10,
     "metadata": {},
     "output_type": "execute_result"
    },
    {
     "data": {
      "image/png": "[encoded data removed]",
      "text/plain": [
       "<Figure size 640x480 with 1 Axes>"
      ]
     },
     "metadata": {},
     "output_type": "display_data"
    }
   ],
   "source": [
    "import matplotlib.pyplot as plt\n",
    "\n",
    "mn = np.argmin(prices)\n",
    "mx = mn + np.argmax(prices[mn:])\n",
    "kwargs = {'markersize': 12, 'linestyle': ''}\n",
    "\n",
    "fig, ax = plt.subplots()\n",
    "ax.plot(prices)\n",
    "ax.set_title('Price History')\n",
    "ax.set_xlabel('Time')\n",
    "ax.set_ylabel('Price')\n",
    "ax.plot(mn, prices[mn], color='green', **kwargs)\n",
    "ax.plot(mx, prices[mx], color='red', **kwargs)"
   ]
  },
  {
   "cell_type": "code",
   "execution_count": 11,
   "id": "fc6d9243-fbe6-476d-8c68-b036be7b01e0",
   "metadata": {},
   "outputs": [
    {
     "name": "stdout",
     "output_type": "stream",
     "text": [
      "47.51581018762879\n"
     ]
    },
    {
     "data": {
      "text/plain": [
       "True"
      ]
     },
     "execution_count": 11,
     "metadata": {},
     "output_type": "execute_result"
    }
   ],
   "source": [
    "cumin = np.minimum.accumulate\n",
    "\n",
    "def profit_with_numpy(prices):\n",
    "    prices = np.asarray(prices)\n",
    "    return np.max(prices - cumin(prices))\n",
    "\n",
    "print(profit_with_numpy(prices))\n",
    "np.allclose(profit_with_numpy(prices), profit(prices))"
   ]
  },
  {
   "cell_type": "markdown",
   "id": "d2ba8718-87ba-4034-8bc7-c92e4344b28d",
   "metadata": {},
   "source": [
    "## Efficiency Comparison"
   ]
  },
  {
   "cell_type": "code",
   "execution_count": 12,
   "id": "e96b8cf0-164f-4820-a6f8-a940e212bfb3",
   "metadata": {},
   "outputs": [],
   "source": [
    "seq = np.random.randint(0, 100, size=100000)"
   ]
  },
  {
   "cell_type": "code",
   "execution_count": 13,
   "id": "02bde84d-6536-41b3-8929-70c722bfbfcb",
   "metadata": {},
   "outputs": [
    {
     "name": "stdout",
     "output_type": "stream",
     "text": [
      "Speed difference: 158.6x\n"
     ]
    }
   ],
   "source": [
    "setup = ('from __main__ import profit_with_numpy, profit, seq; import numpy as np')\n",
    "num = 250\n",
    "pytime = timeit('profit(seq)', setup=setup, number=num)\n",
    "nptime = timeit('profit_with_numpy(seq)', setup=setup, number=num)\n",
    "print('Speed difference: {:0.1f}x'.format(pytime / nptime))"
   ]
  },
  {
   "cell_type": "markdown",
   "id": "92cd26ba-96cf-4a39-a351-0b151b09147a",
   "metadata": {},
   "source": [
    "## Handling Text\n",
    "\n",
    "[String operations]() in NumPy have a unique module for cleaning data and performing operations quickly. "
   ]
  }
 ],
 "metadata": {
  "kernelspec": {
   "display_name": "Python 3 (ipykernel)",
   "language": "python",
   "name": "python3"
  },
  "language_info": {
   "codemirror_mode": {
    "name": "ipython",
    "version": 3
   },
   "file_extension": ".py",
   "mimetype": "text/x-python",
   "name": "python",
   "nbconvert_exporter": "python",
   "pygments_lexer": "ipython3",
   "version": "3.12.3"
  }
 },
 "nbformat": 4,
 "nbformat_minor": 5
}
