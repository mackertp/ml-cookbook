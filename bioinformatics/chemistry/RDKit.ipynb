{
 "cells": [
  {
   "cell_type": "markdown",
   "id": "809d4df0-8749-4308-a200-658891a3d3e4",
   "metadata": {},
   "source": [
    "# RDKit: Open-Source Cheminformatics Software\n",
    "\n",
    "RDKit is an open-source cheminformatics software toolkit. It is written in C++ with wrappers for Python, Java, and C# and is widely used in both academia and industry for various applications, such as drug discovery, material science, and chemical informatics research."
   ]
  },
  {
   "cell_type": "code",
   "execution_count": 1,
   "id": "d74a9665-20ce-451d-8961-f6b71bec9014",
   "metadata": {
    "tags": []
   },
   "outputs": [],
   "source": [
    "import requests\n",
    "from rdkit import Chem\n",
    "from rdkit.Chem import AllChem\n",
    "from rdkit.Chem import Descriptors"
   ]
  },
  {
   "cell_type": "markdown",
   "id": "58cc06f0-8d57-4b60-a409-8ebcc9fac181",
   "metadata": {},
   "source": [
    "# Molecular Representation\n",
    "\n",
    "RDKit allows for reading and writing chemical formats like SMILES, MOL, and SDF. It also supports the creation and manipulation of molecular structures.\n",
    "\n",
    "## [SMILES Format](https://en.wikipedia.org/wiki/Simplified_Molecular_Input_Line_Entry_System)"
   ]
  },
  {
   "cell_type": "markdown",
   "id": "44227907-5b8c-44f8-9e0e-8df036022564",
   "metadata": {
    "tags": []
   },
   "source": [
    "### Melatonin\n",
    "#### 😴😴😴"
   ]
  },
  {
   "cell_type": "code",
   "execution_count": 2,
   "id": "3552d0a2-74db-45ec-8379-e68ac30381a8",
   "metadata": {
    "tags": []
   },
   "outputs": [
    {
     "data": {
      "image/png": "[encoded data removed]",
      "text/plain": [
       "<rdkit.Chem.rdchem.Mol at 0x1228dfd80>"
      ]
     },
     "execution_count": 2,
     "metadata": {},
     "output_type": "execute_result"
    }
   ],
   "source": [
    "m = Chem.MolFromSmiles('CC(=O)NCCC1=CNc2c1cc(OC)cc2')\n",
    "m"
   ]
  },
  {
   "cell_type": "markdown",
   "id": "80a563e7-2b55-45d9-8b25-fed6f63c6ae6",
   "metadata": {},
   "source": [
    "## [MOL File Format](https://goldbook.iupac.org/terms/view/MT06966)\n",
    "\n",
    "\n",
    "A MOL file is a text-based format used to represent chemical structures, including atomic coordinates, bond information, and other metadata. It's primarily used by MDL Information Systems (now part of Elsevier) and is a common standard for importing and exporting molecular data. MOL files can store information about a single molecule or multiple molecules, and they are often used in cheminformatics and computational chemistry. \n",
    "\n",
    "Using requests to [Drugbank's](https://go.drugbank.com/) database of molecules, we can quickly research structures using a precise file format (MOL). I wanted to hack at first using requests, but they have set up an [API](https://docs.drugbank.com/v1/#introduction) requiring proper authentication... RIP the good ole days."
   ]
  },
  {
   "cell_type": "code",
   "execution_count": 3,
   "id": "d3326b87-bb6a-4ac4-a317-df7c28293e82",
   "metadata": {
    "tags": []
   },
   "outputs": [],
   "source": [
    "url = 'https://go.drugbank.com/structures/small_molecule_drugs/DB01065.mol'\n",
    "mol = requests.get(url)"
   ]
  },
  {
   "cell_type": "code",
   "execution_count": 4,
   "id": "255e0efd-ebf9-4f60-ab9a-95afb8c71445",
   "metadata": {
    "tags": []
   },
   "outputs": [
    {
     "data": {
      "text/plain": [
       "<Response [403]>"
      ]
     },
     "execution_count": 4,
     "metadata": {},
     "output_type": "execute_result"
    }
   ],
   "source": [
    "mol"
   ]
  },
  {
   "cell_type": "markdown",
   "id": "603b50dc-b88a-45ec-a2ca-1c9a8f294dfe",
   "metadata": {},
   "source": [
    "*An authentication error, telling me to get off my lazy but to build a wrapper for that uses their API tokens.*"
   ]
  },
  {
   "cell_type": "markdown",
   "id": "4dc64719-86dd-439d-a007-4e49a01719ec",
   "metadata": {},
   "source": [
    "### Example MOL File Contents"
   ]
  },
  {
   "cell_type": "code",
   "execution_count": 5,
   "id": "a68d40ce-282b-4cfa-91b0-d97fb0119489",
   "metadata": {
    "tags": []
   },
   "outputs": [],
   "source": [
    "mol = \"\"\"\n",
    " Mrv1652309231722062D          \n",
    "\n",
    " 17 18  0  0  0  0            999 V2000\n",
    "    4.5615   -4.9343    0.0000 C   0  0  0  0  0  0  0  0  0  0  0  0\n",
    "    3.8470   -4.5218    0.0000 C   0  0  0  0  0  0  0  0  0  0  0  0\n",
    "    5.2760   -3.6968    0.0000 C   0  0  0  0  0  0  0  0  0  0  0  0\n",
    "    5.2760   -4.5218    0.0000 C   0  0  0  0  0  0  0  0  0  0  0  0\n",
    "    4.5615   -3.2843    0.0000 C   0  0  0  0  0  0  0  0  0  0  0  0\n",
    "    3.8470   -3.6968    0.0000 C   0  0  0  0  0  0  0  0  0  0  0  0\n",
    "    6.0605   -4.7767    0.0000 N   0  0  0  0  0  0  0  0  0  0  0  0\n",
    "    6.5454   -4.1093    0.0000 C   0  0  0  0  0  0  0  0  0  0  0  0\n",
    "    7.1224   -2.4857    0.0000 C   0  0  0  0  0  0  0  0  0  0  0  0\n",
    "    6.0605   -3.4419    0.0000 C   0  0  0  0  0  0  0  0  0  0  0  0\n",
    "    6.3154   -2.6573    0.0000 C   0  0  0  0  0  0  0  0  0  0  0  0\n",
    "    8.1843   -1.5297    0.0000 C   0  0  0  0  0  0  0  0  0  0  0  0\n",
    "    7.3773   -1.7012    0.0000 N   0  0  0  0  0  0  0  0  0  0  0  0\n",
    "    8.7363   -2.1427    0.0000 O   0  0  0  0  0  0  0  0  0  0  0  0\n",
    "    8.4393   -0.7450    0.0000 C   0  0  0  0  0  0  0  0  0  0  0  0\n",
    "    3.1326   -3.2843    0.0000 O   0  0  0  0  0  0  0  0  0  0  0  0\n",
    "    2.4181   -3.6968    0.0000 C   0  0  0  0  0  0  0  0  0  0  0  0\n",
    "  2  1  1  0  0  0  0\n",
    " 10  3  1  0  0  0  0\n",
    "  1  4  2  0  0  0  0\n",
    "  4  3  1  0  0  0  0\n",
    "  4  7  1  0  0  0  0\n",
    "  5  3  2  0  0  0  0\n",
    "  6  5  1  0  0  0  0\n",
    "  2  6  2  0  0  0  0\n",
    " 16  6  1  0  0  0  0\n",
    "  8  7  1  0  0  0  0\n",
    " 10  8  2  0  0  0  0\n",
    " 13  9  1  0  0  0  0\n",
    "  9 11  1  0  0  0  0\n",
    " 11 10  1  0  0  0  0\n",
    " 13 12  1  0  0  0  0\n",
    " 14 12  2  0  0  0  0\n",
    " 15 12  1  0  0  0  0\n",
    " 16 17  1  0  0  0  0\n",
    "M  END\n",
    "\"\"\""
   ]
  },
  {
   "cell_type": "code",
   "execution_count": 6,
   "id": "361098e7-2f6c-4b7c-be8d-4242061e6c0a",
   "metadata": {
    "tags": []
   },
   "outputs": [
    {
     "data": {
      "image/png": "[encoded data removed]",
      "text/plain": [
       "<rdkit.Chem.rdchem.Mol at 0x12359c430>"
      ]
     },
     "execution_count": 6,
     "metadata": {},
     "output_type": "execute_result"
    }
   ],
   "source": [
    "melatonin = Chem.MolFromMolBlock(mol)\n",
    "melatonin"
   ]
  },
  {
   "cell_type": "markdown",
   "id": "dc34e1f3-052f-439c-a7ba-863878f300a7",
   "metadata": {},
   "source": [
    "# Descriptors"
   ]
  },
  {
   "cell_type": "code",
   "execution_count": 7,
   "id": "e53dd887-05f7-4f3c-9d23-5ab65bc5c904",
   "metadata": {
    "tags": []
   },
   "outputs": [
    {
     "data": {
      "text/plain": [
       "17"
      ]
     },
     "execution_count": 7,
     "metadata": {},
     "output_type": "execute_result"
    }
   ],
   "source": [
    "melatonin.GetNumAtoms()"
   ]
  },
  {
   "cell_type": "code",
   "execution_count": 8,
   "id": "7b3a1e63-d3e7-4462-a6c9-8015c7f8f984",
   "metadata": {
    "tags": []
   },
   "outputs": [
    {
     "data": {
      "text/plain": [
       "['C', 'C', 'C', 'N', 'O', 'C', 'O', 'C']"
      ]
     },
     "execution_count": 8,
     "metadata": {},
     "output_type": "execute_result"
    }
   ],
   "source": [
    "[atom.GetSymbol() for atom in melatonin.GetAtoms() if not atom.IsInRing()]"
   ]
  },
  {
   "cell_type": "code",
   "execution_count": 9,
   "id": "1d5d25ef-2cd5-4276-847c-4f24459968dd",
   "metadata": {
    "tags": []
   },
   "outputs": [
    {
     "data": {
      "image/png": "[encoded data removed]",
      "text/plain": [
       "<rdkit.Chem.rdchem.Mol at 0x12359cb30>"
      ]
     },
     "execution_count": 9,
     "metadata": {},
     "output_type": "execute_result"
    }
   ],
   "source": [
    "m_w_hydrogens = Chem.AddHs(melatonin)\n",
    "m_w_hydrogens"
   ]
  },
  {
   "cell_type": "code",
   "execution_count": 10,
   "id": "ed2a3bd4-1eb2-4496-ad8d-27fe6d8d293f",
   "metadata": {
    "tags": []
   },
   "outputs": [
    {
     "data": {
      "image/png": "[encoded data removed]",
      "text/plain": [
       "<rdkit.Chem.rdchem.Mol at 0x12359cb30>"
      ]
     },
     "execution_count": 10,
     "metadata": {},
     "output_type": "execute_result"
    }
   ],
   "source": [
    "AllChem.Compute2DCoords(m_w_hydrogens)\n",
    "m_w_hydrogens"
   ]
  },
  {
   "cell_type": "code",
   "execution_count": 11,
   "id": "12f1e149-8f5d-448f-83d3-23ed88275201",
   "metadata": {
    "tags": []
   },
   "outputs": [
    {
     "data": {
      "text/plain": [
       "232.28299999999996"
      ]
     },
     "execution_count": 11,
     "metadata": {},
     "output_type": "execute_result"
    }
   ],
   "source": [
    "Descriptors.MolWt(melatonin)"
   ]
  },
  {
   "cell_type": "code",
   "execution_count": 12,
   "id": "50123db0-8a6a-4bed-a8f5-323f44632210",
   "metadata": {
    "tags": []
   },
   "outputs": [
    {
     "data": {
      "text/plain": [
       "1.8550999999999995"
      ]
     },
     "execution_count": 12,
     "metadata": {},
     "output_type": "execute_result"
    }
   ],
   "source": [
    "# less reliable, can only really measure in a lab ~ a prediction\n",
    "Descriptors.MolLogP(melatonin)"
   ]
  },
  {
   "cell_type": "code",
   "execution_count": 13,
   "id": "7026c05e-3b49-42ab-97b9-55306428db45",
   "metadata": {
    "tags": []
   },
   "outputs": [
    {
     "data": {
      "text/plain": [
       "4"
      ]
     },
     "execution_count": 13,
     "metadata": {},
     "output_type": "execute_result"
    }
   ],
   "source": [
    "Descriptors.NumRotatableBonds(melatonin)"
   ]
  },
  {
   "cell_type": "markdown",
   "id": "44c993ec-fcb1-41ff-bb24-acef4d793547",
   "metadata": {},
   "source": [
    "# Lipinski's Rule of 5\n",
    "\n",
    "[Wiki](https://en.wikipedia.org/wiki/Lipinski%27s_rule_of_five)"
   ]
  }
 ],
 "metadata": {
  "kernelspec": {
   "display_name": "Python 3 (ipykernel)",
   "language": "python",
   "name": "python3"
  },
  "language_info": {
   "codemirror_mode": {
    "name": "ipython",
    "version": 3
   },
   "file_extension": ".py",
   "mimetype": "text/x-python",
   "name": "python",
   "nbconvert_exporter": "python",
   "pygments_lexer": "ipython3",
   "version": "3.12.3"
  }
 },
 "nbformat": 4,
 "nbformat_minor": 5
}
