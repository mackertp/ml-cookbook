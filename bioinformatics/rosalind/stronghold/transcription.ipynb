{
 "cells": [
  {
   "cell_type": "markdown",
   "id": "25fa6f75-b4a6-4ba0-b7be-f21e90d56a8c",
   "metadata": {},
   "source": [
    "# [Problem](https://rosalind.info/problems/rna/)\n",
    "\n",
    "An RNA string is a string formed from the alphabet containing 'A', 'C', 'G', and 'U'. Given a DNA string *t* corresponding to a coding strand, its transcribed RNA string *u* is formed by replacing all occurrences of 'T' in *t* with 'U' in *u*\n",
    "\n",
    "**Given**: A DNA string *t* having length at most 1000 nt.\n",
    "\n",
    "**Return**: The transcribed RNA string of *t*.\n",
    "\n",
    "**Sample Dataset**\n",
    "\n",
    "GATGGAACTTGACTACGTAAATT\n",
    "\n",
    "**Sample Output**\n",
    "\n",
    "GAUGGAACUUGACUACGUAAAUU"
   ]
  },
  {
   "cell_type": "code",
   "execution_count": 1,
   "id": "ae94bfaa-fc3b-430e-821a-fb169a3177a2",
   "metadata": {},
   "outputs": [],
   "source": [
    "def transcription(seq):\n",
    "    \"\"\" replace Thymine with Uracil \"\"\"\n",
    "    return seq.replace('T', 'U')"
   ]
  },
  {
   "cell_type": "code",
   "execution_count": 2,
   "id": "4a73513c-137a-421b-a437-866dbed0edf3",
   "metadata": {},
   "outputs": [
    {
     "name": "stdout",
     "output_type": "stream",
     "text": [
      "GCCGCCGAGAUACCGUCCUCAAACUCAUAGAGGCCUGAACACCACCAAUCGACACAUAGUUGUUAACAUCAGAGGCAGAGCUGCCAUGAAUUUGAGUAGAUUGAGUCGUCUUGGACGAUUUGUGUAAGCCCUGCGUCGUAGUUUGGCUCGGUCGAAGCCCGUACUUGGUGAUUGAGAUUGCUGUACGACAUAGUUGGCUUCCUUUGGAUAGUGAGAAUUAGAGAGACUUAGAAUCCCUAGAAAAUGGUUUCGCCUAGCGUGGACGGGUAUGAGUAACGACUGGGCAUGAGCAGGUCCCAAUCUAACACGAGAAAGGCGGAACGCCUGUCGGAGCGCGUAAAAAAUUAAAAGACGUAUUGCUCUAUCAGGCCCCGCCAGGGCCAGGUGAUCUUCCGAAGAAUAUUGACCAGCUUGCGGAGAUGUCACUGUCGAGACACUCUUUCCGCGAUUUCUGGAAAAUGAGAGACAUGAGCUCAGAGGAGUAAUGAGGGUUAUGGUCGGAAAGCUCCUGAGACAAGUGCCGUGGGAUACACUUUUCACACCCCACACCUCAGGGCAGCUCCAUGCCCUCAGAACGCCGAUGUUAAAUUUGUGCGUCGGUCCUUUCCUUUUGCUACAUAUAUUCAUCUUAACUUAUGCGCCUUGCGCCCCCGUGUCGGGCAAGAAGGUCGACUAAUCAUGUCUUCAUCGAGGAAUUAGUGUGACGAGUCGCAGGCUUUCCCACAUAAAAAUUGGGAAUCUGCCAGAGAAGCCCCAGUCAUGUCGGGCGCGAUGCUCCAUUGCUCUGCCCUAAUUGGUGUUCCAUCCUCAGUGCUACACGGUAAGGGCUAAUGAUUGGAGUAACAUUGCAUGGUCCAGCUGCUCCACACCUCGACUGUUGAUCGGUACAUAUCCCAUUAUCGAUCGCAGAUGGUUAAUCCCUUACUGCAGUGUGGCUUUGCUGAAUGAUCGCGCCGAACAUCAAGU\n"
     ]
    }
   ],
   "source": [
    "dna = open('data/rosalind_transcribe.txt', 'r').read().replace('\\n', '')\n",
    "rna = transcription(dna)\n",
    "print(rna)"
   ]
  }
 ],
 "metadata": {
  "kernelspec": {
   "display_name": "ml-cookbook",
   "language": "python",
   "name": "ml-cookbook"
  },
  "language_info": {
   "codemirror_mode": {
    "name": "ipython",
    "version": 3
   },
   "file_extension": ".py",
   "mimetype": "text/x-python",
   "name": "python",
   "nbconvert_exporter": "python",
   "pygments_lexer": "ipython3",
   "version": "3.12.3"
  }
 },
 "nbformat": 4,
 "nbformat_minor": 5
}
