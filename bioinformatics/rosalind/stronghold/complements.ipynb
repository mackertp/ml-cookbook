{
 "cells": [
  {
   "cell_type": "markdown",
   "id": "66f6a537-4167-4b0f-87c1-5d6f6abb17dd",
   "metadata": {},
   "source": [
    "# [Problem](https://rosalind.info/problems/revc/)\n",
    "\n",
    "In DNA strings, symbols 'A' and 'T' are complements of each other, as are 'C' and 'G'.\n",
    "\n",
    "The reverse complement of a DNA string *s* is the string *sc* formed by reversing the symbols of *s*, then taking the complement of each symbol (e.g., the reverse complement of \"GTCA\" is \"TGAC\").\n",
    "\n",
    "**Given**: A DNA string *s* of length at most 1000 bp.\n",
    "\n",
    "**Return**: The reverse complement *sc* of *s*\n",
    "\n",
    "**Sample Dataset**\n",
    "\n",
    "AAAACCCGGT\n",
    "\n",
    "**Sample Output**\n",
    "\n",
    "ACCGGGTTTT"
   ]
  },
  {
   "cell_type": "code",
   "execution_count": 1,
   "id": "20fecea8-630c-4f03-9703-96bfb66a18b3",
   "metadata": {},
   "outputs": [],
   "source": [
    "def reverse_complement(seq):\n",
    "    reverse_complement = ''\n",
    "    for i in seq:\n",
    "        match i:\n",
    "            case 'A':\n",
    "                reverse_complement += 'T' \n",
    "            case 'T':\n",
    "                reverse_complement += 'A'\n",
    "            case 'C':\n",
    "                reverse_complement += 'G'\n",
    "            case 'G':\n",
    "                reverse_complement += 'C'\n",
    "    reverse_complement_output = ''.join(reversed(reverse_complement))\n",
    "    return reverse_complement_output"
   ]
  },
  {
   "cell_type": "code",
   "execution_count": 2,
   "id": "ece201ff-7fe7-4833-99e8-d68b6c766650",
   "metadata": {},
   "outputs": [
    {
     "name": "stdin",
     "output_type": "stream",
     "text": [
      " ACCCCCGCTGCGGCCAGGCCCAGACACATCGTGAGATTCGTTAGTTCGCTAGCCGTCTGCGTGCTTAAAAAAACGGGTTGCTCTGATCCTGATGAGATCGCTCACAACTCGCTAGATGCGGTGAGTCCCGGCTGGCACCTGGTGACAAGTTTGTTCAGGGCGTGCAGCCAACGAGACTGGTCACGGGCTGCTAAACAACCACCTGTATGCCTTGCTCAGGCTGTCCAGCCTGCTTACATGCTTTATTAAATCTATGGGCGCACTGAATTCGTTAGGTCGCCTGGAGTCATTTGTGATAACGCTGCCTATGATGTTGCTAAATGGTTAATCGATAGCAGCTTGTCTAGTCGACAACAAACCCCTATGTAGCCTTGGAGGTACAGCACAAAGCACCCAGATAAGCTGTAAGCCTGAACCCAGGCCGCCCCGAACTAGCAGAGTAAGCTGTATTGTGAAAGGCAACCTGTCGGGCACACTCAAATGTGTGCTCCTGACCGCTAAACATAATTGTGCCTCCATTGACAAGCTCTCCGACGGACCGCCAGGGCACGACGTCCCGGTGGCAGTCGGAAGTGGGTGGTATGCATAAGCTTGAGTCTGCACAGTCCAGAGCCGGTGTGAAAAGCGAAGGTTGTCACGGAGACACCATGTCCATGGACTTAACAAGATTCTTTTTATGCGGTGGTGAAAAAAATCGTTAATTCGGCGCTACTCCAACCGGTTCGGATTTAATCATAGTCCGTGATATCGCACGTGACAAATTTTCGAACGCTACCTCAGAAAGCACCGGCATCTGGTATGACCGAAGCCCATAATT\n"
     ]
    }
   ],
   "source": [
    "dna = input()"
   ]
  },
  {
   "cell_type": "code",
   "execution_count": 3,
   "id": "d4f50280-e8b0-478a-a4df-cc7b79d50727",
   "metadata": {},
   "outputs": [
    {
     "data": {
      "text/plain": [
       "'AATTATGGGCTTCGGTCATACCAGATGCCGGTGCTTTCTGAGGTAGCGTTCGAAAATTTGTCACGTGCGATATCACGGACTATGATTAAATCCGAACCGGTTGGAGTAGCGCCGAATTAACGATTTTTTTCACCACCGCATAAAAAGAATCTTGTTAAGTCCATGGACATGGTGTCTCCGTGACAACCTTCGCTTTTCACACCGGCTCTGGACTGTGCAGACTCAAGCTTATGCATACCACCCACTTCCGACTGCCACCGGGACGTCGTGCCCTGGCGGTCCGTCGGAGAGCTTGTCAATGGAGGCACAATTATGTTTAGCGGTCAGGAGCACACATTTGAGTGTGCCCGACAGGTTGCCTTTCACAATACAGCTTACTCTGCTAGTTCGGGGCGGCCTGGGTTCAGGCTTACAGCTTATCTGGGTGCTTTGTGCTGTACCTCCAAGGCTACATAGGGGTTTGTTGTCGACTAGACAAGCTGCTATCGATTAACCATTTAGCAACATCATAGGCAGCGTTATCACAAATGACTCCAGGCGACCTAACGAATTCAGTGCGCCCATAGATTTAATAAAGCATGTAAGCAGGCTGGACAGCCTGAGCAAGGCATACAGGTGGTTGTTTAGCAGCCCGTGACCAGTCTCGTTGGCTGCACGCCCTGAACAAACTTGTCACCAGGTGCCAGCCGGGACTCACCGCATCTAGCGAGTTGTGAGCGATCTCATCAGGATCAGAGCAACCCGTTTTTTTAAGCACGCAGACGGCTAGCGAACTAACGAATCTCACGATGTGTCTGGGCCTGGCCGCAGCGGGGGT'"
      ]
     },
     "execution_count": 3,
     "metadata": {},
     "output_type": "execute_result"
    }
   ],
   "source": [
    "reverse_complement(dna)"
   ]
  },
  {
   "cell_type": "markdown",
   "id": "ec720d48-c58c-4a22-ba1e-cd726a7457b8",
   "metadata": {},
   "source": [
    "<img src='https://images7.memedroid.com/images/UPLOADED522/62063d5b415c3.jpeg' width='400'/>"
   ]
  }
 ],
 "metadata": {
  "kernelspec": {
   "display_name": "ml-cookbook",
   "language": "python",
   "name": "ml-cookbook"
  },
  "language_info": {
   "codemirror_mode": {
    "name": "ipython",
    "version": 3
   },
   "file_extension": ".py",
   "mimetype": "text/x-python",
   "name": "python",
   "nbconvert_exporter": "python",
   "pygments_lexer": "ipython3",
   "version": "3.12.3"
  }
 },
 "nbformat": 4,
 "nbformat_minor": 5
}
