{
 "cells": [
  {
   "cell_type": "markdown",
   "id": "1d6fc622-4bb1-4ebc-974d-592a3d0b49ca",
   "metadata": {},
   "source": [
    "# [Problem](https://rosalind.info/problems/fib/)\n",
    "\n",
    "A **sequence** is an ordered collection of objects (usually numbers), which are allowed to repeat. Sequences can be finite or infinite. Two examples are the finite sequence (π,−2‾√,0,π) and the infinite sequence of odd numbers (1,3,5,7,9,…). We use the notation $a_n$ to represent the n-th term of a sequence.\n",
    "\n",
    "A **recurrence relation** is a way of defining the terms of a sequence with respect to the values of previous terms. In the case of Fibonacci's rabbits from the introduction, any given month will contain the rabbits that were alive the previous month, plus any new offspring. A key observation is that the number of offspring in any month is equal to the number of rabbits that were alive two months prior. As a result, if $F_n$ represents the number of rabbit pairs alive after the n-th month, then we obtain the Fibonacci sequence having terms $F_n$ that are defined by the recurrence relation $F_n=F_n−1+F_n−2$ (with $F1=F2=1$ to initiate the sequence). Although the sequence bears Fibonacci's name, it was known to Indian mathematicians over two millennia ago.\n",
    "\n",
    "When finding the n-th term of a sequence defined by a recurrence relation, we can simply use the recurrence relation to generate terms for progressively larger values of n. This problem introduces us to the computational technique of dynamic programming, which successively builds up solutions by using the answers to smaller cases.\n",
    "\n",
    "**Given**: Positive integers n≤40 and k≤5.\n",
    "\n",
    "**Return**: The total number of rabbit pairs that will be present after n months, if we begin with 1 pair and in each generation, every pair of reproduction-age rabbits produces a litter of k rabbit pairs (instead of only 1 pair).\n",
    "\n",
    "**Sample Dataset**\n",
    "\n",
    "5 3\n",
    "\n",
    "**Sample Output**\n",
    "\n",
    "19"
   ]
  },
  {
   "cell_type": "code",
   "execution_count": 1,
   "id": "3cb52cf3-a118-4192-9a68-c77a61c1cc64",
   "metadata": {},
   "outputs": [],
   "source": [
    "def wabbits(n, k):\n",
    "    match n:\n",
    "        case 0:\n",
    "            return 0\n",
    "        case 1:\n",
    "            return 1\n",
    "        case _:\n",
    "            return wabbits(n-1, k) + k*wabbits(n-2, k)"
   ]
  },
  {
   "cell_type": "code",
   "execution_count": 2,
   "id": "00d2564b-6ae6-46ec-aca0-0ed96082ef05",
   "metadata": {},
   "outputs": [
    {
     "name": "stdin",
     "output_type": "stream",
     "text": [
      "Enter the number of months for the recurrence relation: 36\n"
     ]
    }
   ],
   "source": [
    "n = int(input('Enter the number of months for the recurrence relation:'))"
   ]
  },
  {
   "cell_type": "code",
   "execution_count": 3,
   "id": "ef78c0c9-af80-46e0-97cf-5121be58aafa",
   "metadata": {},
   "outputs": [
    {
     "name": "stdin",
     "output_type": "stream",
     "text": [
      "Enter the litter size 5\n"
     ]
    }
   ],
   "source": [
    "k = int(input('Enter the litter size'))"
   ]
  },
  {
   "cell_type": "code",
   "execution_count": 4,
   "id": "658ae91e-c908-4b49-a127-f02af3bcfbfa",
   "metadata": {},
   "outputs": [
    {
     "data": {
      "text/plain": [
       "2442624980786496"
      ]
     },
     "execution_count": 4,
     "metadata": {},
     "output_type": "execute_result"
    }
   ],
   "source": [
    "wabbits(n, k)"
   ]
  },
  {
   "cell_type": "markdown",
   "id": "7de8d313-2009-43e4-8983-c432bff36623",
   "metadata": {},
   "source": [
    "<div align=\"left\">\n",
    "      <a href=\"https://youtu.be/cvQal0YmszY?si=C-veao4dle2d_dwK\">\n",
    "         <img src=\"https://i.ytimg.com/vi/cvQal0YmszY/mqdefault.jpg\" style=\"height: 15rem; width: 40%\">\n",
    "      </a>\n",
    "</div>"
   ]
  }
 ],
 "metadata": {
  "kernelspec": {
   "display_name": "ml-cookbook",
   "language": "python",
   "name": "ml-cookbook"
  },
  "language_info": {
   "codemirror_mode": {
    "name": "ipython",
    "version": 3
   },
   "file_extension": ".py",
   "mimetype": "text/x-python",
   "name": "python",
   "nbconvert_exporter": "python",
   "pygments_lexer": "ipython3",
   "version": "3.12.3"
  }
 },
 "nbformat": 4,
 "nbformat_minor": 5
}
