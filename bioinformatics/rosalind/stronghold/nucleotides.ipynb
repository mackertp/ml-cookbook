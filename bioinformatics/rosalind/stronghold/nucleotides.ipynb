{
 "cells": [
  {
   "cell_type": "markdown",
   "id": "aa51e533-e88d-40a9-9f4a-5feafbd3fcd5",
   "metadata": {},
   "source": [
    "# [Problem](https://rosalind.info/problems/dna/)\n",
    "\n",
    "A string is simply an ordered collection of symbols selected from some alphabet and formed into a word; the length of a string is the number of symbols that it contains. An example of a length 21 DNA string (whose alphabet contains the symbols 'A', 'C', 'G', and 'T') is \"ATGCTTCAGAAAGGTCTTACG.\"\n",
    "\n",
    "**Given**: A DNA string *s* of length at most 1000 nt.\n",
    "\n",
    "**Return**: Four integers (separated by spaces) counting the respective number of times that the symbols 'A', 'C', 'G', and 'T' occur in *s*.\n",
    "\n",
    "**Sample Dataset**\n",
    "\n",
    "AGCTTTTCATTCTGACTGCAACGGGCAATATGTCTCTGTGTGGATTAAAAAAAGAGTGTCTGATAGCAGC\n",
    "\n",
    "**Sample Output**\n",
    "\n",
    "20 12 17 21"
   ]
  },
  {
   "cell_type": "code",
   "execution_count": 1,
   "id": "256a8342-5d25-4078-85ff-eeb43d0e5e9f",
   "metadata": {},
   "outputs": [],
   "source": [
    "def get_nuc_freq(seq):\n",
    "    tmp_freq = {'A': 0, 'C': 0, 'G': 0, 'T': 0}\n",
    "    for nuc in seq:\n",
    "        tmp_freq[nuc] += 1\n",
    "    return tmp_freq"
   ]
  },
  {
   "cell_type": "code",
   "execution_count": 2,
   "id": "19444dc3-0cb1-46a3-b151-bdb61b270186",
   "metadata": {},
   "outputs": [
    {
     "name": "stdout",
     "output_type": "stream",
     "text": [
      "205 213 204 217\n"
     ]
    }
   ],
   "source": [
    "dna = open('data/rosalind_count.txt', \"r\").read().replace('\\n', '')\n",
    "result = get_nuc_freq(dna)\n",
    "print(' '.join([str(val) for key, val in result.items()]))"
   ]
  }
 ],
 "metadata": {
  "kernelspec": {
   "display_name": "ml-cookbook",
   "language": "python",
   "name": "ml-cookbook"
  },
  "language_info": {
   "codemirror_mode": {
    "name": "ipython",
    "version": 3
   },
   "file_extension": ".py",
   "mimetype": "text/x-python",
   "name": "python",
   "nbconvert_exporter": "python",
   "pygments_lexer": "ipython3",
   "version": "3.12.3"
  }
 },
 "nbformat": 4,
 "nbformat_minor": 5
}
