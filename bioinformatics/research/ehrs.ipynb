{
 "cells": [
  {
   "cell_type": "code",
   "execution_count": 1,
   "id": "2e36b082-7567-4d02-b389-9433654454b8",
   "metadata": {
    "jupyter": {
     "source_hidden": true
    },
    "tags": []
   },
   "outputs": [
    {
     "data": {
      "text/html": [
       "<style>\n",
       "    table {\n",
       "        margin-left: 0 !important;\n",
       "        margin-right: auto !important;\n",
       "        text-align: left;\n",
       "    }\n",
       "    th, td {\n",
       "        text-align: left !important;\n",
       "    }\n",
       "</style>\n"
      ],
      "text/plain": [
       "<IPython.core.display.HTML object>"
      ]
     },
     "metadata": {},
     "output_type": "display_data"
    }
   ],
   "source": [
    "%%html\n",
    "<style>\n",
    "    table {\n",
    "        margin-left: 0 !important;\n",
    "        margin-right: auto !important;\n",
    "        text-align: left;\n",
    "    }\n",
    "    th, td {\n",
    "        text-align: left !important;\n",
    "    }\n",
    "</style>"
   ]
  },
  {
   "cell_type": "markdown",
   "id": "38fe0aa7-1e77-4848-92bc-3b1421380f3c",
   "metadata": {},
   "source": [
    "# Electronic Health Record Systems (EHRs)\n",
    "\n",
    "<img\n",
    "     src='https://static.thenounproject.com/png/2218873-200.png' \n",
    "     width='150px'\n",
    "/>\n",
    "\n",
    "EHRs refer to patient health records that may be contained across various health systems and in different file formats. Similar to an Electronic Medical Record (EMR), these systems are designed to document actual patient cases and information. I could spend all day talking about abbreviations... here are a few important ones to be aware of:\n",
    "\n",
    "| Acronym   | Stands For                                          | What It Means                                                                          |\n",
    "| --------- | --------------------------------------------------- | -------------------------------------------------------------------------------------- |\n",
    "| **PHR**   | Personal Health Record                              | Health record managed by **the patient** — not the provider.                           |\n",
    "| **HIE**   | Health Information Exchange                         | Network/system that enables **sharing of EHRs** across organizations.                  |\n",
    "| **CCD**   | Continuity of Care Document                         | A standardized format for **summarizing patient health info** for transitions in care. |\n",
    "| **CDR**   | Clinical Data Repository                            | Centralized database that **aggregates data** from multiple sources like EHRs.         |\n",
    "| **CPOE**  | Computerized Provider Order Entry                   | System that allows **providers to enter orders** (labs, meds, etc.) electronically.    |\n",
    "| **CDS**   | Clinical Decision Support                           | Tools embedded in EHRs that **aid decision-making** (e.g., alerts, drug interactions). |\n",
    "| **PACS**  | Picture Archiving and Communication System          | Stores and retrieves **medical images** (X-rays, MRIs, etc.).                          |\n",
    "| **LIS**   | Laboratory Information System                       | Manages **lab test data** and results, often integrated with the EHR.                  |\n",
    "| **RIS**   | Radiology Information System                        | Tracks radiology imaging orders and reports.                                           |\n",
    "| **MPI**   | Master Patient Index                                | A database that ensures **one unique record per patient** across systems.              |\n",
    "| **FHIR**  | Fast Healthcare Interoperability Resources          | A standard from HL7 for **sharing health data between systems** using modern web tech. |\n",
    "| **HL7**   | Health Level Seven                                  | A set of international standards for **data exchange in healthcare**.                  |\n",
    "| **HIPAA** | Health Insurance Portability and Accountability Act | U.S. law governing **privacy and security** of health data.                            |\n"
   ]
  },
  {
   "cell_type": "markdown",
   "id": "27f959fc-e0d1-49f1-90d9-de340b9526de",
   "metadata": {},
   "source": [
    "# Essential Integrations and Interfaces\n",
    "\n",
    "There are two main players in this space that cannot go ignored:\n",
    "\n",
    "- Epic Systems\n",
    "- Oracle Health (Cerner)\n",
    "\n",
    "According to [Definitive Health](https://www.definitivehc.com/blog/most-common-inpatient-ehr-systems), the current market looks like this:\n",
    "\n",
    "| **Rank** | **Vendor**                     | **% Market Share** |\n",
    "| :------: | :----------------------------- | :----------------: |\n",
    "|     1    | Epic Systems Corporation       |       43.92%       |\n",
    "|     2    | Oracle Cerner (Oracle Health)  |       25.06%       |\n",
    "|     3    | MEDITECH                       |       12.95%       |\n",
    "|     4    | TruBridge                      |        6.32%       |\n",
    "|     5    | Veradigm (formerly Allscripts) |        3.60%       |\n",
    "|     6    | athenahealth                   |        2.01%       |\n",
    "|     7    | MEDHOST                        |        1.42%       |\n",
    "|     8    | Netsmart Technologies          |        1.31%       |\n",
    "|     9    | Vista                          |        0.77%       |\n",
    "|    10    | WellSky                        |        0.74%       |\n",
    "\n",
    "\n",
    "**NOTE**: If you have access to the right people, all of these system should be accessible by some sort of [API](https://en.wikipedia.org/wiki/API).\n"
   ]
  },
  {
   "cell_type": "markdown",
   "id": "e6e9702a-2de7-40b3-a728-9bd8cdcc59af",
   "metadata": {},
   "source": [
    "## Epic Systems\n",
    "\n",
    "<img\n",
    "     src='https://beehiiv-images-production.s3.amazonaws.com/uploads/asset/file/6977b25b-3483-4f21-8000-099c0b224c2b/epic_systems.png?t=1710432296' \n",
    "     width='250px'\n",
    "/>\n",
    "\n",
    "The best way to gain access to data is via an API, which can be used to improve meaningful healthcare processes and drive innovative research. [Epic on FHIR](https://fhir.epic.com/) makes this possible, but only if you have access to an EPIC account."
   ]
  },
  {
   "cell_type": "markdown",
   "id": "c767c895-09c9-4c9d-af05-cae3d3b7e4d7",
   "metadata": {},
   "source": [
    "## Oracle Health (Formerly Cerner)\n",
    "\n",
    "<img\n",
    "     src='https://www.azquotes.com/picture-quotes/quote-i-can-t-think-of-anything-that-isn-t-cloud-computing-with-all-of-these-announcements-larry-ellison-68-94-17.jpg' \n",
    "     width='500px'\n",
    "     alt='legend'\n",
    "/>\n",
    "\n",
    "\n",
    "Since it's [2021 acquisition of Cerner](https://www.oracle.com/health/acquisition-of-cerner-the-future-of-healthcare/), [Oracle Health](https://go.oracle.com/LP=147538?src1=:ad:pas:go:dg:a_nas:l5:RC_GOOG240501P00011C01371:MainAd&gad_source=1&gad_campaignid=22611094265&gbraid=0AAAAADtVWWwfETZccNfGlJ_n_LHQFOw6g&gclid=CjwKCAjw7fzDBhA7EiwAOqJkhwYfYI2iUZyNZ163O0mouX2nEw_d9-ene0AG9esUrgOVkD4sHZFHJRoCm30QAvD_BwE) is positioning itself as another option for health systems. A few helpful comp tables to break down the debate:\n",
    "\n",
    "### Company Overview\n",
    "\n",
    "| Feature          | **Epic Systems**                                    | **Oracle Health (Cerner)**                    |\n",
    "| ---------------- | --------------------------------------------------- | --------------------------------------------- |\n",
    "| **Founded**      | 1979                                                | 1979 (Cerner); acquired by Oracle in 2022     |\n",
    "| **Headquarters** | Verona, Wisconsin, USA                              | North Kansas City, Missouri, USA (legacy)     |\n",
    "| **Ownership**    | Privately held                                      | Public (Oracle Corporation – NYSE: ORCL)      |\n",
    "| **Market Share** | Largest EHR vendor in the U.S. (\\~35%)              | Second-largest EHR vendor in the U.S. (\\~25%) |\n",
    "| **Client Base**  | Large academic hospitals, integrated health systems | Broad: large systems + community hospitals    |\n",
    "\n",
    "### Technology\n",
    "\n",
    "| Feature                     | **Epic Systems**                                                                  | **Oracle Health**                                  |\n",
    "| --------------------------- | --------------------------------------------------------------------------------- | -------------------------------------------------- |\n",
    "| **Core EHR Platform**       | Epic (e.g., Hyperspace, MyChart, Chronicles DB)                                   | Millennium, PowerChart, HealtheIntent              |\n",
    "| **Cloud Strategy**          | Historically on-premise; moving to cloud via partnerships (e.g., Microsoft Azure) | Transitioning to Oracle Cloud Infrastructure (OCI) |\n",
    "| **Programming Language**    | MUMPS/Caché-based backend                                                         | Mostly CCL (Cerner Command Language) + Oracle tech |\n",
    "| **Third-Party Integration** | Controlled API access (Epic App Orchard)                                          | More open historically; evolving under Oracle      |"
   ]
  }
 ],
 "metadata": {
  "kernelspec": {
   "display_name": "Python 3 (ipykernel)",
   "language": "python",
   "name": "python3"
  },
  "language_info": {
   "codemirror_mode": {
    "name": "ipython",
    "version": 3
   },
   "file_extension": ".py",
   "mimetype": "text/x-python",
   "name": "python",
   "nbconvert_exporter": "python",
   "pygments_lexer": "ipython3",
   "version": "3.12.3"
  }
 },
 "nbformat": 4,
 "nbformat_minor": 5
}
