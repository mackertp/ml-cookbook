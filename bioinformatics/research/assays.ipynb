{
 "cells": [
  {
   "cell_type": "markdown",
   "id": "9df07161-8a0c-47e7-964c-dfea6c04b821",
   "metadata": {},
   "source": [
    "# Biological Processes and Assays\n",
    "\n",
    "[HOW !?](https://youtu.be/6uByLiaO-pw?si=Q6Yz-cqGPN78h1Pp)\n",
    "\n",
    "[Continue testing processes](https://en.wikipedia.org/wiki/Bioassay)..."
   ]
  }
 ],
 "metadata": {
  "kernelspec": {
   "display_name": "Python 3 (ipykernel)",
   "language": "python",
   "name": "python3"
  },
  "language_info": {
   "codemirror_mode": {
    "name": "ipython",
    "version": 3
   },
   "file_extension": ".py",
   "mimetype": "text/x-python",
   "name": "python",
   "nbconvert_exporter": "python",
   "pygments_lexer": "ipython3",
   "version": "3.12.3"
  }
 },
 "nbformat": 4,
 "nbformat_minor": 5
}
