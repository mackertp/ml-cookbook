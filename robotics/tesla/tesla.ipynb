{
 "cells": [
  {
   "cell_type": "markdown",
   "metadata": {},
   "source": [
    "<img\n",
    "src='https://upload.wikimedia.org/wikipedia/commons/thumb/e/e8/Tesla_logo.png/1200px-Tesla_logo.png'\n",
    "    width='300px'\n",
    "/>\n",
    "\n",
    "[**Tesla**...](https://www.youtube.com/watch?v=WYnOGAvQEgk) "
   ]
  }
 ],
 "metadata": {
  "language_info": {
   "name": "python"
  }
 },
 "nbformat": 4,
 "nbformat_minor": 2
}
