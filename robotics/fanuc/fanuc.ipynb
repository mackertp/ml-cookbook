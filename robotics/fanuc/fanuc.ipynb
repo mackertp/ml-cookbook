{
 "cells": [
  {
   "cell_type": "markdown",
   "id": "b05e0723-77f9-4796-b5c1-1c7466e2af4f",
   "metadata": {},
   "source": [
    "<img\n",
    "src='https://www.productivity.com/wp-content/uploads/2015/03/FANUCLogo_VendorPage.jpg'\n",
    "    width='300px'\n",
    "/>\n",
    "\n",
    "**Fanuc Robotics** is a Japanese company founded in 1956 that specializes in industrial robots and CNC controls. \n",
    "\n",
    "They have a significant presence in manufacturing, offering flexible software to companies such as [Tesla](https://www.youtube.com/watch?v=XSojNSwAb7I) so that their robots can be integrated into custom processes designed to operate at scale.\n",
    "\n",
    "Fanuc's [US headquarters](https://www.fanucamerica.com/about-us/locations/headquarters-rochester-hills-michigan) are in Rochester Hills, MI."
   ]
  },
  {
   "cell_type": "markdown",
   "id": "91958120-b114-460d-9892-180dba7c4a4a",
   "metadata": {},
   "source": [
    "# API\n",
    "\n",
    "There is a [Python API](https://github.com/torayeff/fanucpy/tree/main) available that provides two core capabilities:\n",
    "1. Robot interface code written in Python programming language\n",
    "2. A FANUC robot controller driver (tested with R-30iB Mate Plus Controller) written in KAREL and FANUC teach pendant languages"
   ]
  },
  {
   "cell_type": "code",
   "execution_count": null,
   "id": "b4452e7b-ff8c-4ca2-987c-856e738abd42",
   "metadata": {},
   "outputs": [],
   "source": [
    "from fanucpy import Robot"
   ]
  },
  {
   "cell_type": "markdown",
   "id": "f5980319-cca0-4d70-a49f-2e0ba1c7b156",
   "metadata": {},
   "source": [
    "# Robot Configuration\n",
    "\n",
    "[Instruction Guide](https://github.com/torayeff/fanucpy/blob/main/fanuc.md)"
   ]
  },
  {
   "cell_type": "code",
   "execution_count": null,
   "id": "20c61363-779f-4c72-949f-ff6c5733cb86",
   "metadata": {},
   "outputs": [],
   "source": [
    "robot = Robot(\n",
    "    robot_model='Fanuc',\n",
    "    host='192.168.1.100',\n",
    "    port=18735,\n",
    "    ee_DO_type='RDO',\n",
    "    ee_DO_num=7,\n",
    ")"
   ]
  },
  {
   "cell_type": "markdown",
   "id": "9f1d0b20-7181-43e4-a965-2822940b3078",
   "metadata": {},
   "source": [
    "### Validation Testing"
   ]
  },
  {
   "cell_type": "code",
   "execution_count": null,
   "id": "feb21ffb-41a3-4894-bee8-559b636aef54",
   "metadata": {},
   "outputs": [],
   "source": [
    "robot.connect()"
   ]
  },
  {
   "cell_type": "markdown",
   "id": "16ce820f-caec-4ffc-bd1b-ebeec846b12d",
   "metadata": {},
   "source": [
    "### Moving"
   ]
  },
  {
   "cell_type": "code",
   "execution_count": null,
   "id": "55e1d99c-8462-4be6-842a-a063a017033f",
   "metadata": {},
   "outputs": [],
   "source": [
    "# move in joint space\n",
    "robot.move(\n",
    "    'joint',\n",
    "    vals = [\n",
    "        19.0, \n",
    "        66.0, \n",
    "        -33.0, \n",
    "        18.0, \n",
    "        -30.0, \n",
    "        -33.0\n",
    "    ],\n",
    "    velocity=100,\n",
    "    acceleration=100,\n",
    "    cnt_val=0,\n",
    "    linear=False\n",
    ")\n",
    "\n",
    "# move in cartesian space\n",
    "robot.move(\n",
    "    'pose',\n",
    "    vals = [\n",
    "        0.0, \n",
    "        -28.0, \n",
    "        -35.0, \n",
    "        0.0, \n",
    "        -55.0, \n",
    "        0.0\n",
    "    ],\n",
    "    velocity=50,\n",
    "    acceleration=50,\n",
    "    cnt_val=0,\n",
    "    linear=False\n",
    ")"
   ]
  },
  {
   "cell_type": "markdown",
   "id": "c5cc8f61-256f-4898-94d8-7ab67596ac34",
   "metadata": {},
   "source": [
    "### Open / Close Grip"
   ]
  },
  {
   "cell_type": "code",
   "execution_count": null,
   "id": "b2424c2b-1a84-45fe-97bf-cd8fcb8f87e0",
   "metadata": {},
   "outputs": [],
   "source": [
    "# open gripper\n",
    "robot.gripper(True)"
   ]
  },
  {
   "cell_type": "code",
   "execution_count": null,
   "id": "f63ef5db-d7dc-464b-8e88-51068688881e",
   "metadata": {},
   "outputs": [],
   "source": [
    "# close gripper\n",
    "robot.gripper(False)"
   ]
  },
  {
   "cell_type": "markdown",
   "id": "ece5f0ea-33b6-45f9-92d6-35beb8640f7c",
   "metadata": {},
   "source": [
    "### Query Robot State"
   ]
  },
  {
   "cell_type": "code",
   "execution_count": null,
   "id": "c434f23f-02cf-4846-bb81-8bbe0e76929a",
   "metadata": {},
   "outputs": [],
   "source": [
    "# get robot state\n",
    "print(f'Current pose: {robot.get_curpos()}')\n",
    "print(f'Current joints: {robot.get_curjpos()}')\n",
    "print(f'Instantaneous power: {robot.get_ins_power()}')\n",
    "print(f'Get gripper state: {robot.get_rdo(7)}')"
   ]
  },
  {
   "cell_type": "markdown",
   "id": "a60b2ded-edf1-4f91-b37f-ad84f7358ec7",
   "metadata": {},
   "source": [
    "### Call Program"
   ]
  },
  {
   "cell_type": "code",
   "execution_count": null,
   "id": "fc5349c7-9bf0-4ab6-af44-9cf38e82e5d1",
   "metadata": {},
   "outputs": [],
   "source": [
    "robot.call_prog(prog_name)"
   ]
  },
  {
   "cell_type": "markdown",
   "id": "6e594b9b-ad94-4871-9fd9-1eb2a202e5df",
   "metadata": {},
   "source": [
    "### Get/Set RDO"
   ]
  },
  {
   "cell_type": "code",
   "execution_count": null,
   "id": "03f5f020-8e66-4816-880a-73a5f5d3cb8a",
   "metadata": {},
   "outputs": [],
   "source": [
    "robot.get_rdo(rdo_num=7)\n",
    "robot.set_rdo(rdo_num=7, value=True)"
   ]
  },
  {
   "cell_type": "markdown",
   "id": "b01e1a63-ff55-4a69-835f-d1d54dca1c5e",
   "metadata": {},
   "source": [
    "### Get/Set DOUT"
   ]
  },
  {
   "cell_type": "code",
   "execution_count": null,
   "id": "5c5d5ea1-2086-4033-9dd2-d79974724597",
   "metadata": {},
   "outputs": [],
   "source": [
    "robot.get_rdo(dout_num=1)\n",
    "robot.set_rdo(dout_num=1, value=True)"
   ]
  }
 ],
 "metadata": {
  "kernelspec": {
   "display_name": "Python 3 (ipykernel)",
   "language": "python",
   "name": "python3"
  },
  "language_info": {
   "codemirror_mode": {
    "name": "ipython",
    "version": 3
   },
   "file_extension": ".py",
   "mimetype": "text/x-python",
   "name": "python",
   "nbconvert_exporter": "python",
   "pygments_lexer": "ipython3",
   "version": "3.10.10"
  }
 },
 "nbformat": 4,
 "nbformat_minor": 5
}
